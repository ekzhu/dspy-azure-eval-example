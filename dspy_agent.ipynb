{
 "cells": [
  {
   "cell_type": "markdown",
   "id": "58ff02b0",
   "metadata": {},
   "source": [
    "# DSPy Agent Example with Azure OpenAI"
   ]
  },
  {
   "cell_type": "code",
   "execution_count": 1,
   "id": "70d485a9",
   "metadata": {},
   "outputs": [],
   "source": [
    "import os\n",
    "from dotenv import load_dotenv\n",
    "from azure.identity import DefaultAzureCredential, get_bearer_token_provider\n",
    "import dspy\n",
    "import ujson\n",
    "import random\n",
    "import dspy.evaluate\n",
    "import dspy.retrievers\n",
    "import dspy.datasets\n",
    "from datasets import load_dataset"
   ]
  },
  {
   "cell_type": "code",
   "execution_count": 28,
   "id": "06f6330e",
   "metadata": {},
   "outputs": [
    {
     "data": {
      "text/plain": [
       "True"
      ]
     },
     "execution_count": 28,
     "metadata": {},
     "output_type": "execute_result"
    }
   ],
   "source": [
    "# Load environment variables from .env file\n",
    "load_dotenv()"
   ]
  },
  {
   "cell_type": "markdown",
   "id": "223a55c4",
   "metadata": {},
   "source": [
    "## Setup Tracing with MLFlow"
   ]
  },
  {
   "cell_type": "code",
   "execution_count": 3,
   "id": "11b03b2a",
   "metadata": {},
   "outputs": [],
   "source": [
    "import mlflow\n",
    "\n",
    "mlflow.set_tracking_uri(\"http://localhost:5000\")\n",
    "mlflow.set_experiment(\"DSPy-Azure-Eval-Example\")\n",
    "\n",
    "# Enable tracing.\n",
    "mlflow.dspy.autolog()"
   ]
  },
  {
   "cell_type": "markdown",
   "id": "8cd41816",
   "metadata": {},
   "source": [
    "## Setup LM models"
   ]
  },
  {
   "cell_type": "code",
   "execution_count": 32,
   "id": "00bb714c",
   "metadata": {},
   "outputs": [],
   "source": [
    "token_provider = get_bearer_token_provider(DefaultAzureCredential(), \"https://cognitiveservices.azure.com/.default\")\n",
    "\n",
    "gpt41 = dspy.LM(\n",
    "    model=f\"azure/gpt-4.1\",\n",
    "    base_url=os.environ[\"AZURE_OPENAI_ENDPOINT\"],\n",
    "    api_version=os.environ[\"AZURE_OPENAI_API_VERSION\"],\n",
    "    azure_ad_token_provider=token_provider,\n",
    ")\n",
    "\n",
    "gpt4omini = dspy.LM(\n",
    "    model=f\"azure/gpt-4o-mini\",\n",
    "    base_url=os.environ[\"AZURE_OPENAI_ENDPOINT\"],\n",
    "    api_version=os.environ[\"AZURE_OPENAI_API_VERSION\"],\n",
    "    azure_ad_token_provider=token_provider,\n",
    ")\n",
    "\n",
    "# Use the mini model as the default for DSPy.\n",
    "dspy.configure(lm=gpt4omini)"
   ]
  },
  {
   "cell_type": "code",
   "execution_count": 5,
   "id": "8066f626",
   "metadata": {},
   "outputs": [
    {
     "data": {
      "text/plain": [
       "['Hello, world! 🌍']"
      ]
     },
     "execution_count": 5,
     "metadata": {},
     "output_type": "execute_result"
    },
    {
     "data": {
      "text/html": [
       "\n",
       "<div>\n",
       "  <style scoped>\n",
       "  button {\n",
       "    border: none;\n",
       "    border-radius: 4px;\n",
       "    background-color: rgb(34, 114, 180);\n",
       "    font-family: -apple-system, \"system-ui\", \"Segoe UI\", Roboto, \"Helvetica Neue\", Arial;\n",
       "    font-size: 13px;\n",
       "    color: white;\n",
       "    margin-top: 8px;\n",
       "    margin-bottom: 8px;\n",
       "    padding: 8px 16px;\n",
       "    cursor: pointer;\n",
       "  }\n",
       "  button:hover {\n",
       "    background-color: rgb(66, 153, 224);\n",
       "  }\n",
       "  </style>\n",
       "  <button\n",
       "    onclick=\"\n",
       "        const display = this.nextElementSibling.style.display;\n",
       "        const isCollapsed = display === 'none';\n",
       "        this.nextElementSibling.style.display = isCollapsed ? null : 'none';\n",
       "\n",
       "        const verb = isCollapsed ? 'Collapse' : 'Expand';\n",
       "        this.innerText = `${verb} MLflow Trace`;\n",
       "    \"\n",
       "  >Collapse MLflow Trace</button>\n",
       "  <iframe\n",
       "    id=\"trace-renderer\"\n",
       "    style=\"width: 100%; height: 500px; border: none; resize: vertical;\"\n",
       "    src=\"http://localhost:5000/static-files/lib/notebook-trace-renderer/index.html?trace_id=d8216d81f231485a91f23aa62c81f008&amp;experiment_id=754260582185799111&amp;version=3.1.1\"\n",
       "  />\n",
       "</div>\n"
      ],
      "text/plain": [
       "Trace(trace_id=d8216d81f231485a91f23aa62c81f008)"
      ]
     },
     "metadata": {},
     "output_type": "display_data"
    }
   ],
   "source": [
    "gpt41(\"Say hello to the world!\")"
   ]
  },
  {
   "cell_type": "code",
   "execution_count": 33,
   "id": "a815e333",
   "metadata": {},
   "outputs": [
    {
     "data": {
      "text/plain": [
       "['Hello, world! 🌍✨ How can I assist you today?']"
      ]
     },
     "execution_count": 33,
     "metadata": {},
     "output_type": "execute_result"
    },
    {
     "data": {
      "text/html": [
       "\n",
       "<div>\n",
       "  <style scoped>\n",
       "  button {\n",
       "    border: none;\n",
       "    border-radius: 4px;\n",
       "    background-color: rgb(34, 114, 180);\n",
       "    font-family: -apple-system, \"system-ui\", \"Segoe UI\", Roboto, \"Helvetica Neue\", Arial;\n",
       "    font-size: 13px;\n",
       "    color: white;\n",
       "    margin-top: 8px;\n",
       "    margin-bottom: 8px;\n",
       "    padding: 8px 16px;\n",
       "    cursor: pointer;\n",
       "  }\n",
       "  button:hover {\n",
       "    background-color: rgb(66, 153, 224);\n",
       "  }\n",
       "  </style>\n",
       "  <button\n",
       "    onclick=\"\n",
       "        const display = this.nextElementSibling.style.display;\n",
       "        const isCollapsed = display === 'none';\n",
       "        this.nextElementSibling.style.display = isCollapsed ? null : 'none';\n",
       "\n",
       "        const verb = isCollapsed ? 'Collapse' : 'Expand';\n",
       "        this.innerText = `${verb} MLflow Trace`;\n",
       "    \"\n",
       "  >Collapse MLflow Trace</button>\n",
       "  <iframe\n",
       "    id=\"trace-renderer\"\n",
       "    style=\"width: 100%; height: 500px; border: none; resize: vertical;\"\n",
       "    src=\"http://localhost:5000/static-files/lib/notebook-trace-renderer/index.html?trace_id=4d6a0f7b69e74152860dfa9754ad3592&amp;experiment_id=754260582185799111&amp;version=3.1.1\"\n",
       "  />\n",
       "</div>\n"
      ],
      "text/plain": [
       "Trace(trace_id=4d6a0f7b69e74152860dfa9754ad3592)"
      ]
     },
     "metadata": {},
     "output_type": "display_data"
    }
   ],
   "source": [
    "gpt4omini(\"Say hello to the world!\")"
   ]
  },
  {
   "cell_type": "markdown",
   "id": "b4843cb5",
   "metadata": {},
   "source": [
    "## Load HoVer multi-hop QA datasets"
   ]
  },
  {
   "cell_type": "code",
   "execution_count": null,
   "id": "6eec26f3",
   "metadata": {},
   "outputs": [
    {
     "data": {
      "application/vnd.jupyter.widget-view+json": {
       "model_id": "d61d3f23d72c47728c208593edd6a1d9",
       "version_major": 2,
       "version_minor": 0
      },
      "text/plain": [
       "0000.parquet:   0%|          | 0.00/2.25M [00:00<?, ?B/s]"
      ]
     },
     "metadata": {},
     "output_type": "display_data"
    },
    {
     "data": {
      "application/vnd.jupyter.widget-view+json": {
       "model_id": "a6b64283c8fe4497ab384048b0761e64",
       "version_major": 2,
       "version_minor": 0
      },
      "text/plain": [
       "0000.parquet:   0%|          | 0.00/751k [00:00<?, ?B/s]"
      ]
     },
     "metadata": {},
     "output_type": "display_data"
    },
    {
     "data": {
      "application/vnd.jupyter.widget-view+json": {
       "model_id": "7d03c9bdb385437f91f8467983d921ba",
       "version_major": 2,
       "version_minor": 0
      },
      "text/plain": [
       "0000.parquet:   0%|          | 0.00/552k [00:00<?, ?B/s]"
      ]
     },
     "metadata": {},
     "output_type": "display_data"
    },
    {
     "data": {
      "application/vnd.jupyter.widget-view+json": {
       "model_id": "77c59b293bb14535befa850d37132dd0",
       "version_major": 2,
       "version_minor": 0
      },
      "text/plain": [
       "Generating train split: 0 examples [00:00, ? examples/s]"
      ]
     },
     "metadata": {},
     "output_type": "display_data"
    },
    {
     "data": {
      "application/vnd.jupyter.widget-view+json": {
       "model_id": "299a5afd3f2d4d5fbafc39d19ec80102",
       "version_major": 2,
       "version_minor": 0
      },
      "text/plain": [
       "Generating validation split: 0 examples [00:00, ? examples/s]"
      ]
     },
     "metadata": {},
     "output_type": "display_data"
    },
    {
     "data": {
      "application/vnd.jupyter.widget-view+json": {
       "model_id": "ceadd11997e44242a9fe186a523ba4a5",
       "version_major": 2,
       "version_minor": 0
      },
      "text/plain": [
       "Generating test split: 0 examples [00:00, ? examples/s]"
      ]
     },
     "metadata": {},
     "output_type": "display_data"
    }
   ],
   "source": [
    "# Load HoVer dataset using parquet files (avoiding deprecated script)\n",
    "from datasets import load_dataset\n",
    "\n",
    "try:\n",
    "    # Try loading using parquet files which should be available\n",
    "    dataset = load_dataset(\"parquet\", data_files={\n",
    "        \"train\": \"hf://datasets/hover-nlp/hover/train-00000-of-00001.parquet\"\n",
    "    })\n",
    "    hover_train = dataset[\"train\"]\n",
    "except:\n",
    "    # Fallback: Load using the dataset name with revision\n",
    "    dataset = load_dataset(\"hover-nlp/hover\", revision=\"refs/convert/parquet\")\n",
    "    hover_train = dataset[\"train\"]\n",
    "\n",
    "# Convert to DSPy examples\n",
    "hover = []\n",
    "hpqa_ids = set()\n",
    "\n",
    "for x in hover_train:\n",
    "    if x[\"num_hops\"] == 3 and x[\"hpqa_id\"] not in hpqa_ids:\n",
    "        hpqa_ids.add(x[\"hpqa_id\"])\n",
    "        titles = list(set([y[\"key\"] for y in x[\"supporting_facts\"]]))\n",
    "        hover.append(\n",
    "            dspy.Example(claim=x[\"claim\"], titles=titles).with_inputs(\"claim\")\n",
    "        )\n",
    "\n",
    "random.Random(0).shuffle(hover)\n",
    "trainset, devset, testset = hover[:100], hover[100:200], hover[650:]"
   ]
  },
  {
   "cell_type": "code",
   "execution_count": 8,
   "id": "2d8c2a40",
   "metadata": {},
   "outputs": [
    {
     "data": {
      "text/plain": [
       "(100, 100, 1216)"
      ]
     },
     "execution_count": 8,
     "metadata": {},
     "output_type": "execute_result"
    }
   ],
   "source": [
    "len(trainset), len(devset), len(testset)"
   ]
  },
  {
   "cell_type": "code",
   "execution_count": 9,
   "id": "7b699da0",
   "metadata": {},
   "outputs": [
    {
     "data": {
      "text/plain": [
       "Example({'claim': 'This director is known for his work on Miss Potter. The Academy of Motion Picture Arts and Sciences presents the award in which he was nominated for his work in \"Babe\".', 'titles': ['Academy Award for Best Director', 'Chris Noonan', 'Miss Potter']}) (input_keys={'claim'})"
      ]
     },
     "execution_count": 9,
     "metadata": {},
     "output_type": "execute_result"
    }
   ],
   "source": [
    "trainset[0]"
   ]
  },
  {
   "cell_type": "markdown",
   "id": "5df25f4f",
   "metadata": {},
   "source": [
    "## Tools for agent"
   ]
  },
  {
   "cell_type": "code",
   "execution_count": 10,
   "id": "fd0b9d91",
   "metadata": {},
   "outputs": [],
   "source": [
    "DOCS = {}\n",
    "\n",
    "def search(query: str, k: int) -> list[str]:\n",
    "    results = dspy.ColBERTv2(url='http://20.102.90.50:2017/wiki17_abstracts')(query, k=k)\n",
    "    results = [x['text'] for x in results]\n",
    "\n",
    "    for result in results:\n",
    "        title, text = result.split(\" | \", 1)\n",
    "        DOCS[title] = text\n",
    "\n",
    "    return results"
   ]
  },
  {
   "cell_type": "code",
   "execution_count": 11,
   "id": "ae24f221",
   "metadata": {},
   "outputs": [],
   "source": [
    "def search_wikipedia(query: str) -> list[str]:\n",
    "    \"\"\"Returns top-5 results and then the titles of the top-5 to top-30 results.\"\"\"\n",
    "\n",
    "    topK = search(query, 30)\n",
    "    titles, topK = [f\"`{x.split(' | ')[0]}`\" for x in topK[5:30]], topK[:5]\n",
    "    return topK + [f\"Other retrieved pages have titles: {', '.join(titles)}.\"]\n",
    "\n",
    "def lookup_wikipedia(title: str) -> str:\n",
    "    \"\"\"Returns the text of the Wikipedia page, if it exists.\"\"\"\n",
    "\n",
    "    if title in DOCS:\n",
    "        return DOCS[title]\n",
    "\n",
    "    results = [x for x in search(title, 10) if x.startswith(title + \" | \")]\n",
    "    if not results:\n",
    "        return f\"No Wikipedia page found for title: {title}\"\n",
    "    return results[0]"
   ]
  },
  {
   "cell_type": "code",
   "execution_count": 12,
   "id": "a74ebb47",
   "metadata": {},
   "outputs": [
    {
     "data": {
      "text/plain": [
       "['Albert Einstein | Albert Einstein (14 March 1879 – 18 April 1955) was a German-born theoretical physicist. Einstein developed the theory of relativity, one of the two pillars of modern physics (alongside quantum mechanics). Einstein\\'s work is also known for its influence on the philosophy of science. Einstein is best known by the general public for his mass–energy equivalence formula \"E\" = \"mc\" (which has been dubbed \"the world\\'s most famous equation\"). He received the 1921 Nobel Prize in Physics \"for his services to theoretical physics, and especially for his discovery of the law of the photoelectric effect\", a pivotal step in the evolution of quantum theory.',\n",
       " 'Einstein (disambiguation) | Albert Einstein (1879–1955) was a German-born theoretical physicist.',\n",
       " 'Hans Albert Einstein | Hans Albert Einstein ( ; May 14, 1904 – July 26, 1973) was a Swiss-American engineer and educator, the second child and first son of Albert Einstein and Mileva Marić. Hans A. Einstein was a professor of Hydraulic Engineering at the University of California, Berkeley, and was recognized for his research on sediment transport. His papers are held at the Water Resources Collections and Archives in the University of California, Riverside Libraries and in the University of Iowa Libraries Special Collections and Archives.',\n",
       " 'Albert Einstein (disambiguation) | Albert Einstein was a noted German-born theoretical physicist.',\n",
       " 'Charles Einstein | Charles Einstein (August 2, 1926 – March 7, 2007) was a newspaperman and sportswriter. He was also the author of the novel \"The Bloody Spur\", on which the film \"While the City Sleeps\" by Fritz Lang was based. His father was the comedian Harry Einstein. He is the older half-brother of comedic actors Albert Brooks and Bob Einstein, better known by his stage name \"Super Dave Osborne\".',\n",
       " \"Other retrieved pages have titles: `Bernhard Caesar Einstein`, `Arik Einstein`, `Alfred Einstein`, `Political views of Albert Einstein`, `Carl Einstein`, `Einstein's awards and honors`, `Edwin Einstein`, `Meir Einstein`, `Thomas Martin Einstein`, `Leopold Einstein`, `Lewis Einstein`, `Moshe Carmeli`, `Einstein's Blackboard`, `Albert Einstein World Award of Science`, `Albert Einstein's brain`, `Hans Einstein`, `Einstein Gargoyle`, `Harry Einstein`, `Albert Einstein Memorial`, `Albert Einstein (album)`, `Albert Brooks`, `Albert Einstein Society`, `Siegfried Einstein`, `Einstein and Eddington`, `Albert Einstein College of Medicine`.\"]"
      ]
     },
     "execution_count": 12,
     "metadata": {},
     "output_type": "execute_result"
    }
   ],
   "source": [
    "search_wikipedia(\"Albert Einstein\")"
   ]
  },
  {
   "cell_type": "code",
   "execution_count": 13,
   "id": "26299f8e",
   "metadata": {},
   "outputs": [
    {
     "data": {
      "text/plain": [
       "'Albert Einstein (14 March 1879 – 18 April 1955) was a German-born theoretical physicist. Einstein developed the theory of relativity, one of the two pillars of modern physics (alongside quantum mechanics). Einstein\\'s work is also known for its influence on the philosophy of science. Einstein is best known by the general public for his mass–energy equivalence formula \"E\" = \"mc\" (which has been dubbed \"the world\\'s most famous equation\"). He received the 1921 Nobel Prize in Physics \"for his services to theoretical physics, and especially for his discovery of the law of the photoelectric effect\", a pivotal step in the evolution of quantum theory.'"
      ]
     },
     "execution_count": 13,
     "metadata": {},
     "output_type": "execute_result"
    }
   ],
   "source": [
    "lookup_wikipedia(\"Albert Einstein\")"
   ]
  },
  {
   "cell_type": "markdown",
   "id": "91f1c2b7",
   "metadata": {},
   "source": [
    "## Define DSPy agent using `dspy.ReAct`"
   ]
  },
  {
   "cell_type": "code",
   "execution_count": 34,
   "id": "c4dd7e08",
   "metadata": {},
   "outputs": [],
   "source": [
    "instructions = \"Find all Wikipedia titles relevant to verifying (or refuting) the claim.\"\n",
    "signature = dspy.Signature(\"claim -> titles: list[str]\", instructions)\n",
    "react = dspy.ReAct(signature, tools=[search_wikipedia, lookup_wikipedia], max_iters=20)"
   ]
  },
  {
   "cell_type": "code",
   "execution_count": 35,
   "id": "037be09a",
   "metadata": {},
   "outputs": [
    {
     "data": {
      "text/plain": [
       "['David Gregory (physician)',\n",
       " 'David Gregory (historian)',\n",
       " 'David Gregory (mathematician)']"
      ]
     },
     "execution_count": 35,
     "metadata": {},
     "output_type": "execute_result"
    },
    {
     "data": {
      "text/html": [
       "\n",
       "<div>\n",
       "  <style scoped>\n",
       "  button {\n",
       "    border: none;\n",
       "    border-radius: 4px;\n",
       "    background-color: rgb(34, 114, 180);\n",
       "    font-family: -apple-system, \"system-ui\", \"Segoe UI\", Roboto, \"Helvetica Neue\", Arial;\n",
       "    font-size: 13px;\n",
       "    color: white;\n",
       "    margin-top: 8px;\n",
       "    margin-bottom: 8px;\n",
       "    padding: 8px 16px;\n",
       "    cursor: pointer;\n",
       "  }\n",
       "  button:hover {\n",
       "    background-color: rgb(66, 153, 224);\n",
       "  }\n",
       "  </style>\n",
       "  <button\n",
       "    onclick=\"\n",
       "        const display = this.nextElementSibling.style.display;\n",
       "        const isCollapsed = display === 'none';\n",
       "        this.nextElementSibling.style.display = isCollapsed ? null : 'none';\n",
       "\n",
       "        const verb = isCollapsed ? 'Collapse' : 'Expand';\n",
       "        this.innerText = `${verb} MLflow Trace`;\n",
       "    \"\n",
       "  >Collapse MLflow Trace</button>\n",
       "  <iframe\n",
       "    id=\"trace-renderer\"\n",
       "    style=\"width: 100%; height: 500px; border: none; resize: vertical;\"\n",
       "    src=\"http://localhost:5000/static-files/lib/notebook-trace-renderer/index.html?trace_id=6894d0db15d248da926ee2233467a561&amp;experiment_id=754260582185799111&amp;version=3.1.1\"\n",
       "  />\n",
       "</div>\n"
      ],
      "text/plain": [
       "Trace(trace_id=6894d0db15d248da926ee2233467a561)"
      ]
     },
     "metadata": {},
     "output_type": "display_data"
    }
   ],
   "source": [
    "react(claim=\"David Gregory was born in 1625.\").titles[:3]"
   ]
  },
  {
   "cell_type": "markdown",
   "id": "1d5324a0",
   "metadata": {},
   "source": [
    "## Evaluate the agent"
   ]
  },
  {
   "cell_type": "code",
   "execution_count": 36,
   "id": "a84c52e9",
   "metadata": {},
   "outputs": [],
   "source": [
    "def top5_recall(example, pred, trace=None):\n",
    "    gold_titles = example.titles\n",
    "    recall = sum(x in pred.titles[:5] for x in gold_titles) / len(gold_titles)\n",
    "\n",
    "    # If we're \"bootstrapping\" for optimization, return True if and only if the recall is perfect.\n",
    "    if trace is not None:\n",
    "        return recall >= 1.0\n",
    "    \n",
    "    # If we're just doing inference, just measure the recall.\n",
    "    return recall\n",
    "\n",
    "evaluate = dspy.Evaluate(devset=devset, metric=top5_recall, num_threads=16, display_progress=True, display_table=5)"
   ]
  },
  {
   "cell_type": "code",
   "execution_count": 37,
   "id": "2eb71d06",
   "metadata": {},
   "outputs": [
    {
     "name": "stdout",
     "output_type": "stream",
     "text": [
      "Average Metric: 77.00 / 100 (77.0%): 100%|██████████| 100/100 [02:39<00:00,  1.59s/it]"
     ]
    },
    {
     "name": "stderr",
     "output_type": "stream",
     "text": [
      "2025/07/13 19:26:10 INFO dspy.evaluate.evaluate: Average Metric: 77.0 / 100 (77.0%)\n"
     ]
    },
    {
     "name": "stdout",
     "output_type": "stream",
     "text": [
      "\n"
     ]
    },
    {
     "data": {
      "text/html": [
       "<div>\n",
       "<style scoped>\n",
       "    .dataframe tbody tr th:only-of-type {\n",
       "        vertical-align: middle;\n",
       "    }\n",
       "\n",
       "    .dataframe tbody tr th {\n",
       "        vertical-align: top;\n",
       "    }\n",
       "\n",
       "    .dataframe thead th {\n",
       "        text-align: right;\n",
       "    }\n",
       "</style>\n",
       "<table border=\"1\" class=\"dataframe\">\n",
       "  <thead>\n",
       "    <tr style=\"text-align: right;\">\n",
       "      <th></th>\n",
       "      <th>claim</th>\n",
       "      <th>example_titles</th>\n",
       "      <th>trajectory</th>\n",
       "      <th>reasoning</th>\n",
       "      <th>pred_titles</th>\n",
       "      <th>top5_recall</th>\n",
       "    </tr>\n",
       "  </thead>\n",
       "  <tbody>\n",
       "    <tr>\n",
       "      <th>0</th>\n",
       "      <td>The Church of England's movement that inspired the Trinity Episcop...</td>\n",
       "      <td>[Oxford Movement, Trinity Episcopal Church (Houghton, Michigan), S...</td>\n",
       "      <td>{'thought_0': \"I need to gather information about the Church of En...</td>\n",
       "      <td>The claim states that the Church of England's movement that inspir...</td>\n",
       "      <td>[Trinity Episcopal Church (Houghton, Michigan), Oxford Movement, S...</td>\n",
       "      <td>✔️ [1.000]</td>\n",
       "    </tr>\n",
       "    <tr>\n",
       "      <th>1</th>\n",
       "      <td>Red, White &amp; Crüe and this athlete both fight. The french fighter ...</td>\n",
       "      <td>[Red, White &amp;amp; Crüe, Mike Tyson, Bobby Stewart]</td>\n",
       "      <td>{'thought_0': 'I need to find information about the athlete mentio...</td>\n",
       "      <td>The claim connects the album \"Red, White &amp; Crüe\" by Mötley Crüe to...</td>\n",
       "      <td>[Bobby Stewart, Mike Tyson, Mötley Crüe, Red, White &amp; Crüe]</td>\n",
       "      <td>✔️ [0.667]</td>\n",
       "    </tr>\n",
       "    <tr>\n",
       "      <th>2</th>\n",
       "      <td>The writer/director/actor from Glen or Glenda and Fernand Rivers s...</td>\n",
       "      <td>[Glen or Glenda, Ed Wood, Fernand Rivers]</td>\n",
       "      <td>{'thought_0': 'I need to verify the claim about the writer/directo...</td>\n",
       "      <td>The claim states that the writer/director/actor from \"Glen or Glen...</td>\n",
       "      <td>[Glen or Glenda, Ed Wood, Fernand Rivers]</td>\n",
       "      <td>✔️ [1.000]</td>\n",
       "    </tr>\n",
       "    <tr>\n",
       "      <th>3</th>\n",
       "      <td>The film by Sandi Sissel was released before The End of Suburbia.</td>\n",
       "      <td>[Chicken Ranch (film), The End of Suburbia, Sandi Sissel]</td>\n",
       "      <td>{'thought_0': 'I need to verify the release date of the film by Sa...</td>\n",
       "      <td>The claim states that a film by Sandi Sissel was released before \"...</td>\n",
       "      <td>[The End of Suburbia, Sandi Sissel]</td>\n",
       "      <td>✔️ [0.667]</td>\n",
       "    </tr>\n",
       "    <tr>\n",
       "      <th>4</th>\n",
       "      <td>The actor who played captain hook in the live production with Tayl...</td>\n",
       "      <td>[Taylor Louderman, Peter Pan Live!, Christopher Walken]</td>\n",
       "      <td>{'thought_0': 'I need to verify the claim about the actor who play...</td>\n",
       "      <td>The claim states that the actor who played Captain Hook in the liv...</td>\n",
       "      <td>[Peter Pan Live!, Christopher Walken, The Deer Hunter]</td>\n",
       "      <td>✔️ [0.667]</td>\n",
       "    </tr>\n",
       "  </tbody>\n",
       "</table>\n",
       "</div>"
      ],
      "text/plain": [
       "                                                                   claim  \\\n",
       "0  The Church of England's movement that inspired the Trinity Episcop...   \n",
       "1  Red, White & Crüe and this athlete both fight. The french fighter ...   \n",
       "2  The writer/director/actor from Glen or Glenda and Fernand Rivers s...   \n",
       "3      The film by Sandi Sissel was released before The End of Suburbia.   \n",
       "4  The actor who played captain hook in the live production with Tayl...   \n",
       "\n",
       "                                                          example_titles  \\\n",
       "0  [Oxford Movement, Trinity Episcopal Church (Houghton, Michigan), S...   \n",
       "1                     [Red, White &amp; Crüe, Mike Tyson, Bobby Stewart]   \n",
       "2                              [Glen or Glenda, Ed Wood, Fernand Rivers]   \n",
       "3              [Chicken Ranch (film), The End of Suburbia, Sandi Sissel]   \n",
       "4                [Taylor Louderman, Peter Pan Live!, Christopher Walken]   \n",
       "\n",
       "                                                              trajectory  \\\n",
       "0  {'thought_0': \"I need to gather information about the Church of En...   \n",
       "1  {'thought_0': 'I need to find information about the athlete mentio...   \n",
       "2  {'thought_0': 'I need to verify the claim about the writer/directo...   \n",
       "3  {'thought_0': 'I need to verify the release date of the film by Sa...   \n",
       "4  {'thought_0': 'I need to verify the claim about the actor who play...   \n",
       "\n",
       "                                                               reasoning  \\\n",
       "0  The claim states that the Church of England's movement that inspir...   \n",
       "1  The claim connects the album \"Red, White & Crüe\" by Mötley Crüe to...   \n",
       "2  The claim states that the writer/director/actor from \"Glen or Glen...   \n",
       "3  The claim states that a film by Sandi Sissel was released before \"...   \n",
       "4  The claim states that the actor who played Captain Hook in the liv...   \n",
       "\n",
       "                                                             pred_titles  \\\n",
       "0  [Trinity Episcopal Church (Houghton, Michigan), Oxford Movement, S...   \n",
       "1            [Bobby Stewart, Mike Tyson, Mötley Crüe, Red, White & Crüe]   \n",
       "2                              [Glen or Glenda, Ed Wood, Fernand Rivers]   \n",
       "3                                    [The End of Suburbia, Sandi Sissel]   \n",
       "4                 [Peter Pan Live!, Christopher Walken, The Deer Hunter]   \n",
       "\n",
       "  top5_recall  \n",
       "0  ✔️ [1.000]  \n",
       "1  ✔️ [0.667]  \n",
       "2  ✔️ [1.000]  \n",
       "3  ✔️ [0.667]  \n",
       "4  ✔️ [0.667]  "
      ]
     },
     "metadata": {},
     "output_type": "display_data"
    },
    {
     "data": {
      "text/html": [
       "\n",
       "            <div style='\n",
       "                text-align: center;\n",
       "                font-size: 16px;\n",
       "                font-weight: bold;\n",
       "                color: #555;\n",
       "                margin: 10px 0;'>\n",
       "                ... 95 more rows not displayed ...\n",
       "            </div>\n",
       "            "
      ],
      "text/plain": [
       "<IPython.core.display.HTML object>"
      ]
     },
     "metadata": {},
     "output_type": "display_data"
    },
    {
     "data": {
      "text/plain": [
       "77.0"
      ]
     },
     "execution_count": 37,
     "metadata": {},
     "output_type": "execute_result"
    },
    {
     "data": {
      "text/html": [
       "\n",
       "<div>\n",
       "  <style scoped>\n",
       "  button {\n",
       "    border: none;\n",
       "    border-radius: 4px;\n",
       "    background-color: rgb(34, 114, 180);\n",
       "    font-family: -apple-system, \"system-ui\", \"Segoe UI\", Roboto, \"Helvetica Neue\", Arial;\n",
       "    font-size: 13px;\n",
       "    color: white;\n",
       "    margin-top: 8px;\n",
       "    margin-bottom: 8px;\n",
       "    padding: 8px 16px;\n",
       "    cursor: pointer;\n",
       "  }\n",
       "  button:hover {\n",
       "    background-color: rgb(66, 153, 224);\n",
       "  }\n",
       "  </style>\n",
       "  <button\n",
       "    onclick=\"\n",
       "        const display = this.nextElementSibling.style.display;\n",
       "        const isCollapsed = display === 'none';\n",
       "        this.nextElementSibling.style.display = isCollapsed ? null : 'none';\n",
       "\n",
       "        const verb = isCollapsed ? 'Collapse' : 'Expand';\n",
       "        this.innerText = `${verb} MLflow Trace`;\n",
       "    \"\n",
       "  >Collapse MLflow Trace</button>\n",
       "  <iframe\n",
       "    id=\"trace-renderer\"\n",
       "    style=\"width: 100%; height: 500px; border: none; resize: vertical;\"\n",
       "    src=\"http://localhost:5000/static-files/lib/notebook-trace-renderer/index.html?trace_id=a85ccc04aa744932aadfa42de1f0c6a5&amp;experiment_id=754260582185799111&amp;trace_id=d2af40140ea142e79970ac3ebcaf2e34&amp;experiment_id=754260582185799111&amp;trace_id=3cf3cb53bc274f2cbf4d525e433f1f40&amp;experiment_id=754260582185799111&amp;trace_id=0b6c72f1e4764126ae74f29d5ab67c60&amp;experiment_id=754260582185799111&amp;trace_id=a9c87dc5be7749f8a9126c48f454fa51&amp;experiment_id=754260582185799111&amp;trace_id=d0229d1954614fbba1eb325ab3e4bdf1&amp;experiment_id=754260582185799111&amp;trace_id=24889d9241b4492b925cf49284aaa13f&amp;experiment_id=754260582185799111&amp;trace_id=9cac4eb76e384e36aafafe87bf682a66&amp;experiment_id=754260582185799111&amp;trace_id=ad554d0a4ed14eb783d18b7cef06e1dd&amp;experiment_id=754260582185799111&amp;trace_id=13570e8fa26340ba9af2ed9a1312ab78&amp;experiment_id=754260582185799111&amp;version=3.1.1\"\n",
       "  />\n",
       "</div>\n"
      ],
      "text/plain": [
       "[Trace(trace_id=a85ccc04aa744932aadfa42de1f0c6a5), Trace(trace_id=d2af40140ea142e79970ac3ebcaf2e34), Trace(trace_id=3cf3cb53bc274f2cbf4d525e433f1f40), Trace(trace_id=0b6c72f1e4764126ae74f29d5ab67c60), Trace(trace_id=a9c87dc5be7749f8a9126c48f454fa51), Trace(trace_id=d0229d1954614fbba1eb325ab3e4bdf1), Trace(trace_id=24889d9241b4492b925cf49284aaa13f), Trace(trace_id=9cac4eb76e384e36aafafe87bf682a66), Trace(trace_id=ad554d0a4ed14eb783d18b7cef06e1dd), Trace(trace_id=13570e8fa26340ba9af2ed9a1312ab78)]"
      ]
     },
     "metadata": {},
     "output_type": "display_data"
    }
   ],
   "source": [
    "# Wrapper to bypass exceptions during evaluation.\n",
    "def safe_react(claim: str):\n",
    "    try:\n",
    "        return react(claim=claim)\n",
    "    except Exception as e:\n",
    "        return dspy.Prediction(titles=[])\n",
    "\n",
    "evaluate(safe_react)"
   ]
  },
  {
   "cell_type": "markdown",
   "id": "a9f5343b",
   "metadata": {},
   "source": [
    "## Optimize the agent"
   ]
  },
  {
   "cell_type": "code",
   "execution_count": 38,
   "id": "b43213fe",
   "metadata": {},
   "outputs": [
    {
     "name": "stderr",
     "output_type": "stream",
     "text": [
      "2025/07/13 19:27:21 INFO dspy.teleprompt.mipro_optimizer_v2: \n",
      "RUNNING WITH THE FOLLOWING MEDIUM AUTO RUN SETTINGS:\n",
      "num_trials: 28\n",
      "minibatch: True\n",
      "num_fewshot_candidates: 12\n",
      "num_instruct_candidates: 6\n",
      "valset size: 80\n",
      "\n"
     ]
    },
    {
     "name": "stdout",
     "output_type": "stream",
     "text": [
      "\u001b[93m\u001b[1mProjected Language Model (LM) Calls\u001b[0m\n",
      "\n",
      "Based on the parameters you have set, the maximum number of LM calls is projected as follows:\n",
      "\n",
      "\u001b[93m- Prompt Generation: \u001b[94m\u001b[1m10\u001b[0m\u001b[93m data summarizer calls + \u001b[94m\u001b[1m6\u001b[0m\u001b[93m * \u001b[94m\u001b[1m2\u001b[0m\u001b[93m lm calls in program + (\u001b[94m\u001b[1m3\u001b[0m\u001b[93m) lm calls in program-aware proposer = \u001b[94m\u001b[1m25\u001b[0m\u001b[93m prompt model calls\u001b[0m\n",
      "\u001b[93m- Program Evaluation: \u001b[94m\u001b[1m35\u001b[0m\u001b[93m examples in minibatch * \u001b[94m\u001b[1m28\u001b[0m\u001b[93m batches + \u001b[94m\u001b[1m80\u001b[0m\u001b[93m examples in val set * \u001b[94m\u001b[1m6\u001b[0m\u001b[93m full evals = \u001b[94m\u001b[1m1460\u001b[0m\u001b[93m LM Program calls\u001b[0m\n",
      "\n",
      "\u001b[93m\u001b[1mEstimated Cost Calculation:\u001b[0m\n",
      "\n",
      "\u001b[93mTotal Cost = (Number of calls to task model * (Avg Input Token Length per Call * Task Model Price per Input Token + Avg Output Token Length per Call * Task Model Price per Output Token)\n",
      "            + (Number of program calls * (Avg Input Token Length per Call * Task Prompt Price per Input Token + Avg Output Token Length per Call * Prompt Model Price per Output Token).\u001b[0m\n",
      "\n",
      "For a preliminary estimate of potential costs, we recommend you perform your own calculations based on the task\n",
      "and prompt models you intend to use. If the projected costs exceed your budget or expectations, you may consider:\n",
      "\n",
      "\u001b[93m- Reducing the number of trials (`num_trials`), the size of the valset, or the number of LM calls in your program.\u001b[0m\n",
      "\u001b[93m- Using a cheaper task model to optimize the prompt.\u001b[0m\n",
      "\u001b[93m- Setting `minibatch=True` if you haven't already.\u001b[0m\n",
      "\n",
      "To proceed with the execution of this program, please confirm by typing \u001b[94m'y'\u001b[0m for yes or \u001b[94m'n'\u001b[0m for no.\n",
      "If no input is received within 20 seconds, the program will proceed automatically.\n",
      "\n",
      "If you would like to bypass this confirmation step in future executions, set the \u001b[93m`requires_permission_to_run`\u001b[0m flag to \u001b[93m`False`\u001b[0m when calling compile.\n",
      "\n",
      "\u001b[93mAwaiting your input...\u001b[0m\n",
      "\n",
      "Do you wish to continue? (y/n): "
     ]
    },
    {
     "name": "stderr",
     "output_type": "stream",
     "text": [
      "2025/07/13 19:27:41 INFO dspy.teleprompt.mipro_optimizer_v2: \n",
      "==> STEP 1: BOOTSTRAP FEWSHOT EXAMPLES <==\n",
      "2025/07/13 19:27:41 INFO dspy.teleprompt.mipro_optimizer_v2: These will be used as few-shot example candidates for our program and for creating instructions.\n",
      "\n",
      "2025/07/13 19:27:41 INFO dspy.teleprompt.mipro_optimizer_v2: Bootstrapping N=12 sets of demonstrations...\n"
     ]
    },
    {
     "name": "stdout",
     "output_type": "stream",
     "text": [
      "\n",
      "No input received within 20 seconds. Proceeding with execution...\n",
      "Bootstrapping set 1/12\n",
      "Bootstrapping set 2/12\n"
     ]
    },
    {
     "name": "stderr",
     "output_type": "stream",
     "text": [
      " 55%|█████▌    | 11/20 [01:47<01:27,  9.74s/it]\n"
     ]
    },
    {
     "name": "stdout",
     "output_type": "stream",
     "text": [
      "Bootstrapped 3 full traces after 11 examples for up to 1 rounds, amounting to 11 attempts.\n",
      "Bootstrapping set 3/12\n"
     ]
    },
    {
     "name": "stderr",
     "output_type": "stream",
     "text": [
      " 15%|█▌        | 3/20 [00:13<01:16,  4.52s/it]\n"
     ]
    },
    {
     "name": "stdout",
     "output_type": "stream",
     "text": [
      "Bootstrapped 3 full traces after 3 examples for up to 1 rounds, amounting to 3 attempts.\n",
      "Bootstrapping set 4/12\n"
     ]
    },
    {
     "name": "stderr",
     "output_type": "stream",
     "text": [
      " 10%|█         | 2/20 [00:00<00:00, 63.35it/s]\n"
     ]
    },
    {
     "name": "stdout",
     "output_type": "stream",
     "text": [
      "Bootstrapped 1 full traces after 2 examples for up to 1 rounds, amounting to 2 attempts.\n",
      "Bootstrapping set 5/12\n"
     ]
    },
    {
     "name": "stderr",
     "output_type": "stream",
     "text": [
      " 50%|█████     | 10/20 [00:29<00:29,  2.99s/it]\n"
     ]
    },
    {
     "name": "stdout",
     "output_type": "stream",
     "text": [
      "Bootstrapped 3 full traces after 10 examples for up to 1 rounds, amounting to 10 attempts.\n",
      "Bootstrapping set 6/12\n"
     ]
    },
    {
     "name": "stderr",
     "output_type": "stream",
     "text": [
      " 35%|███▌      | 7/20 [00:14<00:26,  2.03s/it]\n"
     ]
    },
    {
     "name": "stdout",
     "output_type": "stream",
     "text": [
      "Bootstrapped 3 full traces after 7 examples for up to 1 rounds, amounting to 7 attempts.\n",
      "Bootstrapping set 7/12\n"
     ]
    },
    {
     "name": "stderr",
     "output_type": "stream",
     "text": [
      " 20%|██        | 4/20 [00:15<01:03,  3.96s/it]\n"
     ]
    },
    {
     "name": "stdout",
     "output_type": "stream",
     "text": [
      "Bootstrapped 3 full traces after 4 examples for up to 1 rounds, amounting to 4 attempts.\n",
      "Bootstrapping set 8/12\n"
     ]
    },
    {
     "name": "stderr",
     "output_type": "stream",
     "text": [
      " 10%|█         | 2/20 [00:00<00:00, 49.77it/s]\n"
     ]
    },
    {
     "name": "stdout",
     "output_type": "stream",
     "text": [
      "Bootstrapped 1 full traces after 2 examples for up to 1 rounds, amounting to 2 attempts.\n",
      "Bootstrapping set 9/12\n"
     ]
    },
    {
     "name": "stderr",
     "output_type": "stream",
     "text": [
      " 35%|███▌      | 7/20 [00:11<00:21,  1.68s/it]\n"
     ]
    },
    {
     "name": "stdout",
     "output_type": "stream",
     "text": [
      "Bootstrapped 3 full traces after 7 examples for up to 1 rounds, amounting to 7 attempts.\n",
      "Bootstrapping set 10/12\n"
     ]
    },
    {
     "name": "stderr",
     "output_type": "stream",
     "text": [
      " 50%|█████     | 10/20 [00:00<00:00, 58.79it/s]\n"
     ]
    },
    {
     "name": "stdout",
     "output_type": "stream",
     "text": [
      "Bootstrapped 3 full traces after 10 examples for up to 1 rounds, amounting to 10 attempts.\n",
      "Bootstrapping set 11/12\n"
     ]
    },
    {
     "name": "stderr",
     "output_type": "stream",
     "text": [
      "  5%|▌         | 1/20 [00:00<00:00, 47.06it/s]\n"
     ]
    },
    {
     "name": "stdout",
     "output_type": "stream",
     "text": [
      "Bootstrapped 1 full traces after 1 examples for up to 1 rounds, amounting to 1 attempts.\n",
      "Bootstrapping set 12/12\n"
     ]
    },
    {
     "name": "stderr",
     "output_type": "stream",
     "text": [
      " 20%|██        | 4/20 [00:06<00:26,  1.64s/it]\n",
      "2025/07/13 19:31:04 INFO dspy.teleprompt.mipro_optimizer_v2: \n",
      "==> STEP 2: PROPOSE INSTRUCTION CANDIDATES <==\n",
      "2025/07/13 19:31:04 INFO dspy.teleprompt.mipro_optimizer_v2: We will use the few-shot examples from the previous step, a generated dataset summary, a summary of the program code, and a randomly selected prompting tip to propose instructions.\n"
     ]
    },
    {
     "name": "stdout",
     "output_type": "stream",
     "text": [
      "Bootstrapped 1 full traces after 4 examples for up to 1 rounds, amounting to 4 attempts.\n",
      "Error getting source code: unhashable type: 'dict'.\n",
      "\n",
      "Running without program aware proposer.\n"
     ]
    },
    {
     "name": "stderr",
     "output_type": "stream",
     "text": [
      "2025/07/13 19:31:12 INFO dspy.teleprompt.mipro_optimizer_v2: \n",
      "Proposing N=6 instructions...\n",
      "\n",
      "2025/07/13 19:31:37 INFO dspy.teleprompt.mipro_optimizer_v2: Proposed Instructions for Predictor 0:\n",
      "\n",
      "2025/07/13 19:31:37 INFO dspy.teleprompt.mipro_optimizer_v2: 0: Find all Wikipedia titles relevant to verifying (or refuting) the claim.\n",
      "\n",
      "You are an Agent. In each episode, you will be given the fields `claim` as input. And you can see your past trajectory so far.\n",
      "Your goal is to use one or more of the supplied tools to collect any necessary information for producing `titles`.\n",
      "\n",
      "To do this, you will interleave next_thought, next_tool_name, and next_tool_args in each turn, and also when finishing the task.\n",
      "After each tool call, you receive a resulting observation, which gets appended to your trajectory.\n",
      "\n",
      "When writing next_thought, you may reason about the current situation and plan for future steps.\n",
      "When selecting the next_tool_name and its next_tool_args, the tool must be one of:\n",
      "\n",
      "(1) search_wikipedia, whose description is <desc>Returns top-5 results and then the titles of the top-5 to top-30 results.</desc>. It takes arguments {'query': {'type': 'string'}}.\n",
      "(2) lookup_wikipedia, whose description is <desc>Returns the text of the Wikipedia page, if it exists.</desc>. It takes arguments {'title': {'type': 'string'}}.\n",
      "(3) finish, whose description is <desc>Marks the task as complete. That is, signals that all information for producing the outputs, i.e. `titles`, are now available to be extracted.</desc>. It takes arguments {}.\n",
      "When providing `next_tool_args`, the value inside the field must be in JSON format\n",
      "\n",
      "2025/07/13 19:31:37 INFO dspy.teleprompt.mipro_optimizer_v2: 1: Given a claim and access to Wikipedia search and lookup tools, identify all Wikipedia page titles that are directly relevant for verifying or refuting the claim. Use the tools as needed to investigate entities, relationships, or facts mentioned in the claim, and reason through multi-step connections when necessary. When you have gathered all pertinent titles, signal completion.\n",
      "\n",
      "2025/07/13 19:31:37 INFO dspy.teleprompt.mipro_optimizer_v2: 2: Given a claim, use the available tools to identify and collect all Wikipedia article titles that are relevant for verifying or refuting the claim. Consider entities, events, or facts mentioned directly or indirectly in the claim, and ensure to cover all necessary aspects (such as people, places, works, awards, or timelines) that would be needed for thorough validation. Output the list of Wikipedia titles most pertinent to assessing the truth of the claim.\n",
      "\n",
      "2025/07/13 19:31:37 INFO dspy.teleprompt.mipro_optimizer_v2: 3: Given a claim and access to Wikipedia search and lookup tools, systematically identify and collect the set of Wikipedia article titles that are directly relevant to verifying or refuting the claim. Your goal is to gather all articles that contain information necessary for logical inference, including those about entities, events, relationships, or concepts referenced explicitly or implicitly in the claim. Use multi-step reasoning to explore indirect connections, resolve anaphoric or ambiguous references, and ensure coverage of all facts or relationships required for a comprehensive evaluation of the claim’s truth. At each step, reason about what information is still needed, select appropriate search or lookup actions, and continue until you have all the relevant titles needed to assess the claim.\n",
      "\n",
      "2025/07/13 19:31:37 INFO dspy.teleprompt.mipro_optimizer_v2: 4: Given a claim and access to search and lookup tools for Wikipedia, iteratively identify and collect all Wikipedia article titles that are directly relevant to verifying or refuting the claim. Use multi-step reasoning to decompose the claim into its components, search for pertinent entities, relationships, or temporal facts, and consult Wikipedia pages as needed. Your goal is to gather a comprehensive list of Wikipedia titles that contain the information necessary to assess the truth of the claim, considering indirect references, anaphoric language, and multi-hop connections across entities. When you have identified all relevant titles, signal task completion.\n",
      "\n",
      "2025/07/13 19:31:37 INFO dspy.teleprompt.mipro_optimizer_v2: 5: Given a claim and access to tools for searching and looking up Wikipedia articles, identify and list all Wikipedia article titles that are directly relevant for verifying or disproving the claim. Use multi-step reasoning and cross-reference information as needed to ensure comprehensive coverage of entities, events, and relationships mentioned or implied in the claim. Consider indirect references, anaphoric language, and the need for multi-hop retrieval. Only stop when you are confident that all necessary Wikipedia titles for a thorough verification or refutation of the claim have been identified.\n",
      "\n",
      "2025/07/13 19:31:37 INFO dspy.teleprompt.mipro_optimizer_v2: \n",
      "\n",
      "2025/07/13 19:31:37 INFO dspy.teleprompt.mipro_optimizer_v2: Proposed Instructions for Predictor 1:\n",
      "\n",
      "2025/07/13 19:31:37 INFO dspy.teleprompt.mipro_optimizer_v2: 0: Find all Wikipedia titles relevant to verifying (or refuting) the claim.\n",
      "\n",
      "2025/07/13 19:31:37 INFO dspy.teleprompt.mipro_optimizer_v2: 1: Given a claim and access to Wikipedia search and lookup tools, carefully identify and list all Wikipedia article titles that contain information necessary to verify or refute the claim. Your reasoning should consider all entities, relationships, facts, and temporal aspects mentioned or implied in the claim, including indirect references or anaphora. For each claim, think step by step about which Wikipedia pages would provide direct or supporting evidence regarding the truth or falsity of the assertion, especially in cases requiring multi-hop reasoning across multiple entities. Your final output should be a comprehensive list of the most relevant Wikipedia titles needed to thoroughly assess the claim's validity.\n",
      "\n",
      "2025/07/13 19:31:37 INFO dspy.teleprompt.mipro_optimizer_v2: 2: Given a claim that may require multi-hop reasoning or indirect reference resolution, identify and list all Wikipedia article titles that contain information necessary to fully verify or refute the claim. Ensure your selection covers every key entity, event, or concept mentioned or implied in the claim, including those required for cross-referencing relationships, facts, or temporal details. Think step by step to ensure no relevant title is omitted.\n",
      "\n",
      "2025/07/13 19:31:37 INFO dspy.teleprompt.mipro_optimizer_v2: 3: Given a claim and access to Wikipedia search and lookup tools, identify all Wikipedia article titles that contain information necessary to verify or refute the claim. Your goal is to find every relevant Wikipedia page that would be needed to fully check the accuracy of the claim, especially in cases that require reasoning across multiple entities, resolving indirect references, or making logical or temporal connections. List the Wikipedia titles that are directly used to support or contradict the claim, ensuring comprehensive coverage for multi-step or multi-hop reasoning.\n",
      "\n",
      "2025/07/13 19:31:37 INFO dspy.teleprompt.mipro_optimizer_v2: 4: Given a claim and access to Wikipedia search and lookup tools, identify and list all Wikipedia article titles that are directly relevant to verifying or refuting the claim. Your goal is to find the minimal set of Wikipedia titles that, when consulted, would provide the necessary evidence to support or contradict the claim. Consider entities, events, roles, temporal details, and relationships mentioned in the claim, and reason step by step to determine which Wikipedia pages contain essential information for logical inference or contradiction detection. Present your answer as a list of Wikipedia titles.\n",
      "\n",
      "2025/07/13 19:31:37 INFO dspy.teleprompt.mipro_optimizer_v2: 5: You are a meticulous fact-checker specializing in multi-hop reasoning and cross-referencing indirect or anaphoric claims. Given a claim and access to Wikipedia search and lookup tools, identify and list all Wikipedia titles that would be directly relevant to verifying or refuting the claim, ensuring you capture every entity or topic necessary for thorough logical inference, even when relationships are implicit or require multi-step reasoning.\n",
      "\n",
      "2025/07/13 19:31:37 INFO dspy.teleprompt.mipro_optimizer_v2: \n",
      "\n",
      "2025/07/13 19:31:37 INFO dspy.teleprompt.mipro_optimizer_v2: ==> STEP 3: FINDING OPTIMAL PROMPT PARAMETERS <==\n",
      "2025/07/13 19:31:37 INFO dspy.teleprompt.mipro_optimizer_v2: We will evaluate the program over a series of trials with different combinations of instructions and few-shot examples to find the optimal combination using Bayesian Optimization.\n",
      "\n",
      "2025/07/13 19:31:37 INFO dspy.teleprompt.mipro_optimizer_v2: == Trial 1 / 35 - Full Evaluation of Default Program ==\n"
     ]
    },
    {
     "name": "stdout",
     "output_type": "stream",
     "text": [
      "Average Metric: 61.33 / 80 (76.7%): 100%|██████████| 80/80 [01:40<00:00,  1.25s/it]"
     ]
    },
    {
     "name": "stderr",
     "output_type": "stream",
     "text": [
      "2025/07/13 19:33:17 INFO dspy.evaluate.evaluate: Average Metric: 61.33333333333333 / 80 (76.7%)\n",
      "2025/07/13 19:33:17 INFO dspy.teleprompt.mipro_optimizer_v2: Default program score: 76.67\n",
      "\n"
     ]
    },
    {
     "name": "stdout",
     "output_type": "stream",
     "text": [
      "\n"
     ]
    },
    {
     "name": "stderr",
     "output_type": "stream",
     "text": [
      "/home/ekzhu/dspy-azure-eval-example/.venv/lib/python3.12/site-packages/optuna/_experimental.py:32: ExperimentalWarning: Argument ``multivariate`` is an experimental feature. The interface can change in the future.\n",
      "  warnings.warn(\n",
      "2025/07/13 19:33:18 INFO dspy.teleprompt.mipro_optimizer_v2: == Trial 2 / 35 - Minibatch ==\n"
     ]
    },
    {
     "name": "stdout",
     "output_type": "stream",
     "text": [
      "Average Metric: 23.00 / 35 (65.7%): 100%|██████████| 35/35 [01:15<00:00,  2.16s/it]"
     ]
    },
    {
     "name": "stderr",
     "output_type": "stream",
     "text": [
      "2025/07/13 19:34:34 INFO dspy.evaluate.evaluate: Average Metric: 23.0 / 35 (65.7%)\n"
     ]
    },
    {
     "name": "stdout",
     "output_type": "stream",
     "text": [
      "\n"
     ]
    },
    {
     "name": "stderr",
     "output_type": "stream",
     "text": [
      "2025/07/13 19:34:34 INFO dspy.teleprompt.mipro_optimizer_v2: Score: 65.71 on minibatch of size 35 with parameters ['Predictor 0: Instruction 1', 'Predictor 0: Few-Shot Set 6', 'Predictor 1: Instruction 4', 'Predictor 1: Few-Shot Set 2'].\n",
      "2025/07/13 19:34:34 INFO dspy.teleprompt.mipro_optimizer_v2: Minibatch scores so far: [65.71]\n",
      "2025/07/13 19:34:34 INFO dspy.teleprompt.mipro_optimizer_v2: Full eval scores so far: [76.67]\n",
      "2025/07/13 19:34:34 INFO dspy.teleprompt.mipro_optimizer_v2: Best full score so far: 76.67\n",
      "2025/07/13 19:34:34 INFO dspy.teleprompt.mipro_optimizer_v2: =========================================\n",
      "\n",
      "\n",
      "2025/07/13 19:34:34 INFO dspy.teleprompt.mipro_optimizer_v2: == Trial 3 / 35 - Minibatch ==\n"
     ]
    },
    {
     "name": "stdout",
     "output_type": "stream",
     "text": [
      "Average Metric: 25.33 / 35 (72.4%): 100%|██████████| 35/35 [01:14<00:00,  2.11s/it]"
     ]
    },
    {
     "name": "stderr",
     "output_type": "stream",
     "text": [
      "2025/07/13 19:35:48 INFO dspy.evaluate.evaluate: Average Metric: 25.333333333333332 / 35 (72.4%)\n"
     ]
    },
    {
     "name": "stdout",
     "output_type": "stream",
     "text": [
      "\n"
     ]
    },
    {
     "name": "stderr",
     "output_type": "stream",
     "text": [
      "2025/07/13 19:35:49 INFO dspy.teleprompt.mipro_optimizer_v2: Score: 72.38 on minibatch of size 35 with parameters ['Predictor 0: Instruction 0', 'Predictor 0: Few-Shot Set 6', 'Predictor 1: Instruction 2', 'Predictor 1: Few-Shot Set 4'].\n",
      "2025/07/13 19:35:49 INFO dspy.teleprompt.mipro_optimizer_v2: Minibatch scores so far: [65.71, 72.38]\n",
      "2025/07/13 19:35:49 INFO dspy.teleprompt.mipro_optimizer_v2: Full eval scores so far: [76.67]\n",
      "2025/07/13 19:35:49 INFO dspy.teleprompt.mipro_optimizer_v2: Best full score so far: 76.67\n",
      "2025/07/13 19:35:49 INFO dspy.teleprompt.mipro_optimizer_v2: =========================================\n",
      "\n",
      "\n",
      "2025/07/13 19:35:49 INFO dspy.teleprompt.mipro_optimizer_v2: == Trial 4 / 35 - Minibatch ==\n"
     ]
    },
    {
     "name": "stdout",
     "output_type": "stream",
     "text": [
      "Average Metric: 22.00 / 35 (62.9%): 100%|██████████| 35/35 [02:00<00:00,  3.44s/it]"
     ]
    },
    {
     "name": "stderr",
     "output_type": "stream",
     "text": [
      "2025/07/13 19:37:49 INFO dspy.evaluate.evaluate: Average Metric: 22.0 / 35 (62.9%)\n"
     ]
    },
    {
     "name": "stdout",
     "output_type": "stream",
     "text": [
      "\n"
     ]
    },
    {
     "name": "stderr",
     "output_type": "stream",
     "text": [
      "2025/07/13 19:37:50 INFO dspy.teleprompt.mipro_optimizer_v2: Score: 62.86 on minibatch of size 35 with parameters ['Predictor 0: Instruction 3', 'Predictor 0: Few-Shot Set 5', 'Predictor 1: Instruction 4', 'Predictor 1: Few-Shot Set 6'].\n",
      "2025/07/13 19:37:50 INFO dspy.teleprompt.mipro_optimizer_v2: Minibatch scores so far: [65.71, 72.38, 62.86]\n",
      "2025/07/13 19:37:50 INFO dspy.teleprompt.mipro_optimizer_v2: Full eval scores so far: [76.67]\n",
      "2025/07/13 19:37:50 INFO dspy.teleprompt.mipro_optimizer_v2: Best full score so far: 76.67\n",
      "2025/07/13 19:37:50 INFO dspy.teleprompt.mipro_optimizer_v2: =========================================\n",
      "\n",
      "\n",
      "2025/07/13 19:37:50 INFO dspy.teleprompt.mipro_optimizer_v2: == Trial 5 / 35 - Minibatch ==\n"
     ]
    },
    {
     "name": "stdout",
     "output_type": "stream",
     "text": [
      "Average Metric: 23.67 / 35 (67.6%): 100%|██████████| 35/35 [01:27<00:00,  2.49s/it]"
     ]
    },
    {
     "name": "stderr",
     "output_type": "stream",
     "text": [
      "2025/07/13 19:39:18 INFO dspy.evaluate.evaluate: Average Metric: 23.666666666666664 / 35 (67.6%)\n"
     ]
    },
    {
     "name": "stdout",
     "output_type": "stream",
     "text": [
      "\n"
     ]
    },
    {
     "name": "stderr",
     "output_type": "stream",
     "text": [
      "2025/07/13 19:39:18 INFO dspy.teleprompt.mipro_optimizer_v2: Score: 67.62 on minibatch of size 35 with parameters ['Predictor 0: Instruction 5', 'Predictor 0: Few-Shot Set 1', 'Predictor 1: Instruction 3', 'Predictor 1: Few-Shot Set 3'].\n",
      "2025/07/13 19:39:18 INFO dspy.teleprompt.mipro_optimizer_v2: Minibatch scores so far: [65.71, 72.38, 62.86, 67.62]\n",
      "2025/07/13 19:39:18 INFO dspy.teleprompt.mipro_optimizer_v2: Full eval scores so far: [76.67]\n",
      "2025/07/13 19:39:18 INFO dspy.teleprompt.mipro_optimizer_v2: Best full score so far: 76.67\n",
      "2025/07/13 19:39:18 INFO dspy.teleprompt.mipro_optimizer_v2: =========================================\n",
      "\n",
      "\n",
      "2025/07/13 19:39:18 INFO dspy.teleprompt.mipro_optimizer_v2: == Trial 6 / 35 - Minibatch ==\n"
     ]
    },
    {
     "name": "stdout",
     "output_type": "stream",
     "text": [
      "Average Metric: 24.33 / 35 (69.5%): 100%|██████████| 35/35 [01:19<00:00,  2.27s/it]"
     ]
    },
    {
     "name": "stderr",
     "output_type": "stream",
     "text": [
      "2025/07/13 19:40:38 INFO dspy.evaluate.evaluate: Average Metric: 24.333333333333332 / 35 (69.5%)\n"
     ]
    },
    {
     "name": "stdout",
     "output_type": "stream",
     "text": [
      "\n"
     ]
    },
    {
     "name": "stderr",
     "output_type": "stream",
     "text": [
      "2025/07/13 19:40:39 INFO dspy.teleprompt.mipro_optimizer_v2: Score: 69.52 on minibatch of size 35 with parameters ['Predictor 0: Instruction 3', 'Predictor 0: Few-Shot Set 10', 'Predictor 1: Instruction 0', 'Predictor 1: Few-Shot Set 9'].\n",
      "2025/07/13 19:40:39 INFO dspy.teleprompt.mipro_optimizer_v2: Minibatch scores so far: [65.71, 72.38, 62.86, 67.62, 69.52]\n",
      "2025/07/13 19:40:39 INFO dspy.teleprompt.mipro_optimizer_v2: Full eval scores so far: [76.67]\n",
      "2025/07/13 19:40:39 INFO dspy.teleprompt.mipro_optimizer_v2: Best full score so far: 76.67\n",
      "2025/07/13 19:40:39 INFO dspy.teleprompt.mipro_optimizer_v2: =========================================\n",
      "\n",
      "\n",
      "2025/07/13 19:40:39 INFO dspy.teleprompt.mipro_optimizer_v2: ===== Trial 7 / 35 - Full Evaluation =====\n",
      "2025/07/13 19:40:39 INFO dspy.teleprompt.mipro_optimizer_v2: Doing full eval on next top averaging program (Avg Score: 72.38) from minibatch trials...\n"
     ]
    },
    {
     "name": "stdout",
     "output_type": "stream",
     "text": [
      "Average Metric: 59.67 / 80 (74.6%): 100%|██████████| 80/80 [01:33<00:00,  1.16s/it]"
     ]
    },
    {
     "name": "stderr",
     "output_type": "stream",
     "text": [
      "2025/07/13 19:42:12 INFO dspy.evaluate.evaluate: Average Metric: 59.666666666666664 / 80 (74.6%)\n",
      "2025/07/13 19:42:12 INFO dspy.teleprompt.mipro_optimizer_v2: Full eval scores so far: [76.67, 74.58]\n",
      "2025/07/13 19:42:12 INFO dspy.teleprompt.mipro_optimizer_v2: Best full score so far: 76.67\n",
      "2025/07/13 19:42:12 INFO dspy.teleprompt.mipro_optimizer_v2: =======================\n",
      "2025/07/13 19:42:12 INFO dspy.teleprompt.mipro_optimizer_v2: \n",
      "\n",
      "2025/07/13 19:42:12 INFO dspy.teleprompt.mipro_optimizer_v2: == Trial 8 / 35 - Minibatch ==\n"
     ]
    },
    {
     "name": "stdout",
     "output_type": "stream",
     "text": [
      "\n",
      "Average Metric: 24.33 / 35 (69.5%): 100%|██████████| 35/35 [01:03<00:00,  1.81s/it]"
     ]
    },
    {
     "name": "stderr",
     "output_type": "stream",
     "text": [
      "2025/07/13 19:43:16 INFO dspy.evaluate.evaluate: Average Metric: 24.333333333333332 / 35 (69.5%)\n",
      "2025/07/13 19:43:16 INFO dspy.teleprompt.mipro_optimizer_v2: Score: 69.52 on minibatch of size 35 with parameters ['Predictor 0: Instruction 4', 'Predictor 0: Few-Shot Set 3', 'Predictor 1: Instruction 5', 'Predictor 1: Few-Shot Set 6'].\n",
      "2025/07/13 19:43:16 INFO dspy.teleprompt.mipro_optimizer_v2: Minibatch scores so far: [65.71, 72.38, 62.86, 67.62, 69.52, 69.52]\n",
      "2025/07/13 19:43:16 INFO dspy.teleprompt.mipro_optimizer_v2: Full eval scores so far: [76.67, 74.58]\n",
      "2025/07/13 19:43:16 INFO dspy.teleprompt.mipro_optimizer_v2: Best full score so far: 76.67\n",
      "2025/07/13 19:43:16 INFO dspy.teleprompt.mipro_optimizer_v2: =========================================\n",
      "\n",
      "\n",
      "2025/07/13 19:43:16 INFO dspy.teleprompt.mipro_optimizer_v2: == Trial 9 / 35 - Minibatch ==\n"
     ]
    },
    {
     "name": "stdout",
     "output_type": "stream",
     "text": [
      "\n",
      "Average Metric: 27.00 / 35 (77.1%): 100%|██████████| 35/35 [00:51<00:00,  1.48s/it]"
     ]
    },
    {
     "name": "stderr",
     "output_type": "stream",
     "text": [
      "2025/07/13 19:44:09 INFO dspy.evaluate.evaluate: Average Metric: 27.0 / 35 (77.1%)\n",
      "2025/07/13 19:44:09 INFO dspy.teleprompt.mipro_optimizer_v2: Score: 77.14 on minibatch of size 35 with parameters ['Predictor 0: Instruction 3', 'Predictor 0: Few-Shot Set 10', 'Predictor 1: Instruction 1', 'Predictor 1: Few-Shot Set 6'].\n",
      "2025/07/13 19:44:09 INFO dspy.teleprompt.mipro_optimizer_v2: Minibatch scores so far: [65.71, 72.38, 62.86, 67.62, 69.52, 69.52, 77.14]\n",
      "2025/07/13 19:44:09 INFO dspy.teleprompt.mipro_optimizer_v2: Full eval scores so far: [76.67, 74.58]\n",
      "2025/07/13 19:44:09 INFO dspy.teleprompt.mipro_optimizer_v2: Best full score so far: 76.67\n",
      "2025/07/13 19:44:09 INFO dspy.teleprompt.mipro_optimizer_v2: =========================================\n",
      "\n",
      "\n",
      "2025/07/13 19:44:09 INFO dspy.teleprompt.mipro_optimizer_v2: == Trial 10 / 35 - Minibatch ==\n"
     ]
    },
    {
     "name": "stdout",
     "output_type": "stream",
     "text": [
      "\n",
      "Average Metric: 26.33 / 35 (75.2%): 100%|██████████| 35/35 [01:40<00:00,  2.88s/it]"
     ]
    },
    {
     "name": "stderr",
     "output_type": "stream",
     "text": [
      "2025/07/13 19:45:50 INFO dspy.evaluate.evaluate: Average Metric: 26.333333333333332 / 35 (75.2%)\n",
      "2025/07/13 19:45:50 INFO dspy.teleprompt.mipro_optimizer_v2: Score: 75.24 on minibatch of size 35 with parameters ['Predictor 0: Instruction 3', 'Predictor 0: Few-Shot Set 1', 'Predictor 1: Instruction 5', 'Predictor 1: Few-Shot Set 1'].\n",
      "2025/07/13 19:45:50 INFO dspy.teleprompt.mipro_optimizer_v2: Minibatch scores so far: [65.71, 72.38, 62.86, 67.62, 69.52, 69.52, 77.14, 75.24]\n",
      "2025/07/13 19:45:50 INFO dspy.teleprompt.mipro_optimizer_v2: Full eval scores so far: [76.67, 74.58]\n",
      "2025/07/13 19:45:50 INFO dspy.teleprompt.mipro_optimizer_v2: Best full score so far: 76.67\n",
      "2025/07/13 19:45:50 INFO dspy.teleprompt.mipro_optimizer_v2: ==========================================\n",
      "\n",
      "\n",
      "2025/07/13 19:45:50 INFO dspy.teleprompt.mipro_optimizer_v2: == Trial 11 / 35 - Minibatch ==\n"
     ]
    },
    {
     "name": "stdout",
     "output_type": "stream",
     "text": [
      "\n",
      "Average Metric: 24.67 / 35 (70.5%): 100%|██████████| 35/35 [01:21<00:00,  2.33s/it]"
     ]
    },
    {
     "name": "stderr",
     "output_type": "stream",
     "text": [
      "2025/07/13 19:47:13 INFO dspy.evaluate.evaluate: Average Metric: 24.666666666666664 / 35 (70.5%)\n",
      "2025/07/13 19:47:13 INFO dspy.teleprompt.mipro_optimizer_v2: Score: 70.48 on minibatch of size 35 with parameters ['Predictor 0: Instruction 2', 'Predictor 0: Few-Shot Set 10', 'Predictor 1: Instruction 1', 'Predictor 1: Few-Shot Set 1'].\n",
      "2025/07/13 19:47:13 INFO dspy.teleprompt.mipro_optimizer_v2: Minibatch scores so far: [65.71, 72.38, 62.86, 67.62, 69.52, 69.52, 77.14, 75.24, 70.48]\n",
      "2025/07/13 19:47:13 INFO dspy.teleprompt.mipro_optimizer_v2: Full eval scores so far: [76.67, 74.58]\n",
      "2025/07/13 19:47:13 INFO dspy.teleprompt.mipro_optimizer_v2: Best full score so far: 76.67\n",
      "2025/07/13 19:47:13 INFO dspy.teleprompt.mipro_optimizer_v2: ==========================================\n",
      "\n",
      "\n",
      "2025/07/13 19:47:13 INFO dspy.teleprompt.mipro_optimizer_v2: == Trial 12 / 35 - Minibatch ==\n"
     ]
    },
    {
     "name": "stdout",
     "output_type": "stream",
     "text": [
      "\n",
      "Average Metric: 27.00 / 35 (77.1%): 100%|██████████| 35/35 [00:29<00:00,  1.19it/s]"
     ]
    },
    {
     "name": "stderr",
     "output_type": "stream",
     "text": [
      "2025/07/13 19:47:42 INFO dspy.evaluate.evaluate: Average Metric: 27.0 / 35 (77.1%)\n",
      "2025/07/13 19:47:43 INFO dspy.teleprompt.mipro_optimizer_v2: Score: 77.14 on minibatch of size 35 with parameters ['Predictor 0: Instruction 0', 'Predictor 0: Few-Shot Set 0', 'Predictor 1: Instruction 0', 'Predictor 1: Few-Shot Set 6'].\n",
      "2025/07/13 19:47:43 INFO dspy.teleprompt.mipro_optimizer_v2: Minibatch scores so far: [65.71, 72.38, 62.86, 67.62, 69.52, 69.52, 77.14, 75.24, 70.48, 77.14]\n",
      "2025/07/13 19:47:43 INFO dspy.teleprompt.mipro_optimizer_v2: Full eval scores so far: [76.67, 74.58]\n",
      "2025/07/13 19:47:43 INFO dspy.teleprompt.mipro_optimizer_v2: Best full score so far: 76.67\n",
      "2025/07/13 19:47:43 INFO dspy.teleprompt.mipro_optimizer_v2: ==========================================\n",
      "\n",
      "\n",
      "2025/07/13 19:47:43 INFO dspy.teleprompt.mipro_optimizer_v2: ===== Trial 13 / 35 - Full Evaluation =====\n",
      "2025/07/13 19:47:43 INFO dspy.teleprompt.mipro_optimizer_v2: Doing full eval on next top averaging program (Avg Score: 77.14) from minibatch trials...\n"
     ]
    },
    {
     "name": "stdout",
     "output_type": "stream",
     "text": [
      "\n",
      "Average Metric: 57.67 / 80 (72.1%): 100%|██████████| 80/80 [00:39<00:00,  2.04it/s]"
     ]
    },
    {
     "name": "stderr",
     "output_type": "stream",
     "text": [
      "2025/07/13 19:48:22 INFO dspy.evaluate.evaluate: Average Metric: 57.666666666666664 / 80 (72.1%)\n",
      "2025/07/13 19:48:22 INFO dspy.teleprompt.mipro_optimizer_v2: Full eval scores so far: [76.67, 74.58, 72.08]\n",
      "2025/07/13 19:48:22 INFO dspy.teleprompt.mipro_optimizer_v2: Best full score so far: 76.67\n",
      "2025/07/13 19:48:22 INFO dspy.teleprompt.mipro_optimizer_v2: =======================\n",
      "2025/07/13 19:48:22 INFO dspy.teleprompt.mipro_optimizer_v2: \n",
      "\n",
      "2025/07/13 19:48:22 INFO dspy.teleprompt.mipro_optimizer_v2: == Trial 14 / 35 - Minibatch ==\n"
     ]
    },
    {
     "name": "stdout",
     "output_type": "stream",
     "text": [
      "\n",
      "Average Metric: 25.33 / 35 (72.4%): 100%|██████████| 35/35 [00:01<00:00, 23.58it/s]"
     ]
    },
    {
     "name": "stderr",
     "output_type": "stream",
     "text": [
      "2025/07/13 19:48:26 INFO dspy.evaluate.evaluate: Average Metric: 25.333333333333332 / 35 (72.4%)\n"
     ]
    },
    {
     "name": "stdout",
     "output_type": "stream",
     "text": [
      "\n"
     ]
    },
    {
     "name": "stderr",
     "output_type": "stream",
     "text": [
      "2025/07/13 19:48:26 INFO dspy.teleprompt.mipro_optimizer_v2: Score: 72.38 on minibatch of size 35 with parameters ['Predictor 0: Instruction 3', 'Predictor 0: Few-Shot Set 10', 'Predictor 1: Instruction 1', 'Predictor 1: Few-Shot Set 6'].\n",
      "2025/07/13 19:48:26 INFO dspy.teleprompt.mipro_optimizer_v2: Minibatch scores so far: [65.71, 72.38, 62.86, 67.62, 69.52, 69.52, 77.14, 75.24, 70.48, 77.14, 72.38]\n",
      "2025/07/13 19:48:26 INFO dspy.teleprompt.mipro_optimizer_v2: Full eval scores so far: [76.67, 74.58, 72.08]\n",
      "2025/07/13 19:48:26 INFO dspy.teleprompt.mipro_optimizer_v2: Best full score so far: 76.67\n",
      "2025/07/13 19:48:26 INFO dspy.teleprompt.mipro_optimizer_v2: ==========================================\n",
      "\n",
      "\n",
      "2025/07/13 19:48:26 INFO dspy.teleprompt.mipro_optimizer_v2: == Trial 15 / 35 - Minibatch ==\n"
     ]
    },
    {
     "name": "stdout",
     "output_type": "stream",
     "text": [
      "Average Metric: 27.67 / 35 (79.0%): 100%|██████████| 35/35 [01:11<00:00,  2.05s/it]"
     ]
    },
    {
     "name": "stderr",
     "output_type": "stream",
     "text": [
      "2025/07/13 19:49:38 INFO dspy.evaluate.evaluate: Average Metric: 27.666666666666664 / 35 (79.0%)\n",
      "2025/07/13 19:49:38 INFO dspy.teleprompt.mipro_optimizer_v2: Score: 79.05 on minibatch of size 35 with parameters ['Predictor 0: Instruction 0', 'Predictor 0: Few-Shot Set 1', 'Predictor 1: Instruction 0', 'Predictor 1: Few-Shot Set 6'].\n",
      "2025/07/13 19:49:38 INFO dspy.teleprompt.mipro_optimizer_v2: Minibatch scores so far: [65.71, 72.38, 62.86, 67.62, 69.52, 69.52, 77.14, 75.24, 70.48, 77.14, 72.38, 79.05]\n",
      "2025/07/13 19:49:38 INFO dspy.teleprompt.mipro_optimizer_v2: Full eval scores so far: [76.67, 74.58, 72.08]\n",
      "2025/07/13 19:49:38 INFO dspy.teleprompt.mipro_optimizer_v2: Best full score so far: 76.67\n",
      "2025/07/13 19:49:38 INFO dspy.teleprompt.mipro_optimizer_v2: ==========================================\n",
      "\n",
      "\n",
      "2025/07/13 19:49:38 INFO dspy.teleprompt.mipro_optimizer_v2: == Trial 16 / 35 - Minibatch ==\n"
     ]
    },
    {
     "name": "stdout",
     "output_type": "stream",
     "text": [
      "\n",
      "Average Metric: 26.33 / 35 (75.2%): 100%|██████████| 35/35 [00:47<00:00,  1.35s/it]"
     ]
    },
    {
     "name": "stderr",
     "output_type": "stream",
     "text": [
      "2025/07/13 19:50:26 INFO dspy.evaluate.evaluate: Average Metric: 26.333333333333332 / 35 (75.2%)\n",
      "2025/07/13 19:50:26 INFO dspy.teleprompt.mipro_optimizer_v2: Score: 75.24 on minibatch of size 35 with parameters ['Predictor 0: Instruction 1', 'Predictor 0: Few-Shot Set 1', 'Predictor 1: Instruction 0', 'Predictor 1: Few-Shot Set 6'].\n",
      "2025/07/13 19:50:26 INFO dspy.teleprompt.mipro_optimizer_v2: Minibatch scores so far: [65.71, 72.38, 62.86, 67.62, 69.52, 69.52, 77.14, 75.24, 70.48, 77.14, 72.38, 79.05, 75.24]\n",
      "2025/07/13 19:50:26 INFO dspy.teleprompt.mipro_optimizer_v2: Full eval scores so far: [76.67, 74.58, 72.08]\n",
      "2025/07/13 19:50:26 INFO dspy.teleprompt.mipro_optimizer_v2: Best full score so far: 76.67\n",
      "2025/07/13 19:50:26 INFO dspy.teleprompt.mipro_optimizer_v2: ==========================================\n",
      "\n",
      "\n",
      "2025/07/13 19:50:26 INFO dspy.teleprompt.mipro_optimizer_v2: == Trial 17 / 35 - Minibatch ==\n"
     ]
    },
    {
     "name": "stdout",
     "output_type": "stream",
     "text": [
      "\n",
      "Average Metric: 25.00 / 35 (71.4%): 100%|██████████| 35/35 [01:18<00:00,  2.24s/it]"
     ]
    },
    {
     "name": "stderr",
     "output_type": "stream",
     "text": [
      "2025/07/13 19:51:46 INFO dspy.evaluate.evaluate: Average Metric: 25.0 / 35 (71.4%)\n",
      "2025/07/13 19:51:46 INFO dspy.teleprompt.mipro_optimizer_v2: Score: 71.43 on minibatch of size 35 with parameters ['Predictor 0: Instruction 2', 'Predictor 0: Few-Shot Set 6', 'Predictor 1: Instruction 3', 'Predictor 1: Few-Shot Set 10'].\n",
      "2025/07/13 19:51:46 INFO dspy.teleprompt.mipro_optimizer_v2: Minibatch scores so far: [65.71, 72.38, 62.86, 67.62, 69.52, 69.52, 77.14, 75.24, 70.48, 77.14, 72.38, 79.05, 75.24, 71.43]\n",
      "2025/07/13 19:51:46 INFO dspy.teleprompt.mipro_optimizer_v2: Full eval scores so far: [76.67, 74.58, 72.08]\n",
      "2025/07/13 19:51:46 INFO dspy.teleprompt.mipro_optimizer_v2: Best full score so far: 76.67\n",
      "2025/07/13 19:51:46 INFO dspy.teleprompt.mipro_optimizer_v2: ==========================================\n",
      "\n",
      "\n",
      "2025/07/13 19:51:46 INFO dspy.teleprompt.mipro_optimizer_v2: == Trial 18 / 35 - Minibatch ==\n"
     ]
    },
    {
     "name": "stdout",
     "output_type": "stream",
     "text": [
      "\n",
      "Average Metric: 24.67 / 35 (70.5%): 100%|██████████| 35/35 [00:54<00:00,  1.55s/it]"
     ]
    },
    {
     "name": "stderr",
     "output_type": "stream",
     "text": [
      "2025/07/13 19:52:41 INFO dspy.evaluate.evaluate: Average Metric: 24.666666666666664 / 35 (70.5%)\n",
      "2025/07/13 19:52:41 INFO dspy.teleprompt.mipro_optimizer_v2: Score: 70.48 on minibatch of size 35 with parameters ['Predictor 0: Instruction 0', 'Predictor 0: Few-Shot Set 1', 'Predictor 1: Instruction 0', 'Predictor 1: Few-Shot Set 3'].\n",
      "2025/07/13 19:52:41 INFO dspy.teleprompt.mipro_optimizer_v2: Minibatch scores so far: [65.71, 72.38, 62.86, 67.62, 69.52, 69.52, 77.14, 75.24, 70.48, 77.14, 72.38, 79.05, 75.24, 71.43, 70.48]\n",
      "2025/07/13 19:52:41 INFO dspy.teleprompt.mipro_optimizer_v2: Full eval scores so far: [76.67, 74.58, 72.08]\n",
      "2025/07/13 19:52:41 INFO dspy.teleprompt.mipro_optimizer_v2: Best full score so far: 76.67\n",
      "2025/07/13 19:52:41 INFO dspy.teleprompt.mipro_optimizer_v2: ==========================================\n",
      "\n",
      "\n",
      "2025/07/13 19:52:41 INFO dspy.teleprompt.mipro_optimizer_v2: ===== Trial 19 / 35 - Full Evaluation =====\n",
      "2025/07/13 19:52:41 INFO dspy.teleprompt.mipro_optimizer_v2: Doing full eval on next top averaging program (Avg Score: 79.05) from minibatch trials...\n"
     ]
    },
    {
     "name": "stdout",
     "output_type": "stream",
     "text": [
      "\n",
      "Average Metric: 56.67 / 80 (70.8%): 100%|██████████| 80/80 [01:33<00:00,  1.17s/it]"
     ]
    },
    {
     "name": "stderr",
     "output_type": "stream",
     "text": [
      "2025/07/13 19:54:15 INFO dspy.evaluate.evaluate: Average Metric: 56.666666666666664 / 80 (70.8%)\n",
      "2025/07/13 19:54:15 INFO dspy.teleprompt.mipro_optimizer_v2: Full eval scores so far: [76.67, 74.58, 72.08, 70.83]\n",
      "2025/07/13 19:54:15 INFO dspy.teleprompt.mipro_optimizer_v2: Best full score so far: 76.67\n",
      "2025/07/13 19:54:15 INFO dspy.teleprompt.mipro_optimizer_v2: =======================\n",
      "2025/07/13 19:54:15 INFO dspy.teleprompt.mipro_optimizer_v2: \n",
      "\n",
      "2025/07/13 19:54:15 INFO dspy.teleprompt.mipro_optimizer_v2: == Trial 20 / 35 - Minibatch ==\n"
     ]
    },
    {
     "name": "stdout",
     "output_type": "stream",
     "text": [
      "\n",
      "Average Metric: 27.00 / 35 (77.1%): 100%|██████████| 35/35 [01:35<00:00,  2.74s/it]"
     ]
    },
    {
     "name": "stderr",
     "output_type": "stream",
     "text": [
      "2025/07/13 19:55:51 INFO dspy.evaluate.evaluate: Average Metric: 27.0 / 35 (77.1%)\n",
      "2025/07/13 19:55:51 INFO dspy.teleprompt.mipro_optimizer_v2: Score: 77.14 on minibatch of size 35 with parameters ['Predictor 0: Instruction 4', 'Predictor 0: Few-Shot Set 1', 'Predictor 1: Instruction 1', 'Predictor 1: Few-Shot Set 8'].\n",
      "2025/07/13 19:55:51 INFO dspy.teleprompt.mipro_optimizer_v2: Minibatch scores so far: [65.71, 72.38, 62.86, 67.62, 69.52, 69.52, 77.14, 75.24, 70.48, 77.14, 72.38, 79.05, 75.24, 71.43, 70.48, 77.14]\n",
      "2025/07/13 19:55:51 INFO dspy.teleprompt.mipro_optimizer_v2: Full eval scores so far: [76.67, 74.58, 72.08, 70.83]\n",
      "2025/07/13 19:55:51 INFO dspy.teleprompt.mipro_optimizer_v2: Best full score so far: 76.67\n",
      "2025/07/13 19:55:51 INFO dspy.teleprompt.mipro_optimizer_v2: ==========================================\n",
      "\n",
      "\n",
      "2025/07/13 19:55:51 INFO dspy.teleprompt.mipro_optimizer_v2: == Trial 21 / 35 - Minibatch ==\n"
     ]
    },
    {
     "name": "stdout",
     "output_type": "stream",
     "text": [
      "\n",
      "Average Metric: 24.67 / 35 (70.5%): 100%|██████████| 35/35 [00:56<00:00,  1.61s/it]"
     ]
    },
    {
     "name": "stderr",
     "output_type": "stream",
     "text": [
      "2025/07/13 19:56:48 INFO dspy.evaluate.evaluate: Average Metric: 24.666666666666668 / 35 (70.5%)\n",
      "2025/07/13 19:56:48 INFO dspy.teleprompt.mipro_optimizer_v2: Score: 70.48 on minibatch of size 35 with parameters ['Predictor 0: Instruction 4', 'Predictor 0: Few-Shot Set 11', 'Predictor 1: Instruction 0', 'Predictor 1: Few-Shot Set 7'].\n",
      "2025/07/13 19:56:48 INFO dspy.teleprompt.mipro_optimizer_v2: Minibatch scores so far: [65.71, 72.38, 62.86, 67.62, 69.52, 69.52, 77.14, 75.24, 70.48, 77.14, 72.38, 79.05, 75.24, 71.43, 70.48, 77.14, 70.48]\n",
      "2025/07/13 19:56:48 INFO dspy.teleprompt.mipro_optimizer_v2: Full eval scores so far: [76.67, 74.58, 72.08, 70.83]\n",
      "2025/07/13 19:56:48 INFO dspy.teleprompt.mipro_optimizer_v2: Best full score so far: 76.67\n",
      "2025/07/13 19:56:48 INFO dspy.teleprompt.mipro_optimizer_v2: ==========================================\n",
      "\n",
      "\n",
      "2025/07/13 19:56:48 INFO dspy.teleprompt.mipro_optimizer_v2: == Trial 22 / 35 - Minibatch ==\n"
     ]
    },
    {
     "name": "stdout",
     "output_type": "stream",
     "text": [
      "\n",
      "Average Metric: 22.00 / 35 (62.9%): 100%|██████████| 35/35 [01:35<00:00,  2.74s/it]"
     ]
    },
    {
     "name": "stderr",
     "output_type": "stream",
     "text": [
      "2025/07/13 19:58:24 INFO dspy.evaluate.evaluate: Average Metric: 22.0 / 35 (62.9%)\n",
      "2025/07/13 19:58:24 INFO dspy.teleprompt.mipro_optimizer_v2: Score: 62.86 on minibatch of size 35 with parameters ['Predictor 0: Instruction 0', 'Predictor 0: Few-Shot Set 4', 'Predictor 1: Instruction 3', 'Predictor 1: Few-Shot Set 6'].\n",
      "2025/07/13 19:58:24 INFO dspy.teleprompt.mipro_optimizer_v2: Minibatch scores so far: [65.71, 72.38, 62.86, 67.62, 69.52, 69.52, 77.14, 75.24, 70.48, 77.14, 72.38, 79.05, 75.24, 71.43, 70.48, 77.14, 70.48, 62.86]\n",
      "2025/07/13 19:58:24 INFO dspy.teleprompt.mipro_optimizer_v2: Full eval scores so far: [76.67, 74.58, 72.08, 70.83]\n",
      "2025/07/13 19:58:24 INFO dspy.teleprompt.mipro_optimizer_v2: Best full score so far: 76.67\n",
      "2025/07/13 19:58:24 INFO dspy.teleprompt.mipro_optimizer_v2: ==========================================\n",
      "\n",
      "\n",
      "2025/07/13 19:58:24 INFO dspy.teleprompt.mipro_optimizer_v2: == Trial 23 / 35 - Minibatch ==\n"
     ]
    },
    {
     "name": "stdout",
     "output_type": "stream",
     "text": [
      "\n",
      "Average Metric: 24.00 / 35 (68.6%): 100%|██████████| 35/35 [01:09<00:00,  1.98s/it]"
     ]
    },
    {
     "name": "stderr",
     "output_type": "stream",
     "text": [
      "2025/07/13 19:59:34 INFO dspy.evaluate.evaluate: Average Metric: 24.0 / 35 (68.6%)\n",
      "2025/07/13 19:59:34 INFO dspy.teleprompt.mipro_optimizer_v2: Score: 68.57 on minibatch of size 35 with parameters ['Predictor 0: Instruction 0', 'Predictor 0: Few-Shot Set 9', 'Predictor 1: Instruction 0', 'Predictor 1: Few-Shot Set 6'].\n",
      "2025/07/13 19:59:34 INFO dspy.teleprompt.mipro_optimizer_v2: Minibatch scores so far: [65.71, 72.38, 62.86, 67.62, 69.52, 69.52, 77.14, 75.24, 70.48, 77.14, 72.38, 79.05, 75.24, 71.43, 70.48, 77.14, 70.48, 62.86, 68.57]\n",
      "2025/07/13 19:59:34 INFO dspy.teleprompt.mipro_optimizer_v2: Full eval scores so far: [76.67, 74.58, 72.08, 70.83]\n",
      "2025/07/13 19:59:34 INFO dspy.teleprompt.mipro_optimizer_v2: Best full score so far: 76.67\n",
      "2025/07/13 19:59:34 INFO dspy.teleprompt.mipro_optimizer_v2: ==========================================\n",
      "\n",
      "\n",
      "2025/07/13 19:59:34 INFO dspy.teleprompt.mipro_optimizer_v2: == Trial 24 / 35 - Minibatch ==\n"
     ]
    },
    {
     "name": "stdout",
     "output_type": "stream",
     "text": [
      "\n",
      "Average Metric: 26.00 / 35 (74.3%): 100%|██████████| 35/35 [01:17<00:00,  2.22s/it]"
     ]
    },
    {
     "name": "stderr",
     "output_type": "stream",
     "text": [
      "2025/07/13 20:00:52 INFO dspy.evaluate.evaluate: Average Metric: 26.0 / 35 (74.3%)\n",
      "2025/07/13 20:00:52 INFO dspy.teleprompt.mipro_optimizer_v2: Score: 74.29 on minibatch of size 35 with parameters ['Predictor 0: Instruction 5', 'Predictor 0: Few-Shot Set 11', 'Predictor 1: Instruction 2', 'Predictor 1: Few-Shot Set 6'].\n",
      "2025/07/13 20:00:52 INFO dspy.teleprompt.mipro_optimizer_v2: Minibatch scores so far: [65.71, 72.38, 62.86, 67.62, 69.52, 69.52, 77.14, 75.24, 70.48, 77.14, 72.38, 79.05, 75.24, 71.43, 70.48, 77.14, 70.48, 62.86, 68.57, 74.29]\n",
      "2025/07/13 20:00:52 INFO dspy.teleprompt.mipro_optimizer_v2: Full eval scores so far: [76.67, 74.58, 72.08, 70.83]\n",
      "2025/07/13 20:00:52 INFO dspy.teleprompt.mipro_optimizer_v2: Best full score so far: 76.67\n",
      "2025/07/13 20:00:52 INFO dspy.teleprompt.mipro_optimizer_v2: ==========================================\n",
      "\n",
      "\n",
      "2025/07/13 20:00:52 INFO dspy.teleprompt.mipro_optimizer_v2: ===== Trial 25 / 35 - Full Evaluation =====\n",
      "2025/07/13 20:00:52 INFO dspy.teleprompt.mipro_optimizer_v2: Doing full eval on next top averaging program (Avg Score: 77.14) from minibatch trials...\n"
     ]
    },
    {
     "name": "stdout",
     "output_type": "stream",
     "text": [
      "\n",
      "Average Metric: 58.67 / 80 (73.3%): 100%|██████████| 80/80 [00:11<00:00,  6.78it/s]"
     ]
    },
    {
     "name": "stderr",
     "output_type": "stream",
     "text": [
      "2025/07/13 20:01:04 INFO dspy.evaluate.evaluate: Average Metric: 58.666666666666664 / 80 (73.3%)\n",
      "2025/07/13 20:01:04 INFO dspy.teleprompt.mipro_optimizer_v2: Full eval scores so far: [76.67, 74.58, 72.08, 70.83, 73.33]\n",
      "2025/07/13 20:01:04 INFO dspy.teleprompt.mipro_optimizer_v2: Best full score so far: 76.67\n",
      "2025/07/13 20:01:04 INFO dspy.teleprompt.mipro_optimizer_v2: =======================\n",
      "2025/07/13 20:01:04 INFO dspy.teleprompt.mipro_optimizer_v2: \n",
      "\n",
      "2025/07/13 20:01:04 INFO dspy.teleprompt.mipro_optimizer_v2: == Trial 26 / 35 - Minibatch ==\n"
     ]
    },
    {
     "name": "stdout",
     "output_type": "stream",
     "text": [
      "\n",
      "Average Metric: 25.00 / 35 (71.4%): 100%|██████████| 35/35 [00:07<00:00,  4.91it/s]"
     ]
    },
    {
     "name": "stderr",
     "output_type": "stream",
     "text": [
      "2025/07/13 20:01:12 INFO dspy.evaluate.evaluate: Average Metric: 25.0 / 35 (71.4%)\n"
     ]
    },
    {
     "name": "stdout",
     "output_type": "stream",
     "text": [
      "\n"
     ]
    },
    {
     "name": "stderr",
     "output_type": "stream",
     "text": [
      "2025/07/13 20:01:12 INFO dspy.teleprompt.mipro_optimizer_v2: Score: 71.43 on minibatch of size 35 with parameters ['Predictor 0: Instruction 0', 'Predictor 0: Few-Shot Set 1', 'Predictor 1: Instruction 4', 'Predictor 1: Few-Shot Set 6'].\n",
      "2025/07/13 20:01:12 INFO dspy.teleprompt.mipro_optimizer_v2: Minibatch scores so far: [65.71, 72.38, 62.86, 67.62, 69.52, 69.52, 77.14, 75.24, 70.48, 77.14, 72.38, 79.05, 75.24, 71.43, 70.48, 77.14, 70.48, 62.86, 68.57, 74.29, 71.43]\n",
      "2025/07/13 20:01:12 INFO dspy.teleprompt.mipro_optimizer_v2: Full eval scores so far: [76.67, 74.58, 72.08, 70.83, 73.33]\n",
      "2025/07/13 20:01:12 INFO dspy.teleprompt.mipro_optimizer_v2: Best full score so far: 76.67\n",
      "2025/07/13 20:01:12 INFO dspy.teleprompt.mipro_optimizer_v2: ==========================================\n",
      "\n",
      "\n",
      "2025/07/13 20:01:12 INFO dspy.teleprompt.mipro_optimizer_v2: == Trial 27 / 35 - Minibatch ==\n"
     ]
    },
    {
     "name": "stdout",
     "output_type": "stream",
     "text": [
      "Average Metric: 23.67 / 35 (67.6%): 100%|██████████| 35/35 [01:20<00:00,  2.31s/it]"
     ]
    },
    {
     "name": "stderr",
     "output_type": "stream",
     "text": [
      "2025/07/13 20:02:33 INFO dspy.evaluate.evaluate: Average Metric: 23.666666666666668 / 35 (67.6%)\n",
      "2025/07/13 20:02:33 INFO dspy.teleprompt.mipro_optimizer_v2: Score: 67.62 on minibatch of size 35 with parameters ['Predictor 0: Instruction 2', 'Predictor 0: Few-Shot Set 2', 'Predictor 1: Instruction 0', 'Predictor 1: Few-Shot Set 6'].\n",
      "2025/07/13 20:02:33 INFO dspy.teleprompt.mipro_optimizer_v2: Minibatch scores so far: [65.71, 72.38, 62.86, 67.62, 69.52, 69.52, 77.14, 75.24, 70.48, 77.14, 72.38, 79.05, 75.24, 71.43, 70.48, 77.14, 70.48, 62.86, 68.57, 74.29, 71.43, 67.62]\n",
      "2025/07/13 20:02:33 INFO dspy.teleprompt.mipro_optimizer_v2: Full eval scores so far: [76.67, 74.58, 72.08, 70.83, 73.33]\n",
      "2025/07/13 20:02:33 INFO dspy.teleprompt.mipro_optimizer_v2: Best full score so far: 76.67\n",
      "2025/07/13 20:02:33 INFO dspy.teleprompt.mipro_optimizer_v2: ==========================================\n",
      "\n",
      "\n",
      "2025/07/13 20:02:33 INFO dspy.teleprompt.mipro_optimizer_v2: == Trial 28 / 35 - Minibatch ==\n"
     ]
    },
    {
     "name": "stdout",
     "output_type": "stream",
     "text": [
      "\n",
      "Average Metric: 26.00 / 35 (74.3%): 100%|██████████| 35/35 [01:09<00:00,  1.99s/it]"
     ]
    },
    {
     "name": "stderr",
     "output_type": "stream",
     "text": [
      "2025/07/13 20:03:43 INFO dspy.evaluate.evaluate: Average Metric: 26.0 / 35 (74.3%)\n",
      "2025/07/13 20:03:43 INFO dspy.teleprompt.mipro_optimizer_v2: Score: 74.29 on minibatch of size 35 with parameters ['Predictor 0: Instruction 0', 'Predictor 0: Few-Shot Set 8', 'Predictor 1: Instruction 1', 'Predictor 1: Few-Shot Set 5'].\n",
      "2025/07/13 20:03:43 INFO dspy.teleprompt.mipro_optimizer_v2: Minibatch scores so far: [65.71, 72.38, 62.86, 67.62, 69.52, 69.52, 77.14, 75.24, 70.48, 77.14, 72.38, 79.05, 75.24, 71.43, 70.48, 77.14, 70.48, 62.86, 68.57, 74.29, 71.43, 67.62, 74.29]\n",
      "2025/07/13 20:03:43 INFO dspy.teleprompt.mipro_optimizer_v2: Full eval scores so far: [76.67, 74.58, 72.08, 70.83, 73.33]\n",
      "2025/07/13 20:03:43 INFO dspy.teleprompt.mipro_optimizer_v2: Best full score so far: 76.67\n",
      "2025/07/13 20:03:43 INFO dspy.teleprompt.mipro_optimizer_v2: ==========================================\n",
      "\n",
      "\n",
      "2025/07/13 20:03:43 INFO dspy.teleprompt.mipro_optimizer_v2: == Trial 29 / 35 - Minibatch ==\n"
     ]
    },
    {
     "name": "stdout",
     "output_type": "stream",
     "text": [
      "\n",
      "Average Metric: 24.00 / 35 (68.6%): 100%|██████████| 35/35 [01:06<00:00,  1.91s/it]"
     ]
    },
    {
     "name": "stderr",
     "output_type": "stream",
     "text": [
      "2025/07/13 20:04:50 INFO dspy.evaluate.evaluate: Average Metric: 24.0 / 35 (68.6%)\n",
      "2025/07/13 20:04:50 INFO dspy.teleprompt.mipro_optimizer_v2: Score: 68.57 on minibatch of size 35 with parameters ['Predictor 0: Instruction 0', 'Predictor 0: Few-Shot Set 7', 'Predictor 1: Instruction 1', 'Predictor 1: Few-Shot Set 6'].\n",
      "2025/07/13 20:04:50 INFO dspy.teleprompt.mipro_optimizer_v2: Minibatch scores so far: [65.71, 72.38, 62.86, 67.62, 69.52, 69.52, 77.14, 75.24, 70.48, 77.14, 72.38, 79.05, 75.24, 71.43, 70.48, 77.14, 70.48, 62.86, 68.57, 74.29, 71.43, 67.62, 74.29, 68.57]\n",
      "2025/07/13 20:04:50 INFO dspy.teleprompt.mipro_optimizer_v2: Full eval scores so far: [76.67, 74.58, 72.08, 70.83, 73.33]\n",
      "2025/07/13 20:04:50 INFO dspy.teleprompt.mipro_optimizer_v2: Best full score so far: 76.67\n",
      "2025/07/13 20:04:50 INFO dspy.teleprompt.mipro_optimizer_v2: ==========================================\n",
      "\n",
      "\n",
      "2025/07/13 20:04:50 INFO dspy.teleprompt.mipro_optimizer_v2: == Trial 30 / 35 - Minibatch ==\n"
     ]
    },
    {
     "name": "stdout",
     "output_type": "stream",
     "text": [
      "\n",
      "Average Metric: 24.67 / 35 (70.5%): 100%|██████████| 35/35 [01:23<00:00,  2.39s/it]"
     ]
    },
    {
     "name": "stderr",
     "output_type": "stream",
     "text": [
      "2025/07/13 20:06:14 INFO dspy.evaluate.evaluate: Average Metric: 24.666666666666664 / 35 (70.5%)\n"
     ]
    },
    {
     "name": "stdout",
     "output_type": "stream",
     "text": [
      "\n"
     ]
    },
    {
     "name": "stderr",
     "output_type": "stream",
     "text": [
      "2025/07/13 20:06:15 INFO dspy.teleprompt.mipro_optimizer_v2: Score: 70.48 on minibatch of size 35 with parameters ['Predictor 0: Instruction 3', 'Predictor 0: Few-Shot Set 0', 'Predictor 1: Instruction 0', 'Predictor 1: Few-Shot Set 6'].\n",
      "2025/07/13 20:06:15 INFO dspy.teleprompt.mipro_optimizer_v2: Minibatch scores so far: [65.71, 72.38, 62.86, 67.62, 69.52, 69.52, 77.14, 75.24, 70.48, 77.14, 72.38, 79.05, 75.24, 71.43, 70.48, 77.14, 70.48, 62.86, 68.57, 74.29, 71.43, 67.62, 74.29, 68.57, 70.48]\n",
      "2025/07/13 20:06:15 INFO dspy.teleprompt.mipro_optimizer_v2: Full eval scores so far: [76.67, 74.58, 72.08, 70.83, 73.33]\n",
      "2025/07/13 20:06:15 INFO dspy.teleprompt.mipro_optimizer_v2: Best full score so far: 76.67\n",
      "2025/07/13 20:06:15 INFO dspy.teleprompt.mipro_optimizer_v2: ==========================================\n",
      "\n",
      "\n",
      "2025/07/13 20:06:15 INFO dspy.teleprompt.mipro_optimizer_v2: ===== Trial 31 / 35 - Full Evaluation =====\n",
      "2025/07/13 20:06:15 INFO dspy.teleprompt.mipro_optimizer_v2: Doing full eval on next top averaging program (Avg Score: 77.14) from minibatch trials...\n"
     ]
    },
    {
     "name": "stdout",
     "output_type": "stream",
     "text": [
      "Average Metric: 58.00 / 80 (72.5%): 100%|██████████| 80/80 [01:35<00:00,  1.19s/it]"
     ]
    },
    {
     "name": "stderr",
     "output_type": "stream",
     "text": [
      "2025/07/13 20:07:50 INFO dspy.evaluate.evaluate: Average Metric: 58.0 / 80 (72.5%)\n",
      "2025/07/13 20:07:50 INFO dspy.teleprompt.mipro_optimizer_v2: Full eval scores so far: [76.67, 74.58, 72.08, 70.83, 73.33, 72.5]\n",
      "2025/07/13 20:07:50 INFO dspy.teleprompt.mipro_optimizer_v2: Best full score so far: 76.67\n",
      "2025/07/13 20:07:50 INFO dspy.teleprompt.mipro_optimizer_v2: =======================\n",
      "2025/07/13 20:07:50 INFO dspy.teleprompt.mipro_optimizer_v2: \n",
      "\n",
      "2025/07/13 20:07:50 INFO dspy.teleprompt.mipro_optimizer_v2: == Trial 32 / 35 - Minibatch ==\n"
     ]
    },
    {
     "name": "stdout",
     "output_type": "stream",
     "text": [
      "\n",
      "Average Metric: 22.33 / 35 (63.8%): 100%|██████████| 35/35 [01:12<00:00,  2.06s/it]"
     ]
    },
    {
     "name": "stderr",
     "output_type": "stream",
     "text": [
      "2025/07/13 20:09:02 INFO dspy.evaluate.evaluate: Average Metric: 22.333333333333332 / 35 (63.8%)\n",
      "2025/07/13 20:09:03 INFO dspy.teleprompt.mipro_optimizer_v2: Score: 63.81 on minibatch of size 35 with parameters ['Predictor 0: Instruction 4', 'Predictor 0: Few-Shot Set 11', 'Predictor 1: Instruction 1', 'Predictor 1: Few-Shot Set 8'].\n",
      "2025/07/13 20:09:03 INFO dspy.teleprompt.mipro_optimizer_v2: Minibatch scores so far: [65.71, 72.38, 62.86, 67.62, 69.52, 69.52, 77.14, 75.24, 70.48, 77.14, 72.38, 79.05, 75.24, 71.43, 70.48, 77.14, 70.48, 62.86, 68.57, 74.29, 71.43, 67.62, 74.29, 68.57, 70.48, 63.81]\n",
      "2025/07/13 20:09:03 INFO dspy.teleprompt.mipro_optimizer_v2: Full eval scores so far: [76.67, 74.58, 72.08, 70.83, 73.33, 72.5]\n",
      "2025/07/13 20:09:03 INFO dspy.teleprompt.mipro_optimizer_v2: Best full score so far: 76.67\n",
      "2025/07/13 20:09:03 INFO dspy.teleprompt.mipro_optimizer_v2: ==========================================\n",
      "\n",
      "\n",
      "2025/07/13 20:09:03 INFO dspy.teleprompt.mipro_optimizer_v2: == Trial 33 / 35 - Minibatch ==\n"
     ]
    },
    {
     "name": "stdout",
     "output_type": "stream",
     "text": [
      "\n",
      "Average Metric: 24.67 / 35 (70.5%): 100%|██████████| 35/35 [00:00<00:00, 48.11it/s]"
     ]
    },
    {
     "name": "stderr",
     "output_type": "stream",
     "text": [
      "2025/07/13 20:09:04 INFO dspy.evaluate.evaluate: Average Metric: 24.666666666666664 / 35 (70.5%)\n"
     ]
    },
    {
     "name": "stdout",
     "output_type": "stream",
     "text": [
      "\n"
     ]
    },
    {
     "name": "stderr",
     "output_type": "stream",
     "text": [
      "2025/07/13 20:09:04 INFO dspy.teleprompt.mipro_optimizer_v2: Score: 70.48 on minibatch of size 35 with parameters ['Predictor 0: Instruction 4', 'Predictor 0: Few-Shot Set 1', 'Predictor 1: Instruction 1', 'Predictor 1: Few-Shot Set 8'].\n",
      "2025/07/13 20:09:04 INFO dspy.teleprompt.mipro_optimizer_v2: Minibatch scores so far: [65.71, 72.38, 62.86, 67.62, 69.52, 69.52, 77.14, 75.24, 70.48, 77.14, 72.38, 79.05, 75.24, 71.43, 70.48, 77.14, 70.48, 62.86, 68.57, 74.29, 71.43, 67.62, 74.29, 68.57, 70.48, 63.81, 70.48]\n",
      "2025/07/13 20:09:04 INFO dspy.teleprompt.mipro_optimizer_v2: Full eval scores so far: [76.67, 74.58, 72.08, 70.83, 73.33, 72.5]\n",
      "2025/07/13 20:09:04 INFO dspy.teleprompt.mipro_optimizer_v2: Best full score so far: 76.67\n",
      "2025/07/13 20:09:04 INFO dspy.teleprompt.mipro_optimizer_v2: ==========================================\n",
      "\n",
      "\n",
      "2025/07/13 20:09:04 INFO dspy.teleprompt.mipro_optimizer_v2: == Trial 34 / 35 - Minibatch ==\n"
     ]
    },
    {
     "name": "stdout",
     "output_type": "stream",
     "text": [
      "Average Metric: 26.00 / 35 (74.3%): 100%|██████████| 35/35 [01:19<00:00,  2.28s/it]"
     ]
    },
    {
     "name": "stderr",
     "output_type": "stream",
     "text": [
      "2025/07/13 20:10:24 INFO dspy.evaluate.evaluate: Average Metric: 26.0 / 35 (74.3%)\n"
     ]
    },
    {
     "name": "stdout",
     "output_type": "stream",
     "text": [
      "\n"
     ]
    },
    {
     "name": "stderr",
     "output_type": "stream",
     "text": [
      "2025/07/13 20:10:27 INFO dspy.teleprompt.mipro_optimizer_v2: Score: 74.29 on minibatch of size 35 with parameters ['Predictor 0: Instruction 5', 'Predictor 0: Few-Shot Set 6', 'Predictor 1: Instruction 5', 'Predictor 1: Few-Shot Set 8'].\n",
      "2025/07/13 20:10:27 INFO dspy.teleprompt.mipro_optimizer_v2: Minibatch scores so far: [65.71, 72.38, 62.86, 67.62, 69.52, 69.52, 77.14, 75.24, 70.48, 77.14, 72.38, 79.05, 75.24, 71.43, 70.48, 77.14, 70.48, 62.86, 68.57, 74.29, 71.43, 67.62, 74.29, 68.57, 70.48, 63.81, 70.48, 74.29]\n",
      "2025/07/13 20:10:27 INFO dspy.teleprompt.mipro_optimizer_v2: Full eval scores so far: [76.67, 74.58, 72.08, 70.83, 73.33, 72.5]\n",
      "2025/07/13 20:10:27 INFO dspy.teleprompt.mipro_optimizer_v2: Best full score so far: 76.67\n",
      "2025/07/13 20:10:27 INFO dspy.teleprompt.mipro_optimizer_v2: ==========================================\n",
      "\n",
      "\n",
      "2025/07/13 20:10:27 INFO dspy.teleprompt.mipro_optimizer_v2: ===== Trial 35 / 35 - Full Evaluation =====\n",
      "2025/07/13 20:10:27 INFO dspy.teleprompt.mipro_optimizer_v2: Doing full eval on next top averaging program (Avg Score: 75.24) from minibatch trials...\n"
     ]
    },
    {
     "name": "stdout",
     "output_type": "stream",
     "text": [
      "Average Metric: 56.67 / 80 (70.8%): 100%|██████████| 80/80 [02:15<00:00,  1.69s/it]"
     ]
    },
    {
     "name": "stderr",
     "output_type": "stream",
     "text": [
      "2025/07/13 20:12:42 INFO dspy.evaluate.evaluate: Average Metric: 56.666666666666664 / 80 (70.8%)\n",
      "2025/07/13 20:12:42 INFO dspy.teleprompt.mipro_optimizer_v2: Full eval scores so far: [76.67, 74.58, 72.08, 70.83, 73.33, 72.5, 70.83]\n",
      "2025/07/13 20:12:42 INFO dspy.teleprompt.mipro_optimizer_v2: Best full score so far: 76.67\n",
      "2025/07/13 20:12:42 INFO dspy.teleprompt.mipro_optimizer_v2: =======================\n",
      "2025/07/13 20:12:42 INFO dspy.teleprompt.mipro_optimizer_v2: \n",
      "\n",
      "2025/07/13 20:12:42 INFO dspy.teleprompt.mipro_optimizer_v2: Returning best identified program with score 76.67!\n"
     ]
    },
    {
     "name": "stdout",
     "output_type": "stream",
     "text": [
      "\n"
     ]
    },
    {
     "data": {
      "text/html": [
       "\n",
       "<div>\n",
       "  <style scoped>\n",
       "  button {\n",
       "    border: none;\n",
       "    border-radius: 4px;\n",
       "    background-color: rgb(34, 114, 180);\n",
       "    font-family: -apple-system, \"system-ui\", \"Segoe UI\", Roboto, \"Helvetica Neue\", Arial;\n",
       "    font-size: 13px;\n",
       "    color: white;\n",
       "    margin-top: 8px;\n",
       "    margin-bottom: 8px;\n",
       "    padding: 8px 16px;\n",
       "    cursor: pointer;\n",
       "  }\n",
       "  button:hover {\n",
       "    background-color: rgb(66, 153, 224);\n",
       "  }\n",
       "  </style>\n",
       "  <button\n",
       "    onclick=\"\n",
       "        const display = this.nextElementSibling.style.display;\n",
       "        const isCollapsed = display === 'none';\n",
       "        this.nextElementSibling.style.display = isCollapsed ? null : 'none';\n",
       "\n",
       "        const verb = isCollapsed ? 'Collapse' : 'Expand';\n",
       "        this.innerText = `${verb} MLflow Trace`;\n",
       "    \"\n",
       "  >Collapse MLflow Trace</button>\n",
       "  <iframe\n",
       "    id=\"trace-renderer\"\n",
       "    style=\"width: 100%; height: 500px; border: none; resize: vertical;\"\n",
       "    src=\"http://localhost:5000/static-files/lib/notebook-trace-renderer/index.html?trace_id=212584daa5d74e2b840700c6875b41da&amp;experiment_id=754260582185799111&amp;trace_id=29418dbd5f394bda83bae53e175eeb0b&amp;experiment_id=754260582185799111&amp;trace_id=4e5a47ac849747c89dc9a883ea14479b&amp;experiment_id=754260582185799111&amp;trace_id=7149b0f09f7e43a49b4664e9de487e9f&amp;experiment_id=754260582185799111&amp;trace_id=aff97184a88b471dbd3c672d0927b1f8&amp;experiment_id=754260582185799111&amp;trace_id=9ccb70a9dbeb40d3a6bfbeddf7f75e9d&amp;experiment_id=754260582185799111&amp;version=3.1.1\"\n",
       "  />\n",
       "</div>\n"
      ],
      "text/plain": [
       "[Trace(trace_id=212584daa5d74e2b840700c6875b41da), Trace(trace_id=29418dbd5f394bda83bae53e175eeb0b), Trace(trace_id=4e5a47ac849747c89dc9a883ea14479b), Trace(trace_id=7149b0f09f7e43a49b4664e9de487e9f), Trace(trace_id=aff97184a88b471dbd3c672d0927b1f8), Trace(trace_id=9ccb70a9dbeb40d3a6bfbeddf7f75e9d)]"
      ]
     },
     "metadata": {},
     "output_type": "display_data"
    }
   ],
   "source": [
    "kwargs = dict(teacher_settings=dict(lm=gpt41), prompt_model=gpt41, max_errors=999)\n",
    "\n",
    "tp = dspy.MIPROv2(metric=top5_recall, auto=\"medium\", num_threads=16, **kwargs)\n",
    "optimized_react = tp.compile(react, trainset=trainset, max_bootstrapped_demos=3, max_labeled_demos=0)"
   ]
  },
  {
   "cell_type": "code",
   "execution_count": null,
   "id": "998ae6c6",
   "metadata": {},
   "outputs": [
    {
     "data": {
      "text/plain": [
       "['Joe Orton', 'Bernard-Marie Koltès', 'Up Against It']"
      ]
     },
     "execution_count": 39,
     "metadata": {},
     "output_type": "execute_result"
    },
    {
     "data": {
      "text/html": [
       "\n",
       "<div>\n",
       "  <style scoped>\n",
       "  button {\n",
       "    border: none;\n",
       "    border-radius: 4px;\n",
       "    background-color: rgb(34, 114, 180);\n",
       "    font-family: -apple-system, \"system-ui\", \"Segoe UI\", Roboto, \"Helvetica Neue\", Arial;\n",
       "    font-size: 13px;\n",
       "    color: white;\n",
       "    margin-top: 8px;\n",
       "    margin-bottom: 8px;\n",
       "    padding: 8px 16px;\n",
       "    cursor: pointer;\n",
       "  }\n",
       "  button:hover {\n",
       "    background-color: rgb(66, 153, 224);\n",
       "  }\n",
       "  </style>\n",
       "  <button\n",
       "    onclick=\"\n",
       "        const display = this.nextElementSibling.style.display;\n",
       "        const isCollapsed = display === 'none';\n",
       "        this.nextElementSibling.style.display = isCollapsed ? null : 'none';\n",
       "\n",
       "        const verb = isCollapsed ? 'Collapse' : 'Expand';\n",
       "        this.innerText = `${verb} MLflow Trace`;\n",
       "    \"\n",
       "  >Collapse MLflow Trace</button>\n",
       "  <iframe\n",
       "    id=\"trace-renderer\"\n",
       "    style=\"width: 100%; height: 500px; border: none; resize: vertical;\"\n",
       "    src=\"http://localhost:5000/static-files/lib/notebook-trace-renderer/index.html?trace_id=5509bcc28b9449538d01b2ad65bf7cdd&amp;experiment_id=754260582185799111&amp;version=3.1.1\"\n",
       "  />\n",
       "</div>\n"
      ],
      "text/plain": [
       "Trace(trace_id=5509bcc28b9449538d01b2ad65bf7cdd)"
      ]
     },
     "metadata": {},
     "output_type": "display_data"
    }
   ],
   "source": [
    "optimized_react(claim=\"The author of the 1960s unproduced script written for The Beatles, Up Against It, and Bernard-Marie Koltès are both playwrights.\").titles"
   ]
  },
  {
   "cell_type": "code",
   "execution_count": 40,
   "id": "7aaeaaca",
   "metadata": {},
   "outputs": [
    {
     "data": {
      "text/plain": [
       "['Joe Orton', 'Bernard-Marie Koltès', 'Up Against It']"
      ]
     },
     "execution_count": 40,
     "metadata": {},
     "output_type": "execute_result"
    },
    {
     "data": {
      "text/html": [
       "\n",
       "<div>\n",
       "  <style scoped>\n",
       "  button {\n",
       "    border: none;\n",
       "    border-radius: 4px;\n",
       "    background-color: rgb(34, 114, 180);\n",
       "    font-family: -apple-system, \"system-ui\", \"Segoe UI\", Roboto, \"Helvetica Neue\", Arial;\n",
       "    font-size: 13px;\n",
       "    color: white;\n",
       "    margin-top: 8px;\n",
       "    margin-bottom: 8px;\n",
       "    padding: 8px 16px;\n",
       "    cursor: pointer;\n",
       "  }\n",
       "  button:hover {\n",
       "    background-color: rgb(66, 153, 224);\n",
       "  }\n",
       "  </style>\n",
       "  <button\n",
       "    onclick=\"\n",
       "        const display = this.nextElementSibling.style.display;\n",
       "        const isCollapsed = display === 'none';\n",
       "        this.nextElementSibling.style.display = isCollapsed ? null : 'none';\n",
       "\n",
       "        const verb = isCollapsed ? 'Collapse' : 'Expand';\n",
       "        this.innerText = `${verb} MLflow Trace`;\n",
       "    \"\n",
       "  >Collapse MLflow Trace</button>\n",
       "  <iframe\n",
       "    id=\"trace-renderer\"\n",
       "    style=\"width: 100%; height: 500px; border: none; resize: vertical;\"\n",
       "    src=\"http://localhost:5000/static-files/lib/notebook-trace-renderer/index.html?trace_id=e63361b54f554208bfe7fbc2007fb61d&amp;experiment_id=754260582185799111&amp;version=3.1.1\"\n",
       "  />\n",
       "</div>\n"
      ],
      "text/plain": [
       "Trace(trace_id=e63361b54f554208bfe7fbc2007fb61d)"
      ]
     },
     "metadata": {},
     "output_type": "display_data"
    }
   ],
   "source": [
    "optimized_react.save(\"optimized_react.json\")\n",
    "\n",
    "loaded_react = dspy.ReAct(\"claim -> titles: list[str]\", tools=[search_wikipedia, lookup_wikipedia], max_iters=20)\n",
    "loaded_react.load(\"optimized_react.json\")\n",
    "\n",
    "loaded_react(claim=\"The author of the 1960s unproduced script written for The Beatles, Up Against It, and Bernard-Marie Koltès are both playwrights.\").titles"
   ]
  }
 ],
 "metadata": {
  "kernelspec": {
   "display_name": "dspy-azure-eval-example",
   "language": "python",
   "name": "python3"
  },
  "language_info": {
   "codemirror_mode": {
    "name": "ipython",
    "version": 3
   },
   "file_extension": ".py",
   "mimetype": "text/x-python",
   "name": "python",
   "nbconvert_exporter": "python",
   "pygments_lexer": "ipython3",
   "version": "3.12.7"
  }
 },
 "nbformat": 4,
 "nbformat_minor": 5
}
