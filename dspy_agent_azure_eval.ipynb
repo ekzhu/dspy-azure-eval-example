{
 "cells": [
  {
   "cell_type": "markdown",
   "id": "58ff02b0",
   "metadata": {},
   "source": [
    "# DSPy Agent Example with Azure OpenAI and Azure Evaluation SDK"
   ]
  },
  {
   "cell_type": "code",
   "execution_count": 1,
   "id": "70d485a9",
   "metadata": {},
   "outputs": [],
   "source": [
    "import os\n",
    "from dotenv import load_dotenv\n",
    "from azure.identity import DefaultAzureCredential, get_bearer_token_provider\n",
    "import dspy\n",
    "import ujson\n",
    "import random\n",
    "import dspy.evaluate\n",
    "import dspy.retrievers\n",
    "import dspy.datasets\n",
    "from datasets import load_dataset\n",
    "from azure.ai.evaluation import AzureOpenAIModelConfiguration"
   ]
  },
  {
   "cell_type": "code",
   "execution_count": 2,
   "id": "06f6330e",
   "metadata": {},
   "outputs": [
    {
     "data": {
      "text/plain": [
       "True"
      ]
     },
     "execution_count": 2,
     "metadata": {},
     "output_type": "execute_result"
    }
   ],
   "source": [
    "# Load environment variables from .env file\n",
    "load_dotenv()"
   ]
  },
  {
   "cell_type": "markdown",
   "id": "223a55c4",
   "metadata": {},
   "source": [
    "## Setup Tracing with MLFlow"
   ]
  },
  {
   "cell_type": "code",
   "execution_count": 3,
   "id": "11b03b2a",
   "metadata": {},
   "outputs": [],
   "source": [
    "import mlflow\n",
    "\n",
    "mlflow.set_tracking_uri(\"http://localhost:5000\")\n",
    "mlflow.set_experiment(\"DSPy-Azure-Eval-Example\")\n",
    "\n",
    "# Enable tracing.\n",
    "mlflow.dspy.autolog()"
   ]
  },
  {
   "cell_type": "markdown",
   "id": "8cd41816",
   "metadata": {},
   "source": [
    "## Setup LM models"
   ]
  },
  {
   "cell_type": "code",
   "execution_count": 4,
   "id": "00bb714c",
   "metadata": {},
   "outputs": [],
   "source": [
    "token_provider = get_bearer_token_provider(DefaultAzureCredential(), \"https://cognitiveservices.azure.com/.default\")\n",
    "\n",
    "gpt41 = dspy.LM(\n",
    "    model=f\"azure/gpt-4.1-2\",\n",
    "    base_url=os.environ[\"AZURE_OPENAI_ENDPOINT\"],\n",
    "    api_version=os.environ[\"AZURE_OPENAI_API_VERSION\"],\n",
    "    azure_ad_token_provider=token_provider,\n",
    ")\n",
    "\n",
    "gpt4omini=dspy.LM(\n",
    "    model=f\"azure/gpt-4o-mini\",\n",
    "    base_url=os.environ[\"AZURE_OPENAI_ENDPOINT\"],\n",
    "    api_version=os.environ[\"AZURE_OPENAI_API_VERSION\"],\n",
    "    azure_ad_token_provider=token_provider,\n",
    ")\n",
    "\n",
    "dspy.configure(lm=gpt4omini)"
   ]
  },
  {
   "cell_type": "code",
   "execution_count": 5,
   "id": "8066f626",
   "metadata": {},
   "outputs": [
    {
     "data": {
      "text/plain": [
       "['Hello, world! 🌍']"
      ]
     },
     "execution_count": 5,
     "metadata": {},
     "output_type": "execute_result"
    },
    {
     "data": {
      "text/html": [
       "\n",
       "<div>\n",
       "  <style scoped>\n",
       "  button {\n",
       "    border: none;\n",
       "    border-radius: 4px;\n",
       "    background-color: rgb(34, 114, 180);\n",
       "    font-family: -apple-system, \"system-ui\", \"Segoe UI\", Roboto, \"Helvetica Neue\", Arial;\n",
       "    font-size: 13px;\n",
       "    color: white;\n",
       "    margin-top: 8px;\n",
       "    margin-bottom: 8px;\n",
       "    padding: 8px 16px;\n",
       "    cursor: pointer;\n",
       "  }\n",
       "  button:hover {\n",
       "    background-color: rgb(66, 153, 224);\n",
       "  }\n",
       "  </style>\n",
       "  <button\n",
       "    onclick=\"\n",
       "        const display = this.nextElementSibling.style.display;\n",
       "        const isCollapsed = display === 'none';\n",
       "        this.nextElementSibling.style.display = isCollapsed ? null : 'none';\n",
       "\n",
       "        const verb = isCollapsed ? 'Collapse' : 'Expand';\n",
       "        this.innerText = `${verb} MLflow Trace`;\n",
       "    \"\n",
       "  >Collapse MLflow Trace</button>\n",
       "  <iframe\n",
       "    id=\"trace-renderer\"\n",
       "    style=\"width: 100%; height: 500px; border: none; resize: vertical;\"\n",
       "    src=\"http://localhost:5000/static-files/lib/notebook-trace-renderer/index.html?trace_id=a1f88f9c998542098cac5d2540d1ecae&amp;experiment_id=754260582185799111&amp;version=3.1.1\"\n",
       "  />\n",
       "</div>\n"
      ],
      "text/plain": [
       "Trace(trace_id=a1f88f9c998542098cac5d2540d1ecae)"
      ]
     },
     "metadata": {},
     "output_type": "display_data"
    }
   ],
   "source": [
    "gpt41(\"Say hello to the world!\")"
   ]
  },
  {
   "cell_type": "code",
   "execution_count": 6,
   "id": "a815e333",
   "metadata": {},
   "outputs": [
    {
     "data": {
      "text/plain": [
       "['Hello, world! 🌍✨ How can I assist you today?']"
      ]
     },
     "execution_count": 6,
     "metadata": {},
     "output_type": "execute_result"
    },
    {
     "data": {
      "text/html": [
       "\n",
       "<div>\n",
       "  <style scoped>\n",
       "  button {\n",
       "    border: none;\n",
       "    border-radius: 4px;\n",
       "    background-color: rgb(34, 114, 180);\n",
       "    font-family: -apple-system, \"system-ui\", \"Segoe UI\", Roboto, \"Helvetica Neue\", Arial;\n",
       "    font-size: 13px;\n",
       "    color: white;\n",
       "    margin-top: 8px;\n",
       "    margin-bottom: 8px;\n",
       "    padding: 8px 16px;\n",
       "    cursor: pointer;\n",
       "  }\n",
       "  button:hover {\n",
       "    background-color: rgb(66, 153, 224);\n",
       "  }\n",
       "  </style>\n",
       "  <button\n",
       "    onclick=\"\n",
       "        const display = this.nextElementSibling.style.display;\n",
       "        const isCollapsed = display === 'none';\n",
       "        this.nextElementSibling.style.display = isCollapsed ? null : 'none';\n",
       "\n",
       "        const verb = isCollapsed ? 'Collapse' : 'Expand';\n",
       "        this.innerText = `${verb} MLflow Trace`;\n",
       "    \"\n",
       "  >Collapse MLflow Trace</button>\n",
       "  <iframe\n",
       "    id=\"trace-renderer\"\n",
       "    style=\"width: 100%; height: 500px; border: none; resize: vertical;\"\n",
       "    src=\"http://localhost:5000/static-files/lib/notebook-trace-renderer/index.html?trace_id=8fd59d3bab794f5898cf5c0bdf89d45a&amp;experiment_id=754260582185799111&amp;version=3.1.1\"\n",
       "  />\n",
       "</div>\n"
      ],
      "text/plain": [
       "Trace(trace_id=8fd59d3bab794f5898cf5c0bdf89d45a)"
      ]
     },
     "metadata": {},
     "output_type": "display_data"
    }
   ],
   "source": [
    "gpt4omini(\"Say hello to the world!\")"
   ]
  },
  {
   "cell_type": "markdown",
   "id": "b4843cb5",
   "metadata": {},
   "source": [
    "## Load HoVer multi-hop QA datasets"
   ]
  },
  {
   "cell_type": "code",
   "execution_count": 7,
   "id": "6eec26f3",
   "metadata": {},
   "outputs": [],
   "source": [
    "# Load HoVer dataset using parquet files (avoiding deprecated script)\n",
    "from datasets import load_dataset\n",
    "\n",
    "try:\n",
    "    # Try loading using parquet files which should be available\n",
    "    dataset = load_dataset(\"parquet\", data_files={\n",
    "        \"train\": \"hf://datasets/hover-nlp/hover/train-00000-of-00001.parquet\"\n",
    "    })\n",
    "    hover_train = dataset[\"train\"]\n",
    "except:\n",
    "    # Fallback: Load using the dataset name with revision\n",
    "    dataset = load_dataset(\"hover-nlp/hover\", revision=\"refs/convert/parquet\")\n",
    "    hover_train = dataset[\"train\"]\n",
    "\n",
    "# Convert to DSPy examples\n",
    "hover = []\n",
    "hpqa_ids = set()\n",
    "\n",
    "for x in hover_train:\n",
    "    if x[\"num_hops\"] == 3 and x[\"hpqa_id\"] not in hpqa_ids:\n",
    "        hpqa_ids.add(x[\"hpqa_id\"])\n",
    "        titles = list(set([y[\"key\"] for y in x[\"supporting_facts\"]]))\n",
    "        hover.append(\n",
    "            dspy.Example(claim=x[\"claim\"], titles=titles).with_inputs(\"claim\")\n",
    "        )\n",
    "\n",
    "random.Random(0).shuffle(hover)\n",
    "trainset, devset, testset = hover[:100], hover[100:200], hover[650:]"
   ]
  },
  {
   "cell_type": "code",
   "execution_count": 8,
   "id": "2d8c2a40",
   "metadata": {},
   "outputs": [
    {
     "data": {
      "text/plain": [
       "(100, 100, 1216)"
      ]
     },
     "execution_count": 8,
     "metadata": {},
     "output_type": "execute_result"
    }
   ],
   "source": [
    "len(trainset), len(devset), len(testset)"
   ]
  },
  {
   "cell_type": "code",
   "execution_count": 9,
   "id": "7b699da0",
   "metadata": {},
   "outputs": [
    {
     "data": {
      "text/plain": [
       "Example({'claim': 'This director is known for his work on Miss Potter. The Academy of Motion Picture Arts and Sciences presents the award in which he was nominated for his work in \"Babe\".', 'titles': ['Miss Potter', 'Academy Award for Best Director', 'Chris Noonan']}) (input_keys={'claim'})"
      ]
     },
     "execution_count": 9,
     "metadata": {},
     "output_type": "execute_result"
    }
   ],
   "source": [
    "trainset[0]"
   ]
  },
  {
   "cell_type": "markdown",
   "id": "5df25f4f",
   "metadata": {},
   "source": [
    "## Tools for agent"
   ]
  },
  {
   "cell_type": "code",
   "execution_count": 10,
   "id": "fd0b9d91",
   "metadata": {},
   "outputs": [],
   "source": [
    "DOCS = {}\n",
    "\n",
    "def search(query: str, k: int) -> list[str]:\n",
    "    results = dspy.ColBERTv2(url='http://20.102.90.50:2017/wiki17_abstracts')(query, k=k)\n",
    "    results = [x['text'] for x in results]\n",
    "\n",
    "    for result in results:\n",
    "        title, text = result.split(\" | \", 1)\n",
    "        DOCS[title] = text\n",
    "\n",
    "    return results"
   ]
  },
  {
   "cell_type": "code",
   "execution_count": 11,
   "id": "ae24f221",
   "metadata": {},
   "outputs": [],
   "source": [
    "def search_wikipedia(query: str) -> list[str]:\n",
    "    \"\"\"Returns top-5 results and then the titles of the top-5 to top-30 results.\"\"\"\n",
    "\n",
    "    topK = search(query, 30)\n",
    "    titles, topK = [f\"`{x.split(' | ')[0]}`\" for x in topK[5:30]], topK[:5]\n",
    "    return topK + [f\"Other retrieved pages have titles: {', '.join(titles)}.\"]\n",
    "\n",
    "def lookup_wikipedia(title: str) -> str:\n",
    "    \"\"\"Returns the text of the Wikipedia page, if it exists.\"\"\"\n",
    "\n",
    "    if title in DOCS:\n",
    "        return DOCS[title]\n",
    "\n",
    "    results = [x for x in search(title, 10) if x.startswith(title + \" | \")]\n",
    "    if not results:\n",
    "        return f\"No Wikipedia page found for title: {title}\"\n",
    "    return results[0]"
   ]
  },
  {
   "cell_type": "code",
   "execution_count": 12,
   "id": "a74ebb47",
   "metadata": {},
   "outputs": [
    {
     "data": {
      "text/plain": [
       "['Albert Einstein | Albert Einstein (14 March 1879 – 18 April 1955) was a German-born theoretical physicist. Einstein developed the theory of relativity, one of the two pillars of modern physics (alongside quantum mechanics). Einstein\\'s work is also known for its influence on the philosophy of science. Einstein is best known by the general public for his mass–energy equivalence formula \"E\" = \"mc\" (which has been dubbed \"the world\\'s most famous equation\"). He received the 1921 Nobel Prize in Physics \"for his services to theoretical physics, and especially for his discovery of the law of the photoelectric effect\", a pivotal step in the evolution of quantum theory.',\n",
       " 'Einstein (disambiguation) | Albert Einstein (1879–1955) was a German-born theoretical physicist.',\n",
       " 'Hans Albert Einstein | Hans Albert Einstein ( ; May 14, 1904 – July 26, 1973) was a Swiss-American engineer and educator, the second child and first son of Albert Einstein and Mileva Marić. Hans A. Einstein was a professor of Hydraulic Engineering at the University of California, Berkeley, and was recognized for his research on sediment transport. His papers are held at the Water Resources Collections and Archives in the University of California, Riverside Libraries and in the University of Iowa Libraries Special Collections and Archives.',\n",
       " 'Albert Einstein (disambiguation) | Albert Einstein was a noted German-born theoretical physicist.',\n",
       " 'Charles Einstein | Charles Einstein (August 2, 1926 – March 7, 2007) was a newspaperman and sportswriter. He was also the author of the novel \"The Bloody Spur\", on which the film \"While the City Sleeps\" by Fritz Lang was based. His father was the comedian Harry Einstein. He is the older half-brother of comedic actors Albert Brooks and Bob Einstein, better known by his stage name \"Super Dave Osborne\".',\n",
       " \"Other retrieved pages have titles: `Bernhard Caesar Einstein`, `Arik Einstein`, `Alfred Einstein`, `Political views of Albert Einstein`, `Carl Einstein`, `Einstein's awards and honors`, `Edwin Einstein`, `Meir Einstein`, `Thomas Martin Einstein`, `Leopold Einstein`, `Lewis Einstein`, `Moshe Carmeli`, `Einstein's Blackboard`, `Albert Einstein World Award of Science`, `Albert Einstein's brain`, `Hans Einstein`, `Einstein Gargoyle`, `Harry Einstein`, `Albert Einstein Memorial`, `Albert Einstein (album)`, `Albert Brooks`, `Albert Einstein Society`, `Siegfried Einstein`, `Einstein and Eddington`, `Albert Einstein College of Medicine`.\"]"
      ]
     },
     "execution_count": 12,
     "metadata": {},
     "output_type": "execute_result"
    }
   ],
   "source": [
    "search_wikipedia(\"Albert Einstein\")"
   ]
  },
  {
   "cell_type": "code",
   "execution_count": 13,
   "id": "26299f8e",
   "metadata": {},
   "outputs": [
    {
     "data": {
      "text/plain": [
       "'Albert Einstein (14 March 1879 – 18 April 1955) was a German-born theoretical physicist. Einstein developed the theory of relativity, one of the two pillars of modern physics (alongside quantum mechanics). Einstein\\'s work is also known for its influence on the philosophy of science. Einstein is best known by the general public for his mass–energy equivalence formula \"E\" = \"mc\" (which has been dubbed \"the world\\'s most famous equation\"). He received the 1921 Nobel Prize in Physics \"for his services to theoretical physics, and especially for his discovery of the law of the photoelectric effect\", a pivotal step in the evolution of quantum theory.'"
      ]
     },
     "execution_count": 13,
     "metadata": {},
     "output_type": "execute_result"
    }
   ],
   "source": [
    "lookup_wikipedia(\"Albert Einstein\")"
   ]
  },
  {
   "cell_type": "markdown",
   "id": "91f1c2b7",
   "metadata": {},
   "source": [
    "## Define DSPy agent using `dspy.ReAct`"
   ]
  },
  {
   "cell_type": "code",
   "execution_count": 14,
   "id": "c4dd7e08",
   "metadata": {},
   "outputs": [],
   "source": [
    "instructions = \"Find all Wikipedia titles relevant to verifying (or refuting) the claim.\"\n",
    "signature = dspy.Signature(\"claim -> titles: list[str]\", instructions)\n",
    "react = dspy.ReAct(signature, tools=[search_wikipedia, lookup_wikipedia], max_iters=20)"
   ]
  },
  {
   "cell_type": "code",
   "execution_count": 15,
   "id": "037be09a",
   "metadata": {},
   "outputs": [
    {
     "data": {
      "text/plain": [
       "['David Gregory (physician)',\n",
       " 'David Gregory (historian)',\n",
       " 'David Gregory (mathematician)']"
      ]
     },
     "execution_count": 15,
     "metadata": {},
     "output_type": "execute_result"
    },
    {
     "data": {
      "text/html": [
       "\n",
       "<div>\n",
       "  <style scoped>\n",
       "  button {\n",
       "    border: none;\n",
       "    border-radius: 4px;\n",
       "    background-color: rgb(34, 114, 180);\n",
       "    font-family: -apple-system, \"system-ui\", \"Segoe UI\", Roboto, \"Helvetica Neue\", Arial;\n",
       "    font-size: 13px;\n",
       "    color: white;\n",
       "    margin-top: 8px;\n",
       "    margin-bottom: 8px;\n",
       "    padding: 8px 16px;\n",
       "    cursor: pointer;\n",
       "  }\n",
       "  button:hover {\n",
       "    background-color: rgb(66, 153, 224);\n",
       "  }\n",
       "  </style>\n",
       "  <button\n",
       "    onclick=\"\n",
       "        const display = this.nextElementSibling.style.display;\n",
       "        const isCollapsed = display === 'none';\n",
       "        this.nextElementSibling.style.display = isCollapsed ? null : 'none';\n",
       "\n",
       "        const verb = isCollapsed ? 'Collapse' : 'Expand';\n",
       "        this.innerText = `${verb} MLflow Trace`;\n",
       "    \"\n",
       "  >Collapse MLflow Trace</button>\n",
       "  <iframe\n",
       "    id=\"trace-renderer\"\n",
       "    style=\"width: 100%; height: 500px; border: none; resize: vertical;\"\n",
       "    src=\"http://localhost:5000/static-files/lib/notebook-trace-renderer/index.html?trace_id=6fc98f3b895c45db88b43c9040ad3c33&amp;experiment_id=754260582185799111&amp;version=3.1.1\"\n",
       "  />\n",
       "</div>\n"
      ],
      "text/plain": [
       "Trace(trace_id=6fc98f3b895c45db88b43c9040ad3c33)"
      ]
     },
     "metadata": {},
     "output_type": "display_data"
    }
   ],
   "source": [
    "react(claim=\"David Gregory was born in 1625.\").titles[:3]"
   ]
  },
  {
   "cell_type": "markdown",
   "id": "1d5324a0",
   "metadata": {},
   "source": [
    "## Evaluate the agent using metrics from Azure Evaluation SDK"
   ]
  },
  {
   "cell_type": "code",
   "execution_count": 18,
   "id": "a84c52e9",
   "metadata": {},
   "outputs": [],
   "source": [
    "from azure.ai.evaluation import RetrievalEvaluator\n",
    "from azure.ai.evaluation import AzureOpenAIModelConfiguration\n",
    "\n",
    "class Relevance(dspy.Module):\n",
    "    def __init__(self, model_config, threshold=3):\n",
    "        self.relevance = RetrievalEvaluator(model_config=model_config, threshold=threshold)\n",
    "\n",
    "    def forward(self, example, pred, trace=None):\n",
    "        gold_titles = example.titles\n",
    "        claim = example.claim\n",
    "\n",
    "        titles = pred.titles[:5]\n",
    "        context = \"\\n\\n\".join([lookup_wikipedia(title) for title in titles])\n",
    "        scores = self.relevance(\n",
    "            query=claim,\n",
    "            context=context,\n",
    "        )\n",
    "        return scores[\"retrieval\"] / 5.0\n",
    "    \n",
    "relevance = Relevance(\n",
    "    model_config=AzureOpenAIModelConfiguration(\n",
    "        azure_deployment=\"gpt-4.1-2\",\n",
    "        azure_endpoint=os.environ[\"AZURE_OPENAI_ENDPOINT\"],\n",
    "        api_version=os.environ[\"AZURE_OPENAI_API_VERSION\"],\n",
    "    ),\n",
    "    threshold=3\n",
    ")\n",
    "\n",
    "evaluate = dspy.Evaluate(devset=devset, metric=relevance, num_threads=16, display_progress=True, display_table=5)"
   ]
  },
  {
   "cell_type": "code",
   "execution_count": 19,
   "id": "02bfaa27",
   "metadata": {},
   "outputs": [
    {
     "name": "stdout",
     "output_type": "stream",
     "text": [
      "Relevance score for the first example: 1.0\n"
     ]
    },
    {
     "data": {
      "text/html": [
       "\n",
       "<div>\n",
       "  <style scoped>\n",
       "  button {\n",
       "    border: none;\n",
       "    border-radius: 4px;\n",
       "    background-color: rgb(34, 114, 180);\n",
       "    font-family: -apple-system, \"system-ui\", \"Segoe UI\", Roboto, \"Helvetica Neue\", Arial;\n",
       "    font-size: 13px;\n",
       "    color: white;\n",
       "    margin-top: 8px;\n",
       "    margin-bottom: 8px;\n",
       "    padding: 8px 16px;\n",
       "    cursor: pointer;\n",
       "  }\n",
       "  button:hover {\n",
       "    background-color: rgb(66, 153, 224);\n",
       "  }\n",
       "  </style>\n",
       "  <button\n",
       "    onclick=\"\n",
       "        const display = this.nextElementSibling.style.display;\n",
       "        const isCollapsed = display === 'none';\n",
       "        this.nextElementSibling.style.display = isCollapsed ? null : 'none';\n",
       "\n",
       "        const verb = isCollapsed ? 'Collapse' : 'Expand';\n",
       "        this.innerText = `${verb} MLflow Trace`;\n",
       "    \"\n",
       "  >Collapse MLflow Trace</button>\n",
       "  <iframe\n",
       "    id=\"trace-renderer\"\n",
       "    style=\"width: 100%; height: 500px; border: none; resize: vertical;\"\n",
       "    src=\"http://localhost:5000/static-files/lib/notebook-trace-renderer/index.html?trace_id=d700a2a4fb0e4b958c57611ce6cad8cf&amp;experiment_id=754260582185799111&amp;trace_id=805249f5823248aa9e4c12deb4511f51&amp;experiment_id=754260582185799111&amp;version=3.1.1\"\n",
       "  />\n",
       "</div>\n"
      ],
      "text/plain": [
       "[Trace(trace_id=d700a2a4fb0e4b958c57611ce6cad8cf), Trace(trace_id=805249f5823248aa9e4c12deb4511f51)]"
      ]
     },
     "metadata": {},
     "output_type": "display_data"
    }
   ],
   "source": [
    "pred = react(**devset[0].inputs())\n",
    "\n",
    "score = relevance(devset[0], pred)\n",
    "\n",
    "print(f\"Relevance score for the first example: {score}\")"
   ]
  },
  {
   "cell_type": "code",
   "execution_count": 20,
   "id": "2eb71d06",
   "metadata": {},
   "outputs": [
    {
     "name": "stdout",
     "output_type": "stream",
     "text": [
      "Average Metric: 83.60 / 100 (83.6%): 100%|██████████| 100/100 [00:44<00:00,  2.25it/s]"
     ]
    },
    {
     "name": "stderr",
     "output_type": "stream",
     "text": [
      "2025/07/13 21:29:22 INFO dspy.evaluate.evaluate: Average Metric: 83.6 / 100 (83.6%)\n"
     ]
    },
    {
     "name": "stdout",
     "output_type": "stream",
     "text": [
      "\n"
     ]
    },
    {
     "data": {
      "text/html": [
       "<div>\n",
       "<style scoped>\n",
       "    .dataframe tbody tr th:only-of-type {\n",
       "        vertical-align: middle;\n",
       "    }\n",
       "\n",
       "    .dataframe tbody tr th {\n",
       "        vertical-align: top;\n",
       "    }\n",
       "\n",
       "    .dataframe thead th {\n",
       "        text-align: right;\n",
       "    }\n",
       "</style>\n",
       "<table border=\"1\" class=\"dataframe\">\n",
       "  <thead>\n",
       "    <tr style=\"text-align: right;\">\n",
       "      <th></th>\n",
       "      <th>claim</th>\n",
       "      <th>example_titles</th>\n",
       "      <th>trajectory</th>\n",
       "      <th>reasoning</th>\n",
       "      <th>pred_titles</th>\n",
       "      <th>Relevance</th>\n",
       "    </tr>\n",
       "  </thead>\n",
       "  <tbody>\n",
       "    <tr>\n",
       "      <th>0</th>\n",
       "      <td>The Church of England's movement that inspired the Trinity Episcop...</td>\n",
       "      <td>[Samuel Rickards, Oxford Movement, Trinity Episcopal Church (Hough...</td>\n",
       "      <td>{'thought_0': \"I need to gather information about the Church of En...</td>\n",
       "      <td>The claim states that the Church of England's movement that inspir...</td>\n",
       "      <td>[Trinity Episcopal Church (Houghton, Michigan), Oxford Movement, S...</td>\n",
       "      <td>✔️ [1.000]</td>\n",
       "    </tr>\n",
       "    <tr>\n",
       "      <th>1</th>\n",
       "      <td>Red, White &amp; Crüe and this athlete both fight. The french fighter ...</td>\n",
       "      <td>[Red, White &amp;amp; Crüe, Mike Tyson, Bobby Stewart]</td>\n",
       "      <td>{'thought_0': 'I need to find information about the athlete mentio...</td>\n",
       "      <td>The claim connects the album \"Red, White &amp; Crüe\" by Mötley Crüe to...</td>\n",
       "      <td>[Bobby Stewart, Mike Tyson, Mötley Crüe, Red, White &amp; Crüe]</td>\n",
       "      <td>✔️ [0.400]</td>\n",
       "    </tr>\n",
       "    <tr>\n",
       "      <th>2</th>\n",
       "      <td>The writer/director/actor from Glen or Glenda and Fernand Rivers s...</td>\n",
       "      <td>[Ed Wood, Fernand Rivers, Glen or Glenda]</td>\n",
       "      <td>{'thought_0': 'I need to verify the claim about the writer/directo...</td>\n",
       "      <td>The claim states that the writer/director/actor from \"Glen or Glen...</td>\n",
       "      <td>[Glen or Glenda, Ed Wood, Fernand Rivers]</td>\n",
       "      <td>✔️ [1.000]</td>\n",
       "    </tr>\n",
       "    <tr>\n",
       "      <th>3</th>\n",
       "      <td>The film by Sandi Sissel was released before The End of Suburbia.</td>\n",
       "      <td>[Chicken Ranch (film), Sandi Sissel, The End of Suburbia]</td>\n",
       "      <td>{'thought_0': 'I need to verify the release date of the film by Sa...</td>\n",
       "      <td>The claim states that a film by Sandi Sissel was released before \"...</td>\n",
       "      <td>[The End of Suburbia, Sandi Sissel]</td>\n",
       "      <td>✔️ [0.400]</td>\n",
       "    </tr>\n",
       "    <tr>\n",
       "      <th>4</th>\n",
       "      <td>The actor who played captain hook in the live production with Tayl...</td>\n",
       "      <td>[Peter Pan Live!, Christopher Walken, Taylor Louderman]</td>\n",
       "      <td>{'thought_0': 'I need to verify the claim about the actor who play...</td>\n",
       "      <td>The claim states that the actor who played Captain Hook in the liv...</td>\n",
       "      <td>[Peter Pan Live!, Christopher Walken, The Deer Hunter]</td>\n",
       "      <td>✔️ [1.000]</td>\n",
       "    </tr>\n",
       "  </tbody>\n",
       "</table>\n",
       "</div>"
      ],
      "text/plain": [
       "                                                                   claim  \\\n",
       "0  The Church of England's movement that inspired the Trinity Episcop...   \n",
       "1  Red, White & Crüe and this athlete both fight. The french fighter ...   \n",
       "2  The writer/director/actor from Glen or Glenda and Fernand Rivers s...   \n",
       "3      The film by Sandi Sissel was released before The End of Suburbia.   \n",
       "4  The actor who played captain hook in the live production with Tayl...   \n",
       "\n",
       "                                                          example_titles  \\\n",
       "0  [Samuel Rickards, Oxford Movement, Trinity Episcopal Church (Hough...   \n",
       "1                     [Red, White &amp; Crüe, Mike Tyson, Bobby Stewart]   \n",
       "2                              [Ed Wood, Fernand Rivers, Glen or Glenda]   \n",
       "3              [Chicken Ranch (film), Sandi Sissel, The End of Suburbia]   \n",
       "4                [Peter Pan Live!, Christopher Walken, Taylor Louderman]   \n",
       "\n",
       "                                                              trajectory  \\\n",
       "0  {'thought_0': \"I need to gather information about the Church of En...   \n",
       "1  {'thought_0': 'I need to find information about the athlete mentio...   \n",
       "2  {'thought_0': 'I need to verify the claim about the writer/directo...   \n",
       "3  {'thought_0': 'I need to verify the release date of the film by Sa...   \n",
       "4  {'thought_0': 'I need to verify the claim about the actor who play...   \n",
       "\n",
       "                                                               reasoning  \\\n",
       "0  The claim states that the Church of England's movement that inspir...   \n",
       "1  The claim connects the album \"Red, White & Crüe\" by Mötley Crüe to...   \n",
       "2  The claim states that the writer/director/actor from \"Glen or Glen...   \n",
       "3  The claim states that a film by Sandi Sissel was released before \"...   \n",
       "4  The claim states that the actor who played Captain Hook in the liv...   \n",
       "\n",
       "                                                             pred_titles  \\\n",
       "0  [Trinity Episcopal Church (Houghton, Michigan), Oxford Movement, S...   \n",
       "1            [Bobby Stewart, Mike Tyson, Mötley Crüe, Red, White & Crüe]   \n",
       "2                              [Glen or Glenda, Ed Wood, Fernand Rivers]   \n",
       "3                                    [The End of Suburbia, Sandi Sissel]   \n",
       "4                 [Peter Pan Live!, Christopher Walken, The Deer Hunter]   \n",
       "\n",
       "    Relevance  \n",
       "0  ✔️ [1.000]  \n",
       "1  ✔️ [0.400]  \n",
       "2  ✔️ [1.000]  \n",
       "3  ✔️ [0.400]  \n",
       "4  ✔️ [1.000]  "
      ]
     },
     "metadata": {},
     "output_type": "display_data"
    },
    {
     "data": {
      "text/html": [
       "\n",
       "            <div style='\n",
       "                text-align: center;\n",
       "                font-size: 16px;\n",
       "                font-weight: bold;\n",
       "                color: #555;\n",
       "                margin: 10px 0;'>\n",
       "                ... 95 more rows not displayed ...\n",
       "            </div>\n",
       "            "
      ],
      "text/plain": [
       "<IPython.core.display.HTML object>"
      ]
     },
     "metadata": {},
     "output_type": "display_data"
    },
    {
     "data": {
      "text/plain": [
       "83.6"
      ]
     },
     "execution_count": 20,
     "metadata": {},
     "output_type": "execute_result"
    },
    {
     "data": {
      "text/html": [
       "\n",
       "<div>\n",
       "  <style scoped>\n",
       "  button {\n",
       "    border: none;\n",
       "    border-radius: 4px;\n",
       "    background-color: rgb(34, 114, 180);\n",
       "    font-family: -apple-system, \"system-ui\", \"Segoe UI\", Roboto, \"Helvetica Neue\", Arial;\n",
       "    font-size: 13px;\n",
       "    color: white;\n",
       "    margin-top: 8px;\n",
       "    margin-bottom: 8px;\n",
       "    padding: 8px 16px;\n",
       "    cursor: pointer;\n",
       "  }\n",
       "  button:hover {\n",
       "    background-color: rgb(66, 153, 224);\n",
       "  }\n",
       "  </style>\n",
       "  <button\n",
       "    onclick=\"\n",
       "        const display = this.nextElementSibling.style.display;\n",
       "        const isCollapsed = display === 'none';\n",
       "        this.nextElementSibling.style.display = isCollapsed ? null : 'none';\n",
       "\n",
       "        const verb = isCollapsed ? 'Collapse' : 'Expand';\n",
       "        this.innerText = `${verb} MLflow Trace`;\n",
       "    \"\n",
       "  >Collapse MLflow Trace</button>\n",
       "  <iframe\n",
       "    id=\"trace-renderer\"\n",
       "    style=\"width: 100%; height: 500px; border: none; resize: vertical;\"\n",
       "    src=\"http://localhost:5000/static-files/lib/notebook-trace-renderer/index.html?trace_id=94a4d40dbebe4cc88727df29804f8d4f&amp;experiment_id=754260582185799111&amp;trace_id=9ac2ccaa21ad41fc9b062f68ea7a3438&amp;experiment_id=754260582185799111&amp;trace_id=7a54c26f46114f83a16b7989c095e911&amp;experiment_id=754260582185799111&amp;trace_id=e55460322b424535937f39db10ddf4eb&amp;experiment_id=754260582185799111&amp;trace_id=faed198eb2b44d4d8099e5e06820db0c&amp;experiment_id=754260582185799111&amp;trace_id=aee74039f135495ba10f7d0ccf58e15d&amp;experiment_id=754260582185799111&amp;trace_id=973d957dd3004f8d9c8e936bbbd61e43&amp;experiment_id=754260582185799111&amp;trace_id=5e0c1c0a383e4d88af6f924f2d5d9c7d&amp;experiment_id=754260582185799111&amp;trace_id=74ad77ae8bb144ac9c9d6ac79f05310c&amp;experiment_id=754260582185799111&amp;trace_id=4b762c4a22c64669887d1b7203c2ff66&amp;experiment_id=754260582185799111&amp;version=3.1.1\"\n",
       "  />\n",
       "</div>\n"
      ],
      "text/plain": [
       "[Trace(trace_id=94a4d40dbebe4cc88727df29804f8d4f), Trace(trace_id=9ac2ccaa21ad41fc9b062f68ea7a3438), Trace(trace_id=7a54c26f46114f83a16b7989c095e911), Trace(trace_id=e55460322b424535937f39db10ddf4eb), Trace(trace_id=faed198eb2b44d4d8099e5e06820db0c), Trace(trace_id=aee74039f135495ba10f7d0ccf58e15d), Trace(trace_id=973d957dd3004f8d9c8e936bbbd61e43), Trace(trace_id=5e0c1c0a383e4d88af6f924f2d5d9c7d), Trace(trace_id=74ad77ae8bb144ac9c9d6ac79f05310c), Trace(trace_id=4b762c4a22c64669887d1b7203c2ff66)]"
      ]
     },
     "metadata": {},
     "output_type": "display_data"
    }
   ],
   "source": [
    "# Wrapper to bypass exceptions during evaluation.\n",
    "def safe_react(claim: str):\n",
    "    try:\n",
    "        return react(claim=claim)\n",
    "    except Exception as e:\n",
    "        return dspy.Prediction(titles=[])\n",
    "\n",
    "evaluate(safe_react)"
   ]
  },
  {
   "cell_type": "markdown",
   "id": "a9f5343b",
   "metadata": {},
   "source": [
    "## Optimize the agent"
   ]
  },
  {
   "cell_type": "code",
   "execution_count": null,
   "id": "b43213fe",
   "metadata": {},
   "outputs": [],
   "source": [
    "kwargs = dict(teacher_settings=dict(lm=gpt41), prompt_model=gpt41, max_errors=999)\n",
    "\n",
    "tp = dspy.MIPROv2(metric=relevance, auto=\"medium\", num_threads=16, **kwargs)\n",
    "optimized_react = tp.compile(react, trainset=trainset, max_bootstrapped_demos=3, max_labeled_demos=0)"
   ]
  },
  {
   "cell_type": "code",
   "execution_count": null,
   "id": "998ae6c6",
   "metadata": {},
   "outputs": [],
   "source": [
    "optimized_react(claim=\"The author of the 1960s unproduced script written for The Beatles, Up Against It, and Bernard-Marie Koltès are both playwrights.\").titles"
   ]
  },
  {
   "cell_type": "code",
   "execution_count": null,
   "id": "7aaeaaca",
   "metadata": {},
   "outputs": [],
   "source": [
    "optimized_react.save(\"optimized_react.json\")\n",
    "\n",
    "loaded_react = dspy.ReAct(\"claim -> titles: list[str]\", tools=[search_wikipedia, lookup_wikipedia], max_iters=20)\n",
    "loaded_react.load(\"optimized_react.json\")\n",
    "\n",
    "loaded_react(claim=\"The author of the 1960s unproduced script written for The Beatles, Up Against It, and Bernard-Marie Koltès are both playwrights.\").titles"
   ]
  }
 ],
 "metadata": {
  "kernelspec": {
   "display_name": "dspy-azure-eval-example",
   "language": "python",
   "name": "python3"
  },
  "language_info": {
   "codemirror_mode": {
    "name": "ipython",
    "version": 3
   },
   "file_extension": ".py",
   "mimetype": "text/x-python",
   "name": "python",
   "nbconvert_exporter": "python",
   "pygments_lexer": "ipython3",
   "version": "3.12.7"
  }
 },
 "nbformat": 4,
 "nbformat_minor": 5
}
