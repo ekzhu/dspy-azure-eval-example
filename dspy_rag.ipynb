{
    "cells": [
        {
            "cell_type": "markdown",
            "id": "47ca5d0a",
            "metadata": {},
            "source": [
                "# DSPy RAG Example with Azure OpenAI"
            ]
        },
        {
            "cell_type": "markdown",
            "id": "393330c2",
            "metadata": {},
            "source": [
                "## Setup"
            ]
        },
        {
            "cell_type": "code",
            "execution_count": null,
            "id": "ed0437a7",
            "metadata": {},
            "outputs": [],
            "source": [
                "import os\n",
                "from dotenv import load_dotenv\n",
                "from azure.identity import DefaultAzureCredential, get_bearer_token_provider\n",
                "import dspy\n",
                "import ujson\n",
                "import random\n",
                "import dspy.evaluate\n",
                "import dspy.retrievers"
            ]
        },
        {
            "cell_type": "code",
            "execution_count": null,
            "id": "0d3884b3",
            "metadata": {},
            "outputs": [
                {
                    "data": {
                        "text/plain": [
                            "True"
                        ]
                    },
                    "execution_count": 30,
                    "metadata": {},
                    "output_type": "execute_result"
                }
            ],
            "source": [
                "# Load environment variables from .env file\n",
                "load_dotenv()"
            ]
        },
        {
            "cell_type": "markdown",
            "id": "2bf65f3e",
            "metadata": {},
            "source": [
                "## Setup Tracing with MLFlow"
            ]
        },
        {
            "cell_type": "code",
            "execution_count": 2,
            "id": "d17f8528",
            "metadata": {},
            "outputs": [],
            "source": [
                "import mlflow\n",
                "\n",
                "mlflow.set_tracking_uri(\"http://localhost:5000\")\n",
                "mlflow.set_experiment(\"DSPy-Azure-Eval-Example\")\n",
                "\n",
                "# Enable tracing.\n",
                "mlflow.dspy.autolog()"
            ]
        },
        {
            "cell_type": "markdown",
            "id": "75177b63",
            "metadata": {},
            "source": [
                "## Setup LM Configuration"
            ]
        },
        {
            "cell_type": "code",
            "execution_count": 65,
            "id": "be8120b9",
            "metadata": {},
            "outputs": [],
            "source": [
                "token_provider = get_bearer_token_provider(DefaultAzureCredential(), \"https://cognitiveservices.azure.com/.default\")\n",
                "\n",
                "lm = dspy.LM(\n",
                "    model=f\"azure/gpt-4.1\",\n",
                "    base_url=os.environ[\"AZURE_OPENAI_ENDPOINT\"],\n",
                "    api_version=os.environ[\"AZURE_OPENAI_API_VERSION\"],\n",
                "    azure_ad_token_provider=token_provider,\n",
                ")\n",
                "dspy.configure(lm=lm)"
            ]
        },
        {
            "cell_type": "code",
            "execution_count": 66,
            "id": "22bab336",
            "metadata": {},
            "outputs": [
                {
                    "data": {
                        "text/plain": [
                            "['Hello, world! 🌍']"
                        ]
                    },
                    "execution_count": 66,
                    "metadata": {},
                    "output_type": "execute_result"
                },
                {
                    "data": {
                        "text/html": [
                            "\n",
                            "<div>\n",
                            "  <style scoped>\n",
                            "  button {\n",
                            "    border: none;\n",
                            "    border-radius: 4px;\n",
                            "    background-color: rgb(34, 114, 180);\n",
                            "    font-family: -apple-system, \"system-ui\", \"Segoe UI\", Roboto, \"Helvetica Neue\", Arial;\n",
                            "    font-size: 13px;\n",
                            "    color: white;\n",
                            "    margin-top: 8px;\n",
                            "    margin-bottom: 8px;\n",
                            "    padding: 8px 16px;\n",
                            "    cursor: pointer;\n",
                            "  }\n",
                            "  button:hover {\n",
                            "    background-color: rgb(66, 153, 224);\n",
                            "  }\n",
                            "  </style>\n",
                            "  <button\n",
                            "    onclick=\"\n",
                            "        const display = this.nextElementSibling.style.display;\n",
                            "        const isCollapsed = display === 'none';\n",
                            "        this.nextElementSibling.style.display = isCollapsed ? null : 'none';\n",
                            "\n",
                            "        const verb = isCollapsed ? 'Collapse' : 'Expand';\n",
                            "        this.innerText = `${verb} MLflow Trace`;\n",
                            "    \"\n",
                            "  >Collapse MLflow Trace</button>\n",
                            "  <iframe\n",
                            "    id=\"trace-renderer\"\n",
                            "    style=\"width: 100%; height: 500px; border: none; resize: vertical;\"\n",
                            "    src=\"http://localhost:5000/static-files/lib/notebook-trace-renderer/index.html?trace_id=3bb96e9954d44bc0b088f3bf9b44fffd&amp;experiment_id=754260582185799111&amp;version=3.1.1\"\n",
                            "  />\n",
                            "</div>\n"
                        ],
                        "text/plain": [
                            "Trace(trace_id=3bb96e9954d44bc0b088f3bf9b44fffd)"
                        ]
                    },
                    "metadata": {},
                    "output_type": "display_data"
                }
            ],
            "source": [
                "# Test the LM configuration.\n",
                "lm(\"Say hello to the world!\")"
            ]
        },
        {
            "cell_type": "markdown",
            "id": "55bb930f",
            "metadata": {},
            "source": [
                "## Start with DSPy modules"
            ]
        },
        {
            "cell_type": "code",
            "execution_count": 67,
            "id": "17768917",
            "metadata": {},
            "outputs": [
                {
                    "name": "stdout",
                    "output_type": "stream",
                    "text": [
                        "Prediction(\n",
                        "    response='On Linux, \"high memory\" and \"low memory\" refer to different regions of physical RAM as seen by the kernel, especially on 32-bit systems:\\n\\n- **Low Memory**: This is the portion of physical RAM that the Linux kernel can directly address and map into its own address space. On 32-bit x86 systems, this is typically the first ~896 MB of RAM (from 0x00000000 to 0x37FFFFFF). The kernel and most kernel data structures reside here, and it is directly accessible by the kernel at all times.\\n\\n- **High Memory**: This is any physical RAM above the low memory threshold (above ~896 MB on 32-bit x86). The kernel cannot directly map all of high memory into its address space due to address space limitations. Instead, it must temporarily map high memory pages when it needs to access them. High memory is used primarily for user-space processes and file caches.\\n\\nOn 64-bit systems, the distinction is largely irrelevant because the kernel can address much more memory directly, so all RAM is effectively \"low memory.\"\\n\\n**Summary:**  \\n- Low memory: Directly accessible by the kernel, limited in size on 32-bit systems.  \\n- High memory: Not directly accessible, requires temporary mapping, used for user data and caches.'\n",
                        ")\n"
                    ]
                },
                {
                    "data": {
                        "text/html": [
                            "\n",
                            "<div>\n",
                            "  <style scoped>\n",
                            "  button {\n",
                            "    border: none;\n",
                            "    border-radius: 4px;\n",
                            "    background-color: rgb(34, 114, 180);\n",
                            "    font-family: -apple-system, \"system-ui\", \"Segoe UI\", Roboto, \"Helvetica Neue\", Arial;\n",
                            "    font-size: 13px;\n",
                            "    color: white;\n",
                            "    margin-top: 8px;\n",
                            "    margin-bottom: 8px;\n",
                            "    padding: 8px 16px;\n",
                            "    cursor: pointer;\n",
                            "  }\n",
                            "  button:hover {\n",
                            "    background-color: rgb(66, 153, 224);\n",
                            "  }\n",
                            "  </style>\n",
                            "  <button\n",
                            "    onclick=\"\n",
                            "        const display = this.nextElementSibling.style.display;\n",
                            "        const isCollapsed = display === 'none';\n",
                            "        this.nextElementSibling.style.display = isCollapsed ? null : 'none';\n",
                            "\n",
                            "        const verb = isCollapsed ? 'Collapse' : 'Expand';\n",
                            "        this.innerText = `${verb} MLflow Trace`;\n",
                            "    \"\n",
                            "  >Collapse MLflow Trace</button>\n",
                            "  <iframe\n",
                            "    id=\"trace-renderer\"\n",
                            "    style=\"width: 100%; height: 500px; border: none; resize: vertical;\"\n",
                            "    src=\"http://localhost:5000/static-files/lib/notebook-trace-renderer/index.html?trace_id=53d56f974e764fafac77cdb12bc35d03&amp;experiment_id=754260582185799111&amp;version=3.1.1\"\n",
                            "  />\n",
                            "</div>\n"
                        ],
                        "text/plain": [
                            "Trace(trace_id=53d56f974e764fafac77cdb12bc35d03)"
                        ]
                    },
                    "metadata": {},
                    "output_type": "display_data"
                }
            ],
            "source": [
                "qa = dspy.Predict(\"question: str -> response: str\")\n",
                "response = qa(question=\"What are high memory and low memory on Linux?\")\n",
                "\n",
                "print(response)"
            ]
        },
        {
            "cell_type": "code",
            "execution_count": 68,
            "id": "15cd663a",
            "metadata": {},
            "outputs": [
                {
                    "data": {
                        "text/plain": [
                            "Prediction(\n",
                            "    reasoning='In C#, the placement of curly braces is a matter of style, but the most widely accepted convention (as recommended by Microsoft and used in most C# codebases) is to place the opening curly brace on a new line after the function declaration. This is known as the \"Allman style.\" However, some developers may use the \"K&R style,\" where the opening brace appears on the same line as the function name, but this is less common in C#.',\n",
                            "    response='No, in C#, the standard convention is to place the opening curly brace on a new line after the function name, not on the same line.'\n",
                            ")"
                        ]
                    },
                    "execution_count": 68,
                    "metadata": {},
                    "output_type": "execute_result"
                },
                {
                    "data": {
                        "text/html": [
                            "\n",
                            "<div>\n",
                            "  <style scoped>\n",
                            "  button {\n",
                            "    border: none;\n",
                            "    border-radius: 4px;\n",
                            "    background-color: rgb(34, 114, 180);\n",
                            "    font-family: -apple-system, \"system-ui\", \"Segoe UI\", Roboto, \"Helvetica Neue\", Arial;\n",
                            "    font-size: 13px;\n",
                            "    color: white;\n",
                            "    margin-top: 8px;\n",
                            "    margin-bottom: 8px;\n",
                            "    padding: 8px 16px;\n",
                            "    cursor: pointer;\n",
                            "  }\n",
                            "  button:hover {\n",
                            "    background-color: rgb(66, 153, 224);\n",
                            "  }\n",
                            "  </style>\n",
                            "  <button\n",
                            "    onclick=\"\n",
                            "        const display = this.nextElementSibling.style.display;\n",
                            "        const isCollapsed = display === 'none';\n",
                            "        this.nextElementSibling.style.display = isCollapsed ? null : 'none';\n",
                            "\n",
                            "        const verb = isCollapsed ? 'Collapse' : 'Expand';\n",
                            "        this.innerText = `${verb} MLflow Trace`;\n",
                            "    \"\n",
                            "  >Collapse MLflow Trace</button>\n",
                            "  <iframe\n",
                            "    id=\"trace-renderer\"\n",
                            "    style=\"width: 100%; height: 500px; border: none; resize: vertical;\"\n",
                            "    src=\"http://localhost:5000/static-files/lib/notebook-trace-renderer/index.html?trace_id=dcfe007473e440c1bb558dd2175e811b&amp;experiment_id=754260582185799111&amp;version=3.1.1\"\n",
                            "  />\n",
                            "</div>\n"
                        ],
                        "text/plain": [
                            "Trace(trace_id=dcfe007473e440c1bb558dd2175e811b)"
                        ]
                    },
                    "metadata": {},
                    "output_type": "display_data"
                }
            ],
            "source": [
                "cot = dspy.ChainOfThought(\"question: str -> response: str\")\n",
                "cot(question=\"Should curly braces appear on the same line as the function name in C#?\")"
            ]
        },
        {
            "cell_type": "markdown",
            "id": "fecec2b0",
            "metadata": {},
            "source": [
                "## Evaluate with Examples"
            ]
        },
        {
            "cell_type": "code",
            "execution_count": null,
            "id": "e3bd9475",
            "metadata": {},
            "outputs": [
                {
                    "name": "stdout",
                    "output_type": "stream",
                    "text": [
                        "--2025-07-13 13:18:05--  https://huggingface.co/dspy/cache/resolve/main/ragqa_arena_tech_examples.jsonl\n",
                        "Resolving huggingface.co (huggingface.co)... 3.163.189.114, 3.163.189.90, 3.163.189.37, ...\n",
                        "Connecting to huggingface.co (huggingface.co)|3.163.189.114|:443... connected.\n",
                        "HTTP request sent, awaiting response... 307 Temporary Redirect\n",
                        "Location: /api/resolve-cache/models/dspy/cache/ef6a5e72a98b47cef31574a400fea8fe149559a3/ragqa_arena_tech_examples.jsonl?%2Fdspy%2Fcache%2Fresolve%2Fmain%2Fragqa_arena_tech_examples.jsonl=&etag=%2236aea6cafdd206141e4ce7a897b5c38f0be9d785%22 [following]\n",
                        "--2025-07-13 13:18:05--  https://huggingface.co/api/resolve-cache/models/dspy/cache/ef6a5e72a98b47cef31574a400fea8fe149559a3/ragqa_arena_tech_examples.jsonl?%2Fdspy%2Fcache%2Fresolve%2Fmain%2Fragqa_arena_tech_examples.jsonl=&etag=%2236aea6cafdd206141e4ce7a897b5c38f0be9d785%22\n",
                        "Reusing existing connection to huggingface.co:443.\n",
                        "HTTP request sent, awaiting response... 200 OK\n",
                        "Length: 1522638 (1.5M) [text/plain]\n",
                        "Saving to: ‘ragqa_arena_tech_examples.jsonl’\n",
                        "\n",
                        "ragqa_arena_tech_ex 100%[===================>]   1.45M  --.-KB/s    in 0.1s    \n",
                        "\n",
                        "2025-07-13 13:18:06 (11.5 MB/s) - ‘ragqa_arena_tech_examples.jsonl’ saved [1522638/1522638]\n",
                        "\n"
                    ]
                }
            ],
            "source": [
                "! wget https://huggingface.co/dspy/cache/resolve/main/ragqa_arena_tech_examples.jsonl -O ragqa_arena_tech_examples.jsonl"
            ]
        },
        {
            "cell_type": "code",
            "execution_count": 69,
            "id": "4e0dca26",
            "metadata": {},
            "outputs": [
                {
                    "data": {
                        "text/plain": [
                            "{'question': 'why igp is used in mpls?',\n",
                            " 'response': \"An IGP exchanges routing prefixes between gateways/routers.  \\nWithout a routing protocol, you'd have to configure each route on every router and you'd have no dynamic updates when routes change because of link failures. \\nFuthermore, within an MPLS network, an IGP is vital for advertising the internal topology and ensuring connectivity for MP-BGP inside the network.\",\n",
                            " 'gold_doc_ids': [2822, 2823]}"
                        ]
                    },
                    "execution_count": 69,
                    "metadata": {},
                    "output_type": "execute_result"
                }
            ],
            "source": [
                "with open(\"ragqa_arena_tech_examples.jsonl\", \"r\") as f:\n",
                "    data = [ujson.loads(line) for line in f]\n",
                "\n",
                "data[0]"
            ]
        },
        {
            "cell_type": "code",
            "execution_count": 70,
            "id": "bf94638d",
            "metadata": {},
            "outputs": [
                {
                    "data": {
                        "text/plain": [
                            "Example({'question': 'why are my text messages coming up as maybe?', 'response': 'This is part of the Proactivity features new with iOS 9: It looks at info in emails to see if anyone with this number sent you an email and if it finds the phone number associated with a contact from your email, it will show you \"Maybe\". \\n\\nHowever, it has been suggested there is a bug in iOS 11.2 that can result in \"Maybe\" being displayed even when \"Find Contacts in Other Apps\" is disabled.', 'gold_doc_ids': [3956, 3957, 8034]}) (input_keys={'question'})"
                        ]
                    },
                    "execution_count": 70,
                    "metadata": {},
                    "output_type": "execute_result"
                }
            ],
            "source": [
                "data = [dspy.Example(**d).with_inputs(\"question\") for d in data]\n",
                "example = data[2]\n",
                "example"
            ]
        },
        {
            "cell_type": "code",
            "execution_count": 71,
            "id": "af30d5c2",
            "metadata": {},
            "outputs": [
                {
                    "data": {
                        "text/plain": [
                            "(200, 300, 500)"
                        ]
                    },
                    "execution_count": 71,
                    "metadata": {},
                    "output_type": "execute_result"
                }
            ],
            "source": [
                "random.Random(0).shuffle(data)\n",
                "trainset, devset, testset = data[:200], data[200:500], data[500:1000]\n",
                "len(trainset), len(devset), len(testset)"
            ]
        },
        {
            "cell_type": "code",
            "execution_count": 72,
            "id": "4031029e",
            "metadata": {},
            "outputs": [
                {
                    "name": "stdout",
                    "output_type": "stream",
                    "text": [
                        "Question: \t why are my text messages coming up as maybe?\n",
                        "\n",
                        "Gold Response: \t This is part of the Proactivity features new with iOS 9: It looks at info in emails to see if anyone with this number sent you an email and if it finds the phone number associated with a contact from your email, it will show you \"Maybe\". \n",
                        "\n",
                        "However, it has been suggested there is a bug in iOS 11.2 that can result in \"Maybe\" being displayed even when \"Find Contacts in Other Apps\" is disabled.\n",
                        "\n",
                        "Predicted Response: \t Your text messages are showing up as \"Maybe: [Name]\" because your phone is trying to guess the identity of the sender based on information it finds in your emails, messages, or other apps. This happens when the sender's number isn't saved in your contacts, or if the contact information is incomplete. To stop seeing \"Maybe,\" save the sender's number to your contacts with the correct name.\n",
                        "\n",
                        "Semantic F1 Score: 0.40\n"
                    ]
                },
                {
                    "data": {
                        "text/html": [
                            "\n",
                            "<div>\n",
                            "  <style scoped>\n",
                            "  button {\n",
                            "    border: none;\n",
                            "    border-radius: 4px;\n",
                            "    background-color: rgb(34, 114, 180);\n",
                            "    font-family: -apple-system, \"system-ui\", \"Segoe UI\", Roboto, \"Helvetica Neue\", Arial;\n",
                            "    font-size: 13px;\n",
                            "    color: white;\n",
                            "    margin-top: 8px;\n",
                            "    margin-bottom: 8px;\n",
                            "    padding: 8px 16px;\n",
                            "    cursor: pointer;\n",
                            "  }\n",
                            "  button:hover {\n",
                            "    background-color: rgb(66, 153, 224);\n",
                            "  }\n",
                            "  </style>\n",
                            "  <button\n",
                            "    onclick=\"\n",
                            "        const display = this.nextElementSibling.style.display;\n",
                            "        const isCollapsed = display === 'none';\n",
                            "        this.nextElementSibling.style.display = isCollapsed ? null : 'none';\n",
                            "\n",
                            "        const verb = isCollapsed ? 'Collapse' : 'Expand';\n",
                            "        this.innerText = `${verb} MLflow Trace`;\n",
                            "    \"\n",
                            "  >Collapse MLflow Trace</button>\n",
                            "  <iframe\n",
                            "    id=\"trace-renderer\"\n",
                            "    style=\"width: 100%; height: 500px; border: none; resize: vertical;\"\n",
                            "    src=\"http://localhost:5000/static-files/lib/notebook-trace-renderer/index.html?trace_id=3d2b2ab0be6b4e53aa0a5be4dba29134&amp;experiment_id=754260582185799111&amp;trace_id=324d8615c2734db985bc4e7b9a5189da&amp;experiment_id=754260582185799111&amp;version=3.1.1\"\n",
                            "  />\n",
                            "</div>\n"
                        ],
                        "text/plain": [
                            "[Trace(trace_id=3d2b2ab0be6b4e53aa0a5be4dba29134), Trace(trace_id=324d8615c2734db985bc4e7b9a5189da)]"
                        ]
                    },
                    "metadata": {},
                    "output_type": "display_data"
                }
            ],
            "source": [
                "metric = dspy.evaluate.SemanticF1(decompositional=True)\n",
                "\n",
                "pred = cot(**example.inputs())\n",
                "\n",
                "score = metric(example, pred)\n",
                "\n",
                "print(f\"Question: \\t {example.question}\\n\")\n",
                "print(f\"Gold Response: \\t {example.response}\\n\")\n",
                "print(f\"Predicted Response: \\t {pred.response}\\n\")\n",
                "print(f\"Semantic F1 Score: {score:.2f}\")"
            ]
        },
        {
            "cell_type": "code",
            "execution_count": 22,
            "id": "118847ca",
            "metadata": {},
            "outputs": [],
            "source": [
                "# Define the evaluator.\n",
                "evaluate = dspy.Evaluate(devset=devset, metric=metric, num_threads=24, display_progress=True, display_table=2)"
            ]
        },
        {
            "cell_type": "code",
            "execution_count": null,
            "id": "12ddd31f",
            "metadata": {},
            "outputs": [
                {
                    "name": "stdout",
                    "output_type": "stream",
                    "text": [
                        "Average Metric: 128.09 / 300 (42.7%): 100%|██████████| 300/300 [01:49<00:00,  2.74it/s]"
                    ]
                },
                {
                    "name": "stderr",
                    "output_type": "stream",
                    "text": [
                        "2025/07/13 13:33:20 INFO dspy.evaluate.evaluate: Average Metric: 128.08507795163482 / 300 (42.7%)\n"
                    ]
                },
                {
                    "name": "stdout",
                    "output_type": "stream",
                    "text": [
                        "\n"
                    ]
                },
                {
                    "data": {
                        "text/html": [
                            "<div>\n",
                            "<style scoped>\n",
                            "    .dataframe tbody tr th:only-of-type {\n",
                            "        vertical-align: middle;\n",
                            "    }\n",
                            "\n",
                            "    .dataframe tbody tr th {\n",
                            "        vertical-align: top;\n",
                            "    }\n",
                            "\n",
                            "    .dataframe thead th {\n",
                            "        text-align: right;\n",
                            "    }\n",
                            "</style>\n",
                            "<table border=\"1\" class=\"dataframe\">\n",
                            "  <thead>\n",
                            "    <tr style=\"text-align: right;\">\n",
                            "      <th></th>\n",
                            "      <th>question</th>\n",
                            "      <th>example_response</th>\n",
                            "      <th>gold_doc_ids</th>\n",
                            "      <th>reasoning</th>\n",
                            "      <th>pred_response</th>\n",
                            "      <th>SemanticF1</th>\n",
                            "    </tr>\n",
                            "  </thead>\n",
                            "  <tbody>\n",
                            "    <tr>\n",
                            "      <th>0</th>\n",
                            "      <td>when to use c over c++, and c++ over c?</td>\n",
                            "      <td>If you are equally familiar with both C++ and C, it's advisable to...</td>\n",
                            "      <td>[733]</td>\n",
                            "      <td>The choice between C and C++ depends on the requirements of the pr...</td>\n",
                            "      <td>Use C over C++ when: - You need maximum portability and minimal ru...</td>\n",
                            "      <td>✔️ [0.154]</td>\n",
                            "    </tr>\n",
                            "    <tr>\n",
                            "      <th>1</th>\n",
                            "      <td>should images be stored in a git repository?</td>\n",
                            "      <td>One viewpoint expresses that there is no significant downside, esp...</td>\n",
                            "      <td>[6253, 6254, 6275, 6278, 8215]</td>\n",
                            "      <td>Storing images in a git repository is a nuanced topic. Git is opti...</td>\n",
                            "      <td>In general, it's best to avoid storing large or numerous images di...</td>\n",
                            "      <td>✔️ [0.444]</td>\n",
                            "    </tr>\n",
                            "  </tbody>\n",
                            "</table>\n",
                            "</div>"
                        ],
                        "text/plain": [
                            "                                       question  \\\n",
                            "0       when to use c over c++, and c++ over c?   \n",
                            "1  should images be stored in a git repository?   \n",
                            "\n",
                            "                                                        example_response  \\\n",
                            "0  If you are equally familiar with both C++ and C, it's advisable to...   \n",
                            "1  One viewpoint expresses that there is no significant downside, esp...   \n",
                            "\n",
                            "                     gold_doc_ids  \\\n",
                            "0                           [733]   \n",
                            "1  [6253, 6254, 6275, 6278, 8215]   \n",
                            "\n",
                            "                                                               reasoning  \\\n",
                            "0  The choice between C and C++ depends on the requirements of the pr...   \n",
                            "1  Storing images in a git repository is a nuanced topic. Git is opti...   \n",
                            "\n",
                            "                                                           pred_response  \\\n",
                            "0  Use C over C++ when: - You need maximum portability and minimal ru...   \n",
                            "1  In general, it's best to avoid storing large or numerous images di...   \n",
                            "\n",
                            "   SemanticF1  \n",
                            "0  ✔️ [0.154]  \n",
                            "1  ✔️ [0.444]  "
                        ]
                    },
                    "metadata": {},
                    "output_type": "display_data"
                },
                {
                    "data": {
                        "text/html": [
                            "\n",
                            "            <div style='\n",
                            "                text-align: center;\n",
                            "                font-size: 16px;\n",
                            "                font-weight: bold;\n",
                            "                color: #555;\n",
                            "                margin: 10px 0;'>\n",
                            "                ... 298 more rows not displayed ...\n",
                            "            </div>\n",
                            "            "
                        ],
                        "text/plain": [
                            "<IPython.core.display.HTML object>"
                        ]
                    },
                    "metadata": {},
                    "output_type": "display_data"
                },
                {
                    "data": {
                        "text/plain": [
                            "42.7"
                        ]
                    },
                    "execution_count": 21,
                    "metadata": {},
                    "output_type": "execute_result"
                },
                {
                    "data": {
                        "text/html": [
                            "\n",
                            "<div>\n",
                            "  <style scoped>\n",
                            "  button {\n",
                            "    border: none;\n",
                            "    border-radius: 4px;\n",
                            "    background-color: rgb(34, 114, 180);\n",
                            "    font-family: -apple-system, \"system-ui\", \"Segoe UI\", Roboto, \"Helvetica Neue\", Arial;\n",
                            "    font-size: 13px;\n",
                            "    color: white;\n",
                            "    margin-top: 8px;\n",
                            "    margin-bottom: 8px;\n",
                            "    padding: 8px 16px;\n",
                            "    cursor: pointer;\n",
                            "  }\n",
                            "  button:hover {\n",
                            "    background-color: rgb(66, 153, 224);\n",
                            "  }\n",
                            "  </style>\n",
                            "  <button\n",
                            "    onclick=\"\n",
                            "        const display = this.nextElementSibling.style.display;\n",
                            "        const isCollapsed = display === 'none';\n",
                            "        this.nextElementSibling.style.display = isCollapsed ? null : 'none';\n",
                            "\n",
                            "        const verb = isCollapsed ? 'Collapse' : 'Expand';\n",
                            "        this.innerText = `${verb} MLflow Trace`;\n",
                            "    \"\n",
                            "  >Collapse MLflow Trace</button>\n",
                            "  <iframe\n",
                            "    id=\"trace-renderer\"\n",
                            "    style=\"width: 100%; height: 500px; border: none; resize: vertical;\"\n",
                            "    src=\"http://localhost:5000/static-files/lib/notebook-trace-renderer/index.html?trace_id=3aa8008a0e6a4fbfb0d952ce1d56f5a9&amp;experiment_id=754260582185799111&amp;trace_id=1e829c892ccf40e4bc647ee59d4b60ca&amp;experiment_id=754260582185799111&amp;trace_id=10ef9eaaa05c468f8ee5d8e891078756&amp;experiment_id=754260582185799111&amp;trace_id=f1a6836673f74e67a67a1b0db893674b&amp;experiment_id=754260582185799111&amp;trace_id=1e4a525850f543efab4056eb4987cc06&amp;experiment_id=754260582185799111&amp;trace_id=b2047b38fb364889bc378696f8e3699f&amp;experiment_id=754260582185799111&amp;trace_id=5ad7480f753345319fa0cc2633cfbf00&amp;experiment_id=754260582185799111&amp;trace_id=4a5d5bff8d4344daa0bcb258447896fa&amp;experiment_id=754260582185799111&amp;trace_id=3e320cc514d34636a540cf9a7031c1ad&amp;experiment_id=754260582185799111&amp;trace_id=e75dd66c41d549b0aa5eab404ad3ff88&amp;experiment_id=754260582185799111&amp;version=3.1.1\"\n",
                            "  />\n",
                            "</div>\n"
                        ],
                        "text/plain": [
                            "[Trace(trace_id=3aa8008a0e6a4fbfb0d952ce1d56f5a9), Trace(trace_id=1e829c892ccf40e4bc647ee59d4b60ca), Trace(trace_id=10ef9eaaa05c468f8ee5d8e891078756), Trace(trace_id=f1a6836673f74e67a67a1b0db893674b), Trace(trace_id=1e4a525850f543efab4056eb4987cc06), Trace(trace_id=b2047b38fb364889bc378696f8e3699f), Trace(trace_id=5ad7480f753345319fa0cc2633cfbf00), Trace(trace_id=4a5d5bff8d4344daa0bcb258447896fa), Trace(trace_id=3e320cc514d34636a540cf9a7031c1ad), Trace(trace_id=e75dd66c41d549b0aa5eab404ad3ff88)]"
                        ]
                    },
                    "metadata": {},
                    "output_type": "display_data"
                }
            ],
            "source": [
                "# Evaluate the Chain-of-Thought program.\n",
                "evaluate(cot)"
            ]
        },
        {
            "cell_type": "markdown",
            "id": "5bcbb25c",
            "metadata": {},
            "source": [
                "## Custom DSPy Module"
            ]
        },
        {
            "cell_type": "code",
            "execution_count": 26,
            "id": "b2e87fbb",
            "metadata": {},
            "outputs": [
                {
                    "name": "stdout",
                    "output_type": "stream",
                    "text": [
                        "--2025-07-13 13:38:47--  https://huggingface.co/dspy/cache/resolve/main/ragqa_arena_tech_corpus.jsonl\n",
                        "Resolving huggingface.co (huggingface.co)... 108.138.246.67, 108.138.246.79, 108.138.246.85, ...\n",
                        "Connecting to huggingface.co (huggingface.co)|108.138.246.67|:443... connected.\n",
                        "HTTP request sent, awaiting response... 302 Found\n",
                        "Location: https://cdn-lfs-us-1.hf.co/repos/3c/d1/3cd17edd9d00b6cb87d90d566d09ca0a0d2242d61c9c36b9e3c6c82c41a34479/a5d0eff9ad3fece29c97d59ccf24ae80cd6317f8781c218ff355be922056fe7d?response-content-disposition=inline%3B+filename*%3DUTF-8%27%27ragqa_arena_tech_corpus.jsonl%3B+filename%3D%22ragqa_arena_tech_corpus.jsonl%22%3B&Expires=1752442728&Policy=eyJTdGF0ZW1lbnQiOlt7IkNvbmRpdGlvbiI6eyJEYXRlTGVzc1RoYW4iOnsiQVdTOkVwb2NoVGltZSI6MTc1MjQ0MjcyOH19LCJSZXNvdXJjZSI6Imh0dHBzOi8vY2RuLWxmcy11cy0xLmhmLmNvL3JlcG9zLzNjL2QxLzNjZDE3ZWRkOWQwMGI2Y2I4N2Q5MGQ1NjZkMDljYTBhMGQyMjQyZDYxYzljMzZiOWUzYzZjODJjNDFhMzQ0NzkvYTVkMGVmZjlhZDNmZWNlMjljOTdkNTljY2YyNGFlODBjZDYzMTdmODc4MWMyMThmZjM1NWJlOTIyMDU2ZmU3ZD9yZXNwb25zZS1jb250ZW50LWRpc3Bvc2l0aW9uPSoifV19&Signature=AH20aXBEpLrPqtMpSZAUzhR81kg%7EOoeXj07cWuYAfbdCI3akNAPApKDXZ7zWt9yj6E6bdEZ9mJRoUBfvLsi5j%7Eu4ilzupIoniqzJ1hdpsAGjf09b1dyhRLe3pOru2WAevzCWb7Ufnw5VyOnesfhQk0h1tn1-Szqs0C2pKtOMaun8gAhg8vAHKRD3iaItjNTkENcyLUMs6x216ESLB%7E-JDDRMlBDLK9%7ENB-L88%7EWRMGB3GBtXfy7UKwzTttr5Kfw%7EaicBlWWHWuEH-jrwQJvHobBX58v1cRbE5y0GtDOfjNOAfMZK0kZWTC4MrGQ5UxHWOaP3hA%7EDHCFV8CvND64ZIQ__&Key-Pair-Id=K24J24Z295AEI9 [following]\n",
                        "--2025-07-13 13:38:48--  https://cdn-lfs-us-1.hf.co/repos/3c/d1/3cd17edd9d00b6cb87d90d566d09ca0a0d2242d61c9c36b9e3c6c82c41a34479/a5d0eff9ad3fece29c97d59ccf24ae80cd6317f8781c218ff355be922056fe7d?response-content-disposition=inline%3B+filename*%3DUTF-8%27%27ragqa_arena_tech_corpus.jsonl%3B+filename%3D%22ragqa_arena_tech_corpus.jsonl%22%3B&Expires=1752442728&Policy=eyJTdGF0ZW1lbnQiOlt7IkNvbmRpdGlvbiI6eyJEYXRlTGVzc1RoYW4iOnsiQVdTOkVwb2NoVGltZSI6MTc1MjQ0MjcyOH19LCJSZXNvdXJjZSI6Imh0dHBzOi8vY2RuLWxmcy11cy0xLmhmLmNvL3JlcG9zLzNjL2QxLzNjZDE3ZWRkOWQwMGI2Y2I4N2Q5MGQ1NjZkMDljYTBhMGQyMjQyZDYxYzljMzZiOWUzYzZjODJjNDFhMzQ0NzkvYTVkMGVmZjlhZDNmZWNlMjljOTdkNTljY2YyNGFlODBjZDYzMTdmODc4MWMyMThmZjM1NWJlOTIyMDU2ZmU3ZD9yZXNwb25zZS1jb250ZW50LWRpc3Bvc2l0aW9uPSoifV19&Signature=AH20aXBEpLrPqtMpSZAUzhR81kg%7EOoeXj07cWuYAfbdCI3akNAPApKDXZ7zWt9yj6E6bdEZ9mJRoUBfvLsi5j%7Eu4ilzupIoniqzJ1hdpsAGjf09b1dyhRLe3pOru2WAevzCWb7Ufnw5VyOnesfhQk0h1tn1-Szqs0C2pKtOMaun8gAhg8vAHKRD3iaItjNTkENcyLUMs6x216ESLB%7E-JDDRMlBDLK9%7ENB-L88%7EWRMGB3GBtXfy7UKwzTttr5Kfw%7EaicBlWWHWuEH-jrwQJvHobBX58v1cRbE5y0GtDOfjNOAfMZK0kZWTC4MrGQ5UxHWOaP3hA%7EDHCFV8CvND64ZIQ__&Key-Pair-Id=K24J24Z295AEI9\n",
                        "Resolving cdn-lfs-us-1.hf.co (cdn-lfs-us-1.hf.co)... 18.172.170.37, 18.172.170.105, 18.172.170.40, ...\n",
                        "Connecting to cdn-lfs-us-1.hf.co (cdn-lfs-us-1.hf.co)|18.172.170.37|:443... connected.\n",
                        "HTTP request sent, awaiting response... 200 OK\n",
                        "Length: 26485364 (25M) [binary/octet-stream]\n",
                        "Saving to: ‘ragqa_arena_tech_corpus.jsonl’\n",
                        "\n",
                        "ragqa_arena_tech_co 100%[===================>]  25.26M  26.3MB/s    in 1.0s    \n",
                        "\n",
                        "2025-07-13 13:38:49 (26.3 MB/s) - ‘ragqa_arena_tech_corpus.jsonl’ saved [26485364/26485364]\n",
                        "\n"
                    ]
                }
            ],
            "source": [
                "! wget https://huggingface.co/dspy/cache/resolve/main/ragqa_arena_tech_corpus.jsonl -O ragqa_arena_tech_corpus.jsonl"
            ]
        },
        {
            "cell_type": "code",
            "execution_count": null,
            "id": "889a644f",
            "metadata": {},
            "outputs": [
                {
                    "name": "stdout",
                    "output_type": "stream",
                    "text": [
                        "Loaded 28436 documents. Will encode them below.\n",
                        "Training a 32-byte FAISS index with 337 partitions, based on 28436 x 512-dim embeddings\n"
                    ]
                }
            ],
            "source": [
                "max_characters = 6000  # for truncating >99th percentile of documents\n",
                "topk_docs_to_retrieve = 5  # number of documents to retrieve per search query\n",
                "\n",
                "with open(\"ragqa_arena_tech_corpus.jsonl\") as f:\n",
                "    corpus = [ujson.loads(line)['text'][:max_characters] for line in f]\n",
                "    print(f\"Loaded {len(corpus)} documents. Will encode them below.\")\n",
                "\n",
                "token_provider = get_bearer_token_provider(DefaultAzureCredential(), \"https://cognitiveservices.azure.com/.default\")\n",
                "azure_ad_token = token_provider()\n",
                "\n",
                "embedder = dspy.Embedder(\n",
                "    f'azure/text-embedding-3-small',\n",
                "    api_base=os.environ[\"AZURE_OPENAI_EMBEDDING_ENDPOINT\"],\n",
                "    api_version=os.environ[\"AZURE_OPENAI_EMBEDDING_API_VERSION\"],\n",
                "    azure_ad_token=azure_ad_token,\n",
                "    dimensions=512,\n",
                ")\n",
                "search = dspy.retrievers.Embeddings(embedder=embedder, corpus=corpus, k=topk_docs_to_retrieve)"
            ]
        },
        {
            "cell_type": "code",
            "execution_count": 41,
            "id": "dce171df",
            "metadata": {},
            "outputs": [],
            "source": [
                "class RAG(dspy.Module):\n",
                "    def __init__(self):\n",
                "        self.respond = dspy.ChainOfThought('context, question -> response')\n",
                "\n",
                "    def forward(self, question):\n",
                "        context = search(question).passages\n",
                "        return self.respond(context=context, question=question)"
            ]
        },
        {
            "cell_type": "code",
            "execution_count": null,
            "id": "01454976",
            "metadata": {},
            "outputs": [
                {
                    "data": {
                        "text/plain": [
                            "Prediction(\n",
                            "    reasoning=\"The context provides several explanations about high memory (highmem) and low memory (lowmem) in Linux, especially in the context of 32-bit systems. Low memory refers to the portion of physical memory that is permanently mapped into the kernel's address space, making it directly accessible to the kernel. High memory, on the other hand, is the portion of physical memory that is not permanently mapped and requires special handling (such as temporary mapping) for the kernel to access it. This distinction arises because, on 32-bit systems, the kernel's address space is limited (typically 1GB out of 4GB), so not all physical memory can be mapped at once. High memory is generally used for user-space applications and the page cache, while low memory is critical for kernel operations and data structures. The kernel must use functions like kmap and kunmap to access high memory pages.\",\n",
                            "    response='On Linux, especially on 32-bit systems, \"low memory\" refers to the portion of physical RAM that is permanently mapped into the kernel\\'s address space, allowing the kernel to access it directly. This is typically the first several hundred megabytes of RAM (e.g., up to ~860MB or 1GB, depending on the system configuration). \"High memory\" refers to the portion of physical RAM above this threshold, which is not permanently mapped into the kernel\\'s address space. The kernel cannot access high memory directly; instead, it must temporarily map high memory pages when it needs to access them, using functions like kmap and kunmap. High memory is mainly used for user-space applications and the page cache, while low memory is essential for the kernel\\'s own data structures and operations. The distinction exists because the kernel\\'s addressable space is limited, and not all physical memory can be mapped at once.'\n",
                            ")"
                        ]
                    },
                    "execution_count": 42,
                    "metadata": {},
                    "output_type": "execute_result"
                },
                {
                    "data": {
                        "text/html": [
                            "\n",
                            "<div>\n",
                            "  <style scoped>\n",
                            "  button {\n",
                            "    border: none;\n",
                            "    border-radius: 4px;\n",
                            "    background-color: rgb(34, 114, 180);\n",
                            "    font-family: -apple-system, \"system-ui\", \"Segoe UI\", Roboto, \"Helvetica Neue\", Arial;\n",
                            "    font-size: 13px;\n",
                            "    color: white;\n",
                            "    margin-top: 8px;\n",
                            "    margin-bottom: 8px;\n",
                            "    padding: 8px 16px;\n",
                            "    cursor: pointer;\n",
                            "  }\n",
                            "  button:hover {\n",
                            "    background-color: rgb(66, 153, 224);\n",
                            "  }\n",
                            "  </style>\n",
                            "  <button\n",
                            "    onclick=\"\n",
                            "        const display = this.nextElementSibling.style.display;\n",
                            "        const isCollapsed = display === 'none';\n",
                            "        this.nextElementSibling.style.display = isCollapsed ? null : 'none';\n",
                            "\n",
                            "        const verb = isCollapsed ? 'Collapse' : 'Expand';\n",
                            "        this.innerText = `${verb} MLflow Trace`;\n",
                            "    \"\n",
                            "  >Collapse MLflow Trace</button>\n",
                            "  <iframe\n",
                            "    id=\"trace-renderer\"\n",
                            "    style=\"width: 100%; height: 500px; border: none; resize: vertical;\"\n",
                            "    src=\"http://localhost:5000/static-files/lib/notebook-trace-renderer/index.html?trace_id=fcf4d8d5fac141239ffb15192d7c36db&amp;experiment_id=754260582185799111&amp;version=3.1.1\"\n",
                            "  />\n",
                            "</div>\n"
                        ],
                        "text/plain": [
                            "Trace(trace_id=fcf4d8d5fac141239ffb15192d7c36db)"
                        ]
                    },
                    "metadata": {},
                    "output_type": "display_data"
                }
            ],
            "source": [
                "rag = RAG()\n",
                "rag(question=\"What are high memory and low memory on Linux?\")"
            ]
        },
        {
            "cell_type": "code",
            "execution_count": 43,
            "id": "864c7294",
            "metadata": {},
            "outputs": [
                {
                    "name": "stdout",
                    "output_type": "stream",
                    "text": [
                        "Average Metric: 168.15 / 300 (56.1%): 100%|██████████| 300/300 [02:07<00:00,  2.36it/s]"
                    ]
                },
                {
                    "name": "stderr",
                    "output_type": "stream",
                    "text": [
                        "2025/07/13 14:15:11 INFO dspy.evaluate.evaluate: Average Metric: 168.1502347173502 / 300 (56.1%)\n"
                    ]
                },
                {
                    "name": "stdout",
                    "output_type": "stream",
                    "text": [
                        "\n"
                    ]
                },
                {
                    "data": {
                        "text/html": [
                            "<div>\n",
                            "<style scoped>\n",
                            "    .dataframe tbody tr th:only-of-type {\n",
                            "        vertical-align: middle;\n",
                            "    }\n",
                            "\n",
                            "    .dataframe tbody tr th {\n",
                            "        vertical-align: top;\n",
                            "    }\n",
                            "\n",
                            "    .dataframe thead th {\n",
                            "        text-align: right;\n",
                            "    }\n",
                            "</style>\n",
                            "<table border=\"1\" class=\"dataframe\">\n",
                            "  <thead>\n",
                            "    <tr style=\"text-align: right;\">\n",
                            "      <th></th>\n",
                            "      <th>question</th>\n",
                            "      <th>example_response</th>\n",
                            "      <th>gold_doc_ids</th>\n",
                            "      <th>reasoning</th>\n",
                            "      <th>pred_response</th>\n",
                            "      <th>SemanticF1</th>\n",
                            "    </tr>\n",
                            "  </thead>\n",
                            "  <tbody>\n",
                            "    <tr>\n",
                            "      <th>0</th>\n",
                            "      <td>when to use c over c++, and c++ over c?</td>\n",
                            "      <td>If you are equally familiar with both C++ and C, it's advisable to...</td>\n",
                            "      <td>[733]</td>\n",
                            "      <td>The context provides several perspectives on when to use C versus ...</td>\n",
                            "      <td>Use C over C++ when: - You are working in embedded systems or on p...</td>\n",
                            "      <td>✔️ [0.429]</td>\n",
                            "    </tr>\n",
                            "    <tr>\n",
                            "      <th>1</th>\n",
                            "      <td>should images be stored in a git repository?</td>\n",
                            "      <td>One viewpoint expresses that there is no significant downside, esp...</td>\n",
                            "      <td>[6253, 6254, 6275, 6278, 8215]</td>\n",
                            "      <td>The context provides a range of opinions and technical considerati...</td>\n",
                            "      <td>Images can be stored in a Git repository, especially if they are e...</td>\n",
                            "      <td>✔️ [0.500]</td>\n",
                            "    </tr>\n",
                            "  </tbody>\n",
                            "</table>\n",
                            "</div>"
                        ],
                        "text/plain": [
                            "                                       question  \\\n",
                            "0       when to use c over c++, and c++ over c?   \n",
                            "1  should images be stored in a git repository?   \n",
                            "\n",
                            "                                                        example_response  \\\n",
                            "0  If you are equally familiar with both C++ and C, it's advisable to...   \n",
                            "1  One viewpoint expresses that there is no significant downside, esp...   \n",
                            "\n",
                            "                     gold_doc_ids  \\\n",
                            "0                           [733]   \n",
                            "1  [6253, 6254, 6275, 6278, 8215]   \n",
                            "\n",
                            "                                                               reasoning  \\\n",
                            "0  The context provides several perspectives on when to use C versus ...   \n",
                            "1  The context provides a range of opinions and technical considerati...   \n",
                            "\n",
                            "                                                           pred_response  \\\n",
                            "0  Use C over C++ when: - You are working in embedded systems or on p...   \n",
                            "1  Images can be stored in a Git repository, especially if they are e...   \n",
                            "\n",
                            "   SemanticF1  \n",
                            "0  ✔️ [0.429]  \n",
                            "1  ✔️ [0.500]  "
                        ]
                    },
                    "metadata": {},
                    "output_type": "display_data"
                },
                {
                    "data": {
                        "text/html": [
                            "\n",
                            "            <div style='\n",
                            "                text-align: center;\n",
                            "                font-size: 16px;\n",
                            "                font-weight: bold;\n",
                            "                color: #555;\n",
                            "                margin: 10px 0;'>\n",
                            "                ... 298 more rows not displayed ...\n",
                            "            </div>\n",
                            "            "
                        ],
                        "text/plain": [
                            "<IPython.core.display.HTML object>"
                        ]
                    },
                    "metadata": {},
                    "output_type": "display_data"
                },
                {
                    "data": {
                        "text/plain": [
                            "56.05"
                        ]
                    },
                    "execution_count": 43,
                    "metadata": {},
                    "output_type": "execute_result"
                },
                {
                    "data": {
                        "text/html": [
                            "\n",
                            "<div>\n",
                            "  <style scoped>\n",
                            "  button {\n",
                            "    border: none;\n",
                            "    border-radius: 4px;\n",
                            "    background-color: rgb(34, 114, 180);\n",
                            "    font-family: -apple-system, \"system-ui\", \"Segoe UI\", Roboto, \"Helvetica Neue\", Arial;\n",
                            "    font-size: 13px;\n",
                            "    color: white;\n",
                            "    margin-top: 8px;\n",
                            "    margin-bottom: 8px;\n",
                            "    padding: 8px 16px;\n",
                            "    cursor: pointer;\n",
                            "  }\n",
                            "  button:hover {\n",
                            "    background-color: rgb(66, 153, 224);\n",
                            "  }\n",
                            "  </style>\n",
                            "  <button\n",
                            "    onclick=\"\n",
                            "        const display = this.nextElementSibling.style.display;\n",
                            "        const isCollapsed = display === 'none';\n",
                            "        this.nextElementSibling.style.display = isCollapsed ? null : 'none';\n",
                            "\n",
                            "        const verb = isCollapsed ? 'Collapse' : 'Expand';\n",
                            "        this.innerText = `${verb} MLflow Trace`;\n",
                            "    \"\n",
                            "  >Collapse MLflow Trace</button>\n",
                            "  <iframe\n",
                            "    id=\"trace-renderer\"\n",
                            "    style=\"width: 100%; height: 500px; border: none; resize: vertical;\"\n",
                            "    src=\"http://localhost:5000/static-files/lib/notebook-trace-renderer/index.html?trace_id=9873726e5d4a4298962f016079ed5b0e&amp;experiment_id=754260582185799111&amp;trace_id=20d497ebbd584d37a49bfd1a3dea91f4&amp;experiment_id=754260582185799111&amp;trace_id=2fd7c8c4043947e3a8d10cc2ee7866be&amp;experiment_id=754260582185799111&amp;trace_id=295d41ac5673491c80178e36dc9db3c2&amp;experiment_id=754260582185799111&amp;trace_id=2dac4f272b05405fbf07918081300543&amp;experiment_id=754260582185799111&amp;trace_id=9923980c11a84b4b9f9689d3c433578f&amp;experiment_id=754260582185799111&amp;trace_id=2aeee7366b2342cb81a8a233170f8353&amp;experiment_id=754260582185799111&amp;trace_id=50f637c9bbca46e8958a10d23e3902c0&amp;experiment_id=754260582185799111&amp;trace_id=a7b042890fd14eb78e3c3f18d5d55ca0&amp;experiment_id=754260582185799111&amp;trace_id=6a2995f1ddec4b1ab7a5c06fdddc11de&amp;experiment_id=754260582185799111&amp;version=3.1.1\"\n",
                            "  />\n",
                            "</div>\n"
                        ],
                        "text/plain": [
                            "[Trace(trace_id=9873726e5d4a4298962f016079ed5b0e), Trace(trace_id=20d497ebbd584d37a49bfd1a3dea91f4), Trace(trace_id=2fd7c8c4043947e3a8d10cc2ee7866be), Trace(trace_id=295d41ac5673491c80178e36dc9db3c2), Trace(trace_id=2dac4f272b05405fbf07918081300543), Trace(trace_id=9923980c11a84b4b9f9689d3c433578f), Trace(trace_id=2aeee7366b2342cb81a8a233170f8353), Trace(trace_id=50f637c9bbca46e8958a10d23e3902c0), Trace(trace_id=a7b042890fd14eb78e3c3f18d5d55ca0), Trace(trace_id=6a2995f1ddec4b1ab7a5c06fdddc11de)]"
                        ]
                    },
                    "metadata": {},
                    "output_type": "display_data"
                }
            ],
            "source": [
                "evaluate(RAG())"
            ]
        },
        {
            "cell_type": "markdown",
            "id": "3882b2ad",
            "metadata": {},
            "source": [
                "## Optimize using `MIPROv2`"
            ]
        },
        {
            "cell_type": "code",
            "execution_count": 44,
            "id": "17c8d232",
            "metadata": {},
            "outputs": [
                {
                    "name": "stderr",
                    "output_type": "stream",
                    "text": [
                        "2025/07/13 14:17:23 INFO dspy.teleprompt.mipro_optimizer_v2: \n",
                        "RUNNING WITH THE FOLLOWING MEDIUM AUTO RUN SETTINGS:\n",
                        "num_trials: 18\n",
                        "minibatch: True\n",
                        "num_fewshot_candidates: 12\n",
                        "num_instruct_candidates: 6\n",
                        "valset size: 160\n",
                        "\n",
                        "2025/07/13 14:17:23 INFO dspy.teleprompt.mipro_optimizer_v2: \n",
                        "==> STEP 1: BOOTSTRAP FEWSHOT EXAMPLES <==\n",
                        "2025/07/13 14:17:23 INFO dspy.teleprompt.mipro_optimizer_v2: These will be used as few-shot example candidates for our program and for creating instructions.\n",
                        "\n",
                        "2025/07/13 14:17:23 INFO dspy.teleprompt.mipro_optimizer_v2: Bootstrapping N=12 sets of demonstrations...\n"
                    ]
                },
                {
                    "name": "stdout",
                    "output_type": "stream",
                    "text": [
                        "Bootstrapping set 1/12\n",
                        "Bootstrapping set 2/12\n",
                        "Bootstrapping set 3/12\n"
                    ]
                },
                {
                    "name": "stderr",
                    "output_type": "stream",
                    "text": [
                        " 10%|█         | 4/40 [00:41<06:10, 10.30s/it]\n"
                    ]
                },
                {
                    "name": "stdout",
                    "output_type": "stream",
                    "text": [
                        "Bootstrapped 2 full traces after 4 examples for up to 1 rounds, amounting to 4 attempts.\n",
                        "Bootstrapping set 4/12\n"
                    ]
                },
                {
                    "name": "stderr",
                    "output_type": "stream",
                    "text": [
                        " 20%|██        | 8/40 [01:07<04:29,  8.43s/it]\n"
                    ]
                },
                {
                    "name": "stdout",
                    "output_type": "stream",
                    "text": [
                        "Bootstrapped 1 full traces after 8 examples for up to 1 rounds, amounting to 8 attempts.\n",
                        "Bootstrapping set 5/12\n"
                    ]
                },
                {
                    "name": "stderr",
                    "output_type": "stream",
                    "text": [
                        "  2%|▎         | 1/40 [00:12<07:48, 12.01s/it]\n"
                    ]
                },
                {
                    "name": "stdout",
                    "output_type": "stream",
                    "text": [
                        "Bootstrapped 1 full traces after 1 examples for up to 1 rounds, amounting to 1 attempts.\n",
                        "Bootstrapping set 6/12\n"
                    ]
                },
                {
                    "name": "stderr",
                    "output_type": "stream",
                    "text": [
                        " 10%|█         | 4/40 [00:36<05:27,  9.10s/it]\n"
                    ]
                },
                {
                    "name": "stdout",
                    "output_type": "stream",
                    "text": [
                        "Bootstrapped 1 full traces after 4 examples for up to 1 rounds, amounting to 4 attempts.\n",
                        "Bootstrapping set 7/12\n"
                    ]
                },
                {
                    "name": "stderr",
                    "output_type": "stream",
                    "text": [
                        "  5%|▌         | 2/40 [00:18<05:55,  9.37s/it]\n"
                    ]
                },
                {
                    "name": "stdout",
                    "output_type": "stream",
                    "text": [
                        "Bootstrapped 1 full traces after 2 examples for up to 1 rounds, amounting to 2 attempts.\n",
                        "Bootstrapping set 8/12\n"
                    ]
                },
                {
                    "name": "stderr",
                    "output_type": "stream",
                    "text": [
                        " 12%|█▎        | 5/40 [00:39<04:34,  7.85s/it]\n"
                    ]
                },
                {
                    "name": "stdout",
                    "output_type": "stream",
                    "text": [
                        "Bootstrapped 1 full traces after 5 examples for up to 1 rounds, amounting to 5 attempts.\n",
                        "Bootstrapping set 9/12\n"
                    ]
                },
                {
                    "name": "stderr",
                    "output_type": "stream",
                    "text": [
                        "  8%|▊         | 3/40 [00:26<05:21,  8.70s/it]\n"
                    ]
                },
                {
                    "name": "stdout",
                    "output_type": "stream",
                    "text": [
                        "Bootstrapped 2 full traces after 3 examples for up to 1 rounds, amounting to 3 attempts.\n",
                        "Bootstrapping set 10/12\n"
                    ]
                },
                {
                    "name": "stderr",
                    "output_type": "stream",
                    "text": [
                        "  8%|▊         | 3/40 [00:27<05:35,  9.06s/it]\n"
                    ]
                },
                {
                    "name": "stdout",
                    "output_type": "stream",
                    "text": [
                        "Bootstrapped 1 full traces after 3 examples for up to 1 rounds, amounting to 3 attempts.\n",
                        "Bootstrapping set 11/12\n"
                    ]
                },
                {
                    "name": "stderr",
                    "output_type": "stream",
                    "text": [
                        "  8%|▊         | 3/40 [00:22<04:42,  7.63s/it]\n"
                    ]
                },
                {
                    "name": "stdout",
                    "output_type": "stream",
                    "text": [
                        "Bootstrapped 1 full traces after 3 examples for up to 1 rounds, amounting to 3 attempts.\n",
                        "Bootstrapping set 12/12\n"
                    ]
                },
                {
                    "name": "stderr",
                    "output_type": "stream",
                    "text": [
                        "  5%|▌         | 2/40 [00:18<05:47,  9.14s/it]\n",
                        "2025/07/13 14:22:33 INFO dspy.teleprompt.mipro_optimizer_v2: \n",
                        "==> STEP 2: PROPOSE INSTRUCTION CANDIDATES <==\n",
                        "2025/07/13 14:22:33 INFO dspy.teleprompt.mipro_optimizer_v2: We will use the few-shot examples from the previous step, a generated dataset summary, a summary of the program code, and a randomly selected prompting tip to propose instructions.\n"
                    ]
                },
                {
                    "name": "stdout",
                    "output_type": "stream",
                    "text": [
                        "Bootstrapped 1 full traces after 2 examples for up to 1 rounds, amounting to 2 attempts.\n"
                    ]
                },
                {
                    "name": "stderr",
                    "output_type": "stream",
                    "text": [
                        "2025/07/13 14:22:50 INFO dspy.teleprompt.mipro_optimizer_v2: \n",
                        "Proposing N=6 instructions...\n",
                        "\n",
                        "2025/07/13 14:23:38 INFO dspy.teleprompt.mipro_optimizer_v2: Proposed Instructions for Predictor 0:\n",
                        "\n",
                        "2025/07/13 14:23:38 INFO dspy.teleprompt.mipro_optimizer_v2: 0: Given the fields `context`, `question`, produce the fields `response`.\n",
                        "\n",
                        "2025/07/13 14:23:38 INFO dspy.teleprompt.mipro_optimizer_v2: 1: You are assisting an IT helpdesk technician who must resolve a critical technical support ticket for a high-priority client. Given a set of relevant `context` passages and a specific technical `question`, provide a step-by-step `reasoning` process that clearly explains how you arrive at your solution, and then deliver a precise, actionable `response` that the technician can immediately relay to the client. Ensure your explanation is transparent, references evidence from the context, and anticipates potential pitfalls or variations based on system differences. Accuracy and clarity are essential, as incomplete or incorrect advice could lead to system downtime or client dissatisfaction.\n",
                        "\n",
                        "2025/07/13 14:23:38 INFO dspy.teleprompt.mipro_optimizer_v2: 2: You are a knowledgeable IT technical support assistant. Given a set of technical reference passages (`context`) and a user's technical support question (`question`), first generate a clear, step-by-step chain-of-thought explanation (`reasoning`) that shows how you arrive at the answer using the information in the context. Then, produce a concise, actionable, and technically accurate final answer (`response`) that directly addresses the user's question, using precise terminology, commands, and paths where appropriate. Structure your outputs as `reasoning` followed by `response`.\n",
                        "\n",
                        "2025/07/13 14:23:38 INFO dspy.teleprompt.mipro_optimizer_v2: 3: Given a set of relevant context passages and a technical support question, generate a step-by-step reasoning process explaining how the answer is derived from the context, followed by a clear and concise response that directly addresses the question. Ensure that the reasoning uses technical terminology appropriately and references commands, directory paths, or platform-specific details when relevant. Present the most efficient solution first, then elaborate on alternative methods or important nuances if applicable.\n",
                        "\n",
                        "2025/07/13 14:23:38 INFO dspy.teleprompt.mipro_optimizer_v2: 4: Given the provided `context` (relevant technical information or passages) and a specific `question`, generate a detailed, step-by-step `reasoning` that logically explains how the answer is derived from the context, followed by a clear and concise `response` that directly answers the question.\n",
                        "\n",
                        "2025/07/13 14:23:38 INFO dspy.teleprompt.mipro_optimizer_v2: 5: Given a set of relevant technical support passages (`context`) and a user question (`question`), first reason step by step through the information provided, explicitly referencing and synthesizing details from the context to form a well-justified answer. Then, produce a clear, actionable, and technically precise response (`response`) that directly addresses the user's question, prioritizing the most efficient solution and including any necessary commands, file paths, or platform-specific instructions. Ensure your reasoning is transparent and your final answer is grounded in the evidence from the context.\n",
                        "\n",
                        "2025/07/13 14:23:38 INFO dspy.teleprompt.mipro_optimizer_v2: \n",
                        "\n",
                        "2025/07/13 14:23:38 INFO dspy.teleprompt.mipro_optimizer_v2: ==> STEP 3: FINDING OPTIMAL PROMPT PARAMETERS <==\n",
                        "2025/07/13 14:23:38 INFO dspy.teleprompt.mipro_optimizer_v2: We will evaluate the program over a series of trials with different combinations of instructions and few-shot examples to find the optimal combination using Bayesian Optimization.\n",
                        "\n",
                        "2025/07/13 14:23:38 INFO dspy.teleprompt.mipro_optimizer_v2: == Trial 1 / 23 - Full Evaluation of Default Program ==\n"
                    ]
                },
                {
                    "name": "stdout",
                    "output_type": "stream",
                    "text": [
                        "Average Metric: 88.24 / 160 (55.1%): 100%|██████████| 160/160 [01:12<00:00,  2.21it/s]"
                    ]
                },
                {
                    "name": "stderr",
                    "output_type": "stream",
                    "text": [
                        "2025/07/13 14:24:50 INFO dspy.evaluate.evaluate: Average Metric: 88.23730972680185 / 160 (55.1%)\n",
                        "2025/07/13 14:24:50 INFO dspy.teleprompt.mipro_optimizer_v2: Default program score: 55.15\n",
                        "\n",
                        "/home/ekzhu/dspy-azure-eval-example/.venv/lib/python3.12/site-packages/optuna/_experimental.py:32: ExperimentalWarning: Argument ``multivariate`` is an experimental feature. The interface can change in the future.\n",
                        "  warnings.warn(\n",
                        "2025/07/13 14:24:50 INFO dspy.teleprompt.mipro_optimizer_v2: == Trial 2 / 23 - Minibatch ==\n"
                    ]
                },
                {
                    "name": "stdout",
                    "output_type": "stream",
                    "text": [
                        "\n",
                        "Average Metric: 21.17 / 35 (60.5%): 100%|██████████| 35/35 [00:19<00:00,  1.78it/s]"
                    ]
                },
                {
                    "name": "stderr",
                    "output_type": "stream",
                    "text": [
                        "2025/07/13 14:25:10 INFO dspy.evaluate.evaluate: Average Metric: 21.174969797245613 / 35 (60.5%)\n",
                        "2025/07/13 14:25:10 INFO dspy.teleprompt.mipro_optimizer_v2: Score: 60.5 on minibatch of size 35 with parameters ['Predictor 0: Instruction 1', 'Predictor 0: Few-Shot Set 6'].\n",
                        "2025/07/13 14:25:10 INFO dspy.teleprompt.mipro_optimizer_v2: Minibatch scores so far: [60.5]\n",
                        "2025/07/13 14:25:10 INFO dspy.teleprompt.mipro_optimizer_v2: Full eval scores so far: [55.15]\n",
                        "2025/07/13 14:25:10 INFO dspy.teleprompt.mipro_optimizer_v2: Best full score so far: 55.15\n",
                        "2025/07/13 14:25:10 INFO dspy.teleprompt.mipro_optimizer_v2: =========================================\n",
                        "\n",
                        "\n",
                        "2025/07/13 14:25:10 INFO dspy.teleprompt.mipro_optimizer_v2: == Trial 3 / 23 - Minibatch ==\n"
                    ]
                },
                {
                    "name": "stdout",
                    "output_type": "stream",
                    "text": [
                        "\n",
                        "Average Metric: 17.28 / 35 (49.4%): 100%|██████████| 35/35 [00:20<00:00,  1.74it/s]"
                    ]
                },
                {
                    "name": "stderr",
                    "output_type": "stream",
                    "text": [
                        "2025/07/13 14:25:30 INFO dspy.evaluate.evaluate: Average Metric: 17.280008746862478 / 35 (49.4%)\n",
                        "2025/07/13 14:25:30 INFO dspy.teleprompt.mipro_optimizer_v2: Score: 49.37 on minibatch of size 35 with parameters ['Predictor 0: Instruction 4', 'Predictor 0: Few-Shot Set 2'].\n",
                        "2025/07/13 14:25:30 INFO dspy.teleprompt.mipro_optimizer_v2: Minibatch scores so far: [60.5, 49.37]\n",
                        "2025/07/13 14:25:30 INFO dspy.teleprompt.mipro_optimizer_v2: Full eval scores so far: [55.15]\n",
                        "2025/07/13 14:25:30 INFO dspy.teleprompt.mipro_optimizer_v2: Best full score so far: 55.15\n",
                        "2025/07/13 14:25:30 INFO dspy.teleprompt.mipro_optimizer_v2: =========================================\n",
                        "\n",
                        "\n",
                        "2025/07/13 14:25:30 INFO dspy.teleprompt.mipro_optimizer_v2: == Trial 4 / 23 - Minibatch ==\n"
                    ]
                },
                {
                    "name": "stdout",
                    "output_type": "stream",
                    "text": [
                        "\n",
                        "Average Metric: 19.76 / 35 (56.4%): 100%|██████████| 35/35 [00:20<00:00,  1.75it/s]"
                    ]
                },
                {
                    "name": "stderr",
                    "output_type": "stream",
                    "text": [
                        "2025/07/13 14:25:50 INFO dspy.evaluate.evaluate: Average Metric: 19.75616726060295 / 35 (56.4%)\n",
                        "2025/07/13 14:25:50 INFO dspy.teleprompt.mipro_optimizer_v2: Score: 56.45 on minibatch of size 35 with parameters ['Predictor 0: Instruction 0', 'Predictor 0: Few-Shot Set 6'].\n",
                        "2025/07/13 14:25:50 INFO dspy.teleprompt.mipro_optimizer_v2: Minibatch scores so far: [60.5, 49.37, 56.45]\n",
                        "2025/07/13 14:25:50 INFO dspy.teleprompt.mipro_optimizer_v2: Full eval scores so far: [55.15]\n",
                        "2025/07/13 14:25:50 INFO dspy.teleprompt.mipro_optimizer_v2: Best full score so far: 55.15\n",
                        "2025/07/13 14:25:50 INFO dspy.teleprompt.mipro_optimizer_v2: =========================================\n",
                        "\n",
                        "\n",
                        "2025/07/13 14:25:50 INFO dspy.teleprompt.mipro_optimizer_v2: == Trial 5 / 23 - Minibatch ==\n"
                    ]
                },
                {
                    "name": "stdout",
                    "output_type": "stream",
                    "text": [
                        "\n",
                        "Average Metric: 19.84 / 35 (56.7%): 100%|██████████| 35/35 [00:18<00:00,  1.85it/s]"
                    ]
                },
                {
                    "name": "stderr",
                    "output_type": "stream",
                    "text": [
                        "2025/07/13 14:26:09 INFO dspy.evaluate.evaluate: Average Metric: 19.842719811150737 / 35 (56.7%)\n",
                        "2025/07/13 14:26:09 INFO dspy.teleprompt.mipro_optimizer_v2: Score: 56.69 on minibatch of size 35 with parameters ['Predictor 0: Instruction 2', 'Predictor 0: Few-Shot Set 4'].\n",
                        "2025/07/13 14:26:09 INFO dspy.teleprompt.mipro_optimizer_v2: Minibatch scores so far: [60.5, 49.37, 56.45, 56.69]\n",
                        "2025/07/13 14:26:09 INFO dspy.teleprompt.mipro_optimizer_v2: Full eval scores so far: [55.15]\n",
                        "2025/07/13 14:26:09 INFO dspy.teleprompt.mipro_optimizer_v2: Best full score so far: 55.15\n",
                        "2025/07/13 14:26:09 INFO dspy.teleprompt.mipro_optimizer_v2: =========================================\n",
                        "\n",
                        "\n",
                        "2025/07/13 14:26:09 INFO dspy.teleprompt.mipro_optimizer_v2: == Trial 6 / 23 - Minibatch ==\n"
                    ]
                },
                {
                    "name": "stdout",
                    "output_type": "stream",
                    "text": [
                        "\n",
                        "Average Metric: 18.95 / 35 (54.1%): 100%|██████████| 35/35 [00:20<00:00,  1.70it/s]"
                    ]
                },
                {
                    "name": "stderr",
                    "output_type": "stream",
                    "text": [
                        "2025/07/13 14:26:30 INFO dspy.evaluate.evaluate: Average Metric: 18.945122809075336 / 35 (54.1%)\n",
                        "2025/07/13 14:26:30 INFO dspy.teleprompt.mipro_optimizer_v2: Score: 54.13 on minibatch of size 35 with parameters ['Predictor 0: Instruction 3', 'Predictor 0: Few-Shot Set 5'].\n",
                        "2025/07/13 14:26:30 INFO dspy.teleprompt.mipro_optimizer_v2: Minibatch scores so far: [60.5, 49.37, 56.45, 56.69, 54.13]\n",
                        "2025/07/13 14:26:30 INFO dspy.teleprompt.mipro_optimizer_v2: Full eval scores so far: [55.15]\n",
                        "2025/07/13 14:26:30 INFO dspy.teleprompt.mipro_optimizer_v2: Best full score so far: 55.15\n",
                        "2025/07/13 14:26:30 INFO dspy.teleprompt.mipro_optimizer_v2: =========================================\n",
                        "\n",
                        "\n",
                        "2025/07/13 14:26:30 INFO dspy.teleprompt.mipro_optimizer_v2: ===== Trial 7 / 23 - Full Evaluation =====\n",
                        "2025/07/13 14:26:30 INFO dspy.teleprompt.mipro_optimizer_v2: Doing full eval on next top averaging program (Avg Score: 60.5) from minibatch trials...\n"
                    ]
                },
                {
                    "name": "stdout",
                    "output_type": "stream",
                    "text": [
                        "\n",
                        "Average Metric: 90.02 / 160 (56.3%): 100%|██████████| 160/160 [00:57<00:00,  2.80it/s]"
                    ]
                },
                {
                    "name": "stderr",
                    "output_type": "stream",
                    "text": [
                        "2025/07/13 14:27:27 INFO dspy.evaluate.evaluate: Average Metric: 90.01972201578808 / 160 (56.3%)\n",
                        "2025/07/13 14:27:27 INFO dspy.teleprompt.mipro_optimizer_v2: \u001b[92mNew best full eval score!\u001b[0m Score: 56.26\n",
                        "2025/07/13 14:27:27 INFO dspy.teleprompt.mipro_optimizer_v2: Full eval scores so far: [55.15, 56.26]\n",
                        "2025/07/13 14:27:27 INFO dspy.teleprompt.mipro_optimizer_v2: Best full score so far: 56.26\n",
                        "2025/07/13 14:27:27 INFO dspy.teleprompt.mipro_optimizer_v2: =======================\n",
                        "2025/07/13 14:27:27 INFO dspy.teleprompt.mipro_optimizer_v2: \n",
                        "\n",
                        "2025/07/13 14:27:27 INFO dspy.teleprompt.mipro_optimizer_v2: == Trial 8 / 23 - Minibatch ==\n"
                    ]
                },
                {
                    "name": "stdout",
                    "output_type": "stream",
                    "text": [
                        "\n",
                        "Average Metric: 20.07 / 35 (57.3%): 100%|██████████| 35/35 [00:20<00:00,  1.74it/s]"
                    ]
                },
                {
                    "name": "stderr",
                    "output_type": "stream",
                    "text": [
                        "2025/07/13 14:27:47 INFO dspy.evaluate.evaluate: Average Metric: 20.070874741662752 / 35 (57.3%)\n",
                        "2025/07/13 14:27:47 INFO dspy.teleprompt.mipro_optimizer_v2: Score: 57.35 on minibatch of size 35 with parameters ['Predictor 0: Instruction 4', 'Predictor 0: Few-Shot Set 6'].\n",
                        "2025/07/13 14:27:47 INFO dspy.teleprompt.mipro_optimizer_v2: Minibatch scores so far: [60.5, 49.37, 56.45, 56.69, 54.13, 57.35]\n",
                        "2025/07/13 14:27:47 INFO dspy.teleprompt.mipro_optimizer_v2: Full eval scores so far: [55.15, 56.26]\n",
                        "2025/07/13 14:27:47 INFO dspy.teleprompt.mipro_optimizer_v2: Best full score so far: 56.26\n",
                        "2025/07/13 14:27:47 INFO dspy.teleprompt.mipro_optimizer_v2: =========================================\n",
                        "\n",
                        "\n",
                        "2025/07/13 14:27:47 INFO dspy.teleprompt.mipro_optimizer_v2: == Trial 9 / 23 - Minibatch ==\n"
                    ]
                },
                {
                    "name": "stdout",
                    "output_type": "stream",
                    "text": [
                        "\n",
                        "Average Metric: 20.72 / 35 (59.2%): 100%|██████████| 35/35 [00:21<00:00,  1.66it/s]"
                    ]
                },
                {
                    "name": "stderr",
                    "output_type": "stream",
                    "text": [
                        "2025/07/13 14:28:08 INFO dspy.evaluate.evaluate: Average Metric: 20.724994833319 / 35 (59.2%)\n",
                        "2025/07/13 14:28:08 INFO dspy.teleprompt.mipro_optimizer_v2: Score: 59.21 on minibatch of size 35 with parameters ['Predictor 0: Instruction 5', 'Predictor 0: Few-Shot Set 1'].\n",
                        "2025/07/13 14:28:08 INFO dspy.teleprompt.mipro_optimizer_v2: Minibatch scores so far: [60.5, 49.37, 56.45, 56.69, 54.13, 57.35, 59.21]\n",
                        "2025/07/13 14:28:08 INFO dspy.teleprompt.mipro_optimizer_v2: Full eval scores so far: [55.15, 56.26]\n",
                        "2025/07/13 14:28:08 INFO dspy.teleprompt.mipro_optimizer_v2: Best full score so far: 56.26\n",
                        "2025/07/13 14:28:08 INFO dspy.teleprompt.mipro_optimizer_v2: =========================================\n",
                        "\n",
                        "\n",
                        "2025/07/13 14:28:08 INFO dspy.teleprompt.mipro_optimizer_v2: == Trial 10 / 23 - Minibatch ==\n"
                    ]
                },
                {
                    "name": "stdout",
                    "output_type": "stream",
                    "text": [
                        "\n",
                        "Average Metric: 19.13 / 35 (54.7%): 100%|██████████| 35/35 [00:18<00:00,  1.93it/s]"
                    ]
                },
                {
                    "name": "stderr",
                    "output_type": "stream",
                    "text": [
                        "2025/07/13 14:28:26 INFO dspy.evaluate.evaluate: Average Metric: 19.131384373992788 / 35 (54.7%)\n"
                    ]
                },
                {
                    "name": "stdout",
                    "output_type": "stream",
                    "text": [
                        "\n"
                    ]
                },
                {
                    "name": "stderr",
                    "output_type": "stream",
                    "text": [
                        "2025/07/13 14:28:26 INFO dspy.teleprompt.mipro_optimizer_v2: Score: 54.66 on minibatch of size 35 with parameters ['Predictor 0: Instruction 3', 'Predictor 0: Few-Shot Set 3'].\n",
                        "2025/07/13 14:28:26 INFO dspy.teleprompt.mipro_optimizer_v2: Minibatch scores so far: [60.5, 49.37, 56.45, 56.69, 54.13, 57.35, 59.21, 54.66]\n",
                        "2025/07/13 14:28:26 INFO dspy.teleprompt.mipro_optimizer_v2: Full eval scores so far: [55.15, 56.26]\n",
                        "2025/07/13 14:28:26 INFO dspy.teleprompt.mipro_optimizer_v2: Best full score so far: 56.26\n",
                        "2025/07/13 14:28:26 INFO dspy.teleprompt.mipro_optimizer_v2: ==========================================\n",
                        "\n",
                        "\n",
                        "2025/07/13 14:28:26 INFO dspy.teleprompt.mipro_optimizer_v2: == Trial 11 / 23 - Minibatch ==\n"
                    ]
                },
                {
                    "name": "stdout",
                    "output_type": "stream",
                    "text": [
                        "Average Metric: 18.17 / 35 (51.9%): 100%|██████████| 35/35 [00:01<00:00, 26.86it/s]"
                    ]
                },
                {
                    "name": "stderr",
                    "output_type": "stream",
                    "text": [
                        "2025/07/13 14:28:28 INFO dspy.evaluate.evaluate: Average Metric: 18.172819512197155 / 35 (51.9%)\n",
                        "2025/07/13 14:28:28 INFO dspy.teleprompt.mipro_optimizer_v2: Score: 51.92 on minibatch of size 35 with parameters ['Predictor 0: Instruction 1', 'Predictor 0: Few-Shot Set 6'].\n",
                        "2025/07/13 14:28:28 INFO dspy.teleprompt.mipro_optimizer_v2: Minibatch scores so far: [60.5, 49.37, 56.45, 56.69, 54.13, 57.35, 59.21, 54.66, 51.92]\n",
                        "2025/07/13 14:28:28 INFO dspy.teleprompt.mipro_optimizer_v2: Full eval scores so far: [55.15, 56.26]\n",
                        "2025/07/13 14:28:28 INFO dspy.teleprompt.mipro_optimizer_v2: Best full score so far: 56.26\n",
                        "2025/07/13 14:28:28 INFO dspy.teleprompt.mipro_optimizer_v2: ==========================================\n",
                        "\n",
                        "\n",
                        "2025/07/13 14:28:28 INFO dspy.teleprompt.mipro_optimizer_v2: == Trial 12 / 23 - Minibatch ==\n"
                    ]
                },
                {
                    "name": "stdout",
                    "output_type": "stream",
                    "text": [
                        "\n",
                        "Average Metric: 19.09 / 35 (54.6%): 100%|██████████| 35/35 [00:15<00:00,  2.24it/s]"
                    ]
                },
                {
                    "name": "stderr",
                    "output_type": "stream",
                    "text": [
                        "2025/07/13 14:28:43 INFO dspy.evaluate.evaluate: Average Metric: 19.094702248888762 / 35 (54.6%)\n",
                        "2025/07/13 14:28:43 INFO dspy.teleprompt.mipro_optimizer_v2: Score: 54.56 on minibatch of size 35 with parameters ['Predictor 0: Instruction 5', 'Predictor 0: Few-Shot Set 1'].\n",
                        "2025/07/13 14:28:43 INFO dspy.teleprompt.mipro_optimizer_v2: Minibatch scores so far: [60.5, 49.37, 56.45, 56.69, 54.13, 57.35, 59.21, 54.66, 51.92, 54.56]\n",
                        "2025/07/13 14:28:43 INFO dspy.teleprompt.mipro_optimizer_v2: Full eval scores so far: [55.15, 56.26]\n",
                        "2025/07/13 14:28:43 INFO dspy.teleprompt.mipro_optimizer_v2: Best full score so far: 56.26\n",
                        "2025/07/13 14:28:43 INFO dspy.teleprompt.mipro_optimizer_v2: ==========================================\n",
                        "\n",
                        "\n",
                        "2025/07/13 14:28:43 INFO dspy.teleprompt.mipro_optimizer_v2: ===== Trial 13 / 23 - Full Evaluation =====\n",
                        "2025/07/13 14:28:43 INFO dspy.teleprompt.mipro_optimizer_v2: Doing full eval on next top averaging program (Avg Score: 57.35) from minibatch trials...\n"
                    ]
                },
                {
                    "name": "stdout",
                    "output_type": "stream",
                    "text": [
                        "\n",
                        "Average Metric: 91.86 / 160 (57.4%): 100%|██████████| 160/160 [00:53<00:00,  3.02it/s]"
                    ]
                },
                {
                    "name": "stderr",
                    "output_type": "stream",
                    "text": [
                        "2025/07/13 14:29:37 INFO dspy.evaluate.evaluate: Average Metric: 91.85627952838095 / 160 (57.4%)\n",
                        "2025/07/13 14:29:37 INFO dspy.teleprompt.mipro_optimizer_v2: \u001b[92mNew best full eval score!\u001b[0m Score: 57.41\n",
                        "2025/07/13 14:29:37 INFO dspy.teleprompt.mipro_optimizer_v2: Full eval scores so far: [55.15, 56.26, 57.41]\n",
                        "2025/07/13 14:29:37 INFO dspy.teleprompt.mipro_optimizer_v2: Best full score so far: 57.41\n",
                        "2025/07/13 14:29:37 INFO dspy.teleprompt.mipro_optimizer_v2: =======================\n",
                        "2025/07/13 14:29:37 INFO dspy.teleprompt.mipro_optimizer_v2: \n",
                        "\n",
                        "2025/07/13 14:29:37 INFO dspy.teleprompt.mipro_optimizer_v2: == Trial 14 / 23 - Minibatch ==\n"
                    ]
                },
                {
                    "name": "stdout",
                    "output_type": "stream",
                    "text": [
                        "\n",
                        "Average Metric: 17.80 / 35 (50.9%): 100%|██████████| 35/35 [00:18<00:00,  1.88it/s]"
                    ]
                },
                {
                    "name": "stderr",
                    "output_type": "stream",
                    "text": [
                        "2025/07/13 14:29:55 INFO dspy.evaluate.evaluate: Average Metric: 17.803539893046057 / 35 (50.9%)\n",
                        "2025/07/13 14:29:55 INFO dspy.teleprompt.mipro_optimizer_v2: Score: 50.87 on minibatch of size 35 with parameters ['Predictor 0: Instruction 5', 'Predictor 0: Few-Shot Set 10'].\n",
                        "2025/07/13 14:29:55 INFO dspy.teleprompt.mipro_optimizer_v2: Minibatch scores so far: [60.5, 49.37, 56.45, 56.69, 54.13, 57.35, 59.21, 54.66, 51.92, 54.56, 50.87]\n",
                        "2025/07/13 14:29:55 INFO dspy.teleprompt.mipro_optimizer_v2: Full eval scores so far: [55.15, 56.26, 57.41]\n",
                        "2025/07/13 14:29:55 INFO dspy.teleprompt.mipro_optimizer_v2: Best full score so far: 57.41\n",
                        "2025/07/13 14:29:55 INFO dspy.teleprompt.mipro_optimizer_v2: ==========================================\n",
                        "\n",
                        "\n",
                        "2025/07/13 14:29:55 INFO dspy.teleprompt.mipro_optimizer_v2: == Trial 15 / 23 - Minibatch ==\n"
                    ]
                },
                {
                    "name": "stdout",
                    "output_type": "stream",
                    "text": [
                        "\n",
                        "Average Metric: 6.68 / 11 (60.7%):  31%|███▏      | 11/35 [00:10<00:07,  3.25it/s]"
                    ]
                },
                {
                    "name": "stderr",
                    "output_type": "stream",
                    "text": [
                        "2025/07/13 14:30:06 WARNING dspy.adapters.json_adapter: Failed to use structured output format, falling back to JSON mode.\n"
                    ]
                },
                {
                    "name": "stdout",
                    "output_type": "stream",
                    "text": [
                        "Average Metric: 20.27 / 35 (57.9%): 100%|██████████| 35/35 [00:19<00:00,  1.79it/s]"
                    ]
                },
                {
                    "name": "stderr",
                    "output_type": "stream",
                    "text": [
                        "2025/07/13 14:30:15 INFO dspy.evaluate.evaluate: Average Metric: 20.268202712170698 / 35 (57.9%)\n",
                        "2025/07/13 14:30:15 INFO dspy.teleprompt.mipro_optimizer_v2: Score: 57.91 on minibatch of size 35 with parameters ['Predictor 0: Instruction 1', 'Predictor 0: Few-Shot Set 9'].\n"
                    ]
                },
                {
                    "name": "stdout",
                    "output_type": "stream",
                    "text": [
                        "\n"
                    ]
                },
                {
                    "name": "stderr",
                    "output_type": "stream",
                    "text": [
                        "2025/07/13 14:30:15 INFO dspy.teleprompt.mipro_optimizer_v2: Minibatch scores so far: [60.5, 49.37, 56.45, 56.69, 54.13, 57.35, 59.21, 54.66, 51.92, 54.56, 50.87, 57.91]\n",
                        "2025/07/13 14:30:15 INFO dspy.teleprompt.mipro_optimizer_v2: Full eval scores so far: [55.15, 56.26, 57.41]\n",
                        "2025/07/13 14:30:15 INFO dspy.teleprompt.mipro_optimizer_v2: Best full score so far: 57.41\n",
                        "2025/07/13 14:30:15 INFO dspy.teleprompt.mipro_optimizer_v2: ==========================================\n",
                        "\n",
                        "\n",
                        "2025/07/13 14:30:15 INFO dspy.teleprompt.mipro_optimizer_v2: == Trial 16 / 23 - Minibatch ==\n"
                    ]
                },
                {
                    "name": "stdout",
                    "output_type": "stream",
                    "text": [
                        "Average Metric: 19.43 / 35 (55.5%): 100%|██████████| 35/35 [00:22<00:00,  1.59it/s]"
                    ]
                },
                {
                    "name": "stderr",
                    "output_type": "stream",
                    "text": [
                        "2025/07/13 14:30:37 INFO dspy.evaluate.evaluate: Average Metric: 19.42702844049844 / 35 (55.5%)\n",
                        "2025/07/13 14:30:37 INFO dspy.teleprompt.mipro_optimizer_v2: Score: 55.51 on minibatch of size 35 with parameters ['Predictor 0: Instruction 1', 'Predictor 0: Few-Shot Set 7'].\n",
                        "2025/07/13 14:30:37 INFO dspy.teleprompt.mipro_optimizer_v2: Minibatch scores so far: [60.5, 49.37, 56.45, 56.69, 54.13, 57.35, 59.21, 54.66, 51.92, 54.56, 50.87, 57.91, 55.51]\n",
                        "2025/07/13 14:30:37 INFO dspy.teleprompt.mipro_optimizer_v2: Full eval scores so far: [55.15, 56.26, 57.41]\n",
                        "2025/07/13 14:30:37 INFO dspy.teleprompt.mipro_optimizer_v2: Best full score so far: 57.41\n",
                        "2025/07/13 14:30:37 INFO dspy.teleprompt.mipro_optimizer_v2: ==========================================\n",
                        "\n",
                        "\n",
                        "2025/07/13 14:30:37 INFO dspy.teleprompt.mipro_optimizer_v2: == Trial 17 / 23 - Minibatch ==\n"
                    ]
                },
                {
                    "name": "stdout",
                    "output_type": "stream",
                    "text": [
                        "\n",
                        "Average Metric: 19.51 / 35 (55.8%): 100%|██████████| 35/35 [00:20<00:00,  1.72it/s]"
                    ]
                },
                {
                    "name": "stderr",
                    "output_type": "stream",
                    "text": [
                        "2025/07/13 14:30:57 INFO dspy.evaluate.evaluate: Average Metric: 19.51391465719073 / 35 (55.8%)\n",
                        "2025/07/13 14:30:57 INFO dspy.teleprompt.mipro_optimizer_v2: Score: 55.75 on minibatch of size 35 with parameters ['Predictor 0: Instruction 5', 'Predictor 0: Few-Shot Set 8'].\n",
                        "2025/07/13 14:30:57 INFO dspy.teleprompt.mipro_optimizer_v2: Minibatch scores so far: [60.5, 49.37, 56.45, 56.69, 54.13, 57.35, 59.21, 54.66, 51.92, 54.56, 50.87, 57.91, 55.51, 55.75]\n",
                        "2025/07/13 14:30:57 INFO dspy.teleprompt.mipro_optimizer_v2: Full eval scores so far: [55.15, 56.26, 57.41]\n",
                        "2025/07/13 14:30:57 INFO dspy.teleprompt.mipro_optimizer_v2: Best full score so far: 57.41\n",
                        "2025/07/13 14:30:57 INFO dspy.teleprompt.mipro_optimizer_v2: ==========================================\n",
                        "\n",
                        "\n",
                        "2025/07/13 14:30:57 INFO dspy.teleprompt.mipro_optimizer_v2: == Trial 18 / 23 - Minibatch ==\n"
                    ]
                },
                {
                    "name": "stdout",
                    "output_type": "stream",
                    "text": [
                        "\n",
                        "Average Metric: 20.53 / 35 (58.7%): 100%|██████████| 35/35 [00:21<00:00,  1.60it/s]"
                    ]
                },
                {
                    "name": "stderr",
                    "output_type": "stream",
                    "text": [
                        "2025/07/13 14:31:19 INFO dspy.evaluate.evaluate: Average Metric: 20.530047965509066 / 35 (58.7%)\n",
                        "2025/07/13 14:31:19 INFO dspy.teleprompt.mipro_optimizer_v2: Score: 58.66 on minibatch of size 35 with parameters ['Predictor 0: Instruction 5', 'Predictor 0: Few-Shot Set 9'].\n",
                        "2025/07/13 14:31:19 INFO dspy.teleprompt.mipro_optimizer_v2: Minibatch scores so far: [60.5, 49.37, 56.45, 56.69, 54.13, 57.35, 59.21, 54.66, 51.92, 54.56, 50.87, 57.91, 55.51, 55.75, 58.66]\n",
                        "2025/07/13 14:31:19 INFO dspy.teleprompt.mipro_optimizer_v2: Full eval scores so far: [55.15, 56.26, 57.41]\n",
                        "2025/07/13 14:31:19 INFO dspy.teleprompt.mipro_optimizer_v2: Best full score so far: 57.41\n",
                        "2025/07/13 14:31:19 INFO dspy.teleprompt.mipro_optimizer_v2: ==========================================\n",
                        "\n",
                        "\n",
                        "2025/07/13 14:31:19 INFO dspy.teleprompt.mipro_optimizer_v2: ===== Trial 19 / 23 - Full Evaluation =====\n",
                        "2025/07/13 14:31:19 INFO dspy.teleprompt.mipro_optimizer_v2: Doing full eval on next top averaging program (Avg Score: 58.66) from minibatch trials...\n"
                    ]
                },
                {
                    "name": "stdout",
                    "output_type": "stream",
                    "text": [
                        "\n",
                        "Average Metric: 90.20 / 160 (56.4%): 100%|██████████| 160/160 [00:55<00:00,  2.90it/s]"
                    ]
                },
                {
                    "name": "stderr",
                    "output_type": "stream",
                    "text": [
                        "2025/07/13 14:32:14 INFO dspy.evaluate.evaluate: Average Metric: 90.20462290821547 / 160 (56.4%)\n",
                        "2025/07/13 14:32:14 INFO dspy.teleprompt.mipro_optimizer_v2: Full eval scores so far: [55.15, 56.26, 57.41, 56.38]\n",
                        "2025/07/13 14:32:14 INFO dspy.teleprompt.mipro_optimizer_v2: Best full score so far: 57.41\n",
                        "2025/07/13 14:32:14 INFO dspy.teleprompt.mipro_optimizer_v2: =======================\n",
                        "2025/07/13 14:32:14 INFO dspy.teleprompt.mipro_optimizer_v2: \n",
                        "\n",
                        "2025/07/13 14:32:14 INFO dspy.teleprompt.mipro_optimizer_v2: == Trial 20 / 23 - Minibatch ==\n"
                    ]
                },
                {
                    "name": "stdout",
                    "output_type": "stream",
                    "text": [
                        "\n",
                        "Average Metric: 20.09 / 35 (57.4%): 100%|██████████| 35/35 [00:21<00:00,  1.63it/s]"
                    ]
                },
                {
                    "name": "stderr",
                    "output_type": "stream",
                    "text": [
                        "2025/07/13 14:32:36 INFO dspy.evaluate.evaluate: Average Metric: 20.089864909446547 / 35 (57.4%)\n",
                        "2025/07/13 14:32:36 INFO dspy.teleprompt.mipro_optimizer_v2: Score: 57.4 on minibatch of size 35 with parameters ['Predictor 0: Instruction 2', 'Predictor 0: Few-Shot Set 6'].\n",
                        "2025/07/13 14:32:36 INFO dspy.teleprompt.mipro_optimizer_v2: Minibatch scores so far: [60.5, 49.37, 56.45, 56.69, 54.13, 57.35, 59.21, 54.66, 51.92, 54.56, 50.87, 57.91, 55.51, 55.75, 58.66, 57.4]\n",
                        "2025/07/13 14:32:36 INFO dspy.teleprompt.mipro_optimizer_v2: Full eval scores so far: [55.15, 56.26, 57.41, 56.38]\n",
                        "2025/07/13 14:32:36 INFO dspy.teleprompt.mipro_optimizer_v2: Best full score so far: 57.41\n",
                        "2025/07/13 14:32:36 INFO dspy.teleprompt.mipro_optimizer_v2: ==========================================\n",
                        "\n",
                        "\n",
                        "2025/07/13 14:32:36 INFO dspy.teleprompt.mipro_optimizer_v2: == Trial 21 / 23 - Minibatch ==\n"
                    ]
                },
                {
                    "name": "stdout",
                    "output_type": "stream",
                    "text": [
                        "\n",
                        "Average Metric: 19.60 / 35 (56.0%): 100%|██████████| 35/35 [00:20<00:00,  1.71it/s]"
                    ]
                },
                {
                    "name": "stderr",
                    "output_type": "stream",
                    "text": [
                        "2025/07/13 14:32:56 INFO dspy.evaluate.evaluate: Average Metric: 19.59549286044601 / 35 (56.0%)\n",
                        "2025/07/13 14:32:56 INFO dspy.teleprompt.mipro_optimizer_v2: Score: 55.99 on minibatch of size 35 with parameters ['Predictor 0: Instruction 0', 'Predictor 0: Few-Shot Set 1'].\n",
                        "2025/07/13 14:32:56 INFO dspy.teleprompt.mipro_optimizer_v2: Minibatch scores so far: [60.5, 49.37, 56.45, 56.69, 54.13, 57.35, 59.21, 54.66, 51.92, 54.56, 50.87, 57.91, 55.51, 55.75, 58.66, 57.4, 55.99]\n",
                        "2025/07/13 14:32:56 INFO dspy.teleprompt.mipro_optimizer_v2: Full eval scores so far: [55.15, 56.26, 57.41, 56.38]\n",
                        "2025/07/13 14:32:56 INFO dspy.teleprompt.mipro_optimizer_v2: Best full score so far: 57.41\n",
                        "2025/07/13 14:32:56 INFO dspy.teleprompt.mipro_optimizer_v2: ==========================================\n",
                        "\n",
                        "\n",
                        "2025/07/13 14:32:56 INFO dspy.teleprompt.mipro_optimizer_v2: == Trial 22 / 23 - Minibatch ==\n"
                    ]
                },
                {
                    "name": "stdout",
                    "output_type": "stream",
                    "text": [
                        "\n",
                        "Average Metric: 22.80 / 35 (65.1%): 100%|██████████| 35/35 [00:20<00:00,  1.69it/s]"
                    ]
                },
                {
                    "name": "stderr",
                    "output_type": "stream",
                    "text": [
                        "2025/07/13 14:33:17 INFO dspy.evaluate.evaluate: Average Metric: 22.796277534287974 / 35 (65.1%)\n",
                        "2025/07/13 14:33:17 INFO dspy.teleprompt.mipro_optimizer_v2: Score: 65.13 on minibatch of size 35 with parameters ['Predictor 0: Instruction 5', 'Predictor 0: Few-Shot Set 7'].\n",
                        "2025/07/13 14:33:17 INFO dspy.teleprompt.mipro_optimizer_v2: Minibatch scores so far: [60.5, 49.37, 56.45, 56.69, 54.13, 57.35, 59.21, 54.66, 51.92, 54.56, 50.87, 57.91, 55.51, 55.75, 58.66, 57.4, 55.99, 65.13]\n",
                        "2025/07/13 14:33:17 INFO dspy.teleprompt.mipro_optimizer_v2: Full eval scores so far: [55.15, 56.26, 57.41, 56.38]\n",
                        "2025/07/13 14:33:17 INFO dspy.teleprompt.mipro_optimizer_v2: Best full score so far: 57.41\n",
                        "2025/07/13 14:33:17 INFO dspy.teleprompt.mipro_optimizer_v2: ==========================================\n",
                        "\n",
                        "\n",
                        "2025/07/13 14:33:17 INFO dspy.teleprompt.mipro_optimizer_v2: ===== Trial 23 / 23 - Full Evaluation =====\n",
                        "2025/07/13 14:33:17 INFO dspy.teleprompt.mipro_optimizer_v2: Doing full eval on next top averaging program (Avg Score: 65.13) from minibatch trials...\n"
                    ]
                },
                {
                    "name": "stdout",
                    "output_type": "stream",
                    "text": [
                        "\n",
                        "Average Metric: 93.15 / 160 (58.2%): 100%|██████████| 160/160 [00:51<00:00,  3.09it/s]"
                    ]
                },
                {
                    "name": "stderr",
                    "output_type": "stream",
                    "text": [
                        "2025/07/13 14:34:09 INFO dspy.evaluate.evaluate: Average Metric: 93.14748450501101 / 160 (58.2%)\n",
                        "2025/07/13 14:34:09 INFO dspy.teleprompt.mipro_optimizer_v2: \u001b[92mNew best full eval score!\u001b[0m Score: 58.22\n",
                        "2025/07/13 14:34:09 INFO dspy.teleprompt.mipro_optimizer_v2: Full eval scores so far: [55.15, 56.26, 57.41, 56.38, 58.22]\n",
                        "2025/07/13 14:34:09 INFO dspy.teleprompt.mipro_optimizer_v2: Best full score so far: 58.22\n",
                        "2025/07/13 14:34:09 INFO dspy.teleprompt.mipro_optimizer_v2: =======================\n",
                        "2025/07/13 14:34:09 INFO dspy.teleprompt.mipro_optimizer_v2: \n",
                        "\n",
                        "2025/07/13 14:34:09 INFO dspy.teleprompt.mipro_optimizer_v2: Returning best identified program with score 58.22!\n"
                    ]
                },
                {
                    "name": "stdout",
                    "output_type": "stream",
                    "text": [
                        "\n"
                    ]
                }
            ],
            "source": [
                "tp = dspy.MIPROv2(metric=metric, auto=\"medium\", num_threads=24)  # use fewer threads if your rate limit is small\n",
                "\n",
                "optimized_rag = tp.compile(RAG(), trainset=trainset,\n",
                "                           max_bootstrapped_demos=2, max_labeled_demos=2,\n",
                "                           requires_permission_to_run=False)"
            ]
        },
        {
            "cell_type": "code",
            "execution_count": 45,
            "id": "4852ff5c",
            "metadata": {},
            "outputs": [
                {
                    "name": "stdout",
                    "output_type": "stream",
                    "text": [
                        "By default, cmd+tab on macOS cycles through open applications, but it does not always bring minimized or hidden windows to the foreground. If you try to switch to a minimized window using cmd+tab, the app may become active, but its window will remain minimized. To work around this, you can use third-party apps like Witch (as mentioned in [1]) that offer more control over window management, including options to ignore minimized windows. Additionally, you can adjust Mission Control settings (see [2]) to change how spaces and windows are handled when switching applications. However, the default behavior is that cmd+tab does not restore minimized or hidden windows.\n"
                    ]
                },
                {
                    "data": {
                        "text/html": [
                            "\n",
                            "<div>\n",
                            "  <style scoped>\n",
                            "  button {\n",
                            "    border: none;\n",
                            "    border-radius: 4px;\n",
                            "    background-color: rgb(34, 114, 180);\n",
                            "    font-family: -apple-system, \"system-ui\", \"Segoe UI\", Roboto, \"Helvetica Neue\", Arial;\n",
                            "    font-size: 13px;\n",
                            "    color: white;\n",
                            "    margin-top: 8px;\n",
                            "    margin-bottom: 8px;\n",
                            "    padding: 8px 16px;\n",
                            "    cursor: pointer;\n",
                            "  }\n",
                            "  button:hover {\n",
                            "    background-color: rgb(66, 153, 224);\n",
                            "  }\n",
                            "  </style>\n",
                            "  <button\n",
                            "    onclick=\"\n",
                            "        const display = this.nextElementSibling.style.display;\n",
                            "        const isCollapsed = display === 'none';\n",
                            "        this.nextElementSibling.style.display = isCollapsed ? null : 'none';\n",
                            "\n",
                            "        const verb = isCollapsed ? 'Collapse' : 'Expand';\n",
                            "        this.innerText = `${verb} MLflow Trace`;\n",
                            "    \"\n",
                            "  >Collapse MLflow Trace</button>\n",
                            "  <iframe\n",
                            "    id=\"trace-renderer\"\n",
                            "    style=\"width: 100%; height: 500px; border: none; resize: vertical;\"\n",
                            "    src=\"http://localhost:5000/static-files/lib/notebook-trace-renderer/index.html?trace_id=147cf8e6ee394f4582ebcb6708b8bc78&amp;experiment_id=754260582185799111&amp;version=3.1.1\"\n",
                            "  />\n",
                            "</div>\n"
                        ],
                        "text/plain": [
                            "Trace(trace_id=147cf8e6ee394f4582ebcb6708b8bc78)"
                        ]
                    },
                    "metadata": {},
                    "output_type": "display_data"
                }
            ],
            "source": [
                "baseline = rag(question=\"cmd+tab does not work on hidden or minimized windows\")\n",
                "print(baseline.response)"
            ]
        },
        {
            "cell_type": "code",
            "execution_count": 46,
            "id": "b377c2be",
            "metadata": {},
            "outputs": [
                {
                    "name": "stdout",
                    "output_type": "stream",
                    "text": [
                        "By default, cmd+tab on macOS switches between applications but does not restore or focus minimized or hidden windows. If you switch to an app whose windows are minimized, the app becomes active, but its windows remain minimized. To change this behavior, you can try:\n",
                        "- Going to System Preferences > Mission Control and unchecking \"When switching to an application, switch to a Space with open windows for the application.\"\n",
                        "- Using third-party utilities like Witch for more advanced window management.\n",
                        "Alternatively, you can manually restore minimized windows by clicking their icons in the Dock.\n"
                    ]
                },
                {
                    "data": {
                        "text/html": [
                            "\n",
                            "<div>\n",
                            "  <style scoped>\n",
                            "  button {\n",
                            "    border: none;\n",
                            "    border-radius: 4px;\n",
                            "    background-color: rgb(34, 114, 180);\n",
                            "    font-family: -apple-system, \"system-ui\", \"Segoe UI\", Roboto, \"Helvetica Neue\", Arial;\n",
                            "    font-size: 13px;\n",
                            "    color: white;\n",
                            "    margin-top: 8px;\n",
                            "    margin-bottom: 8px;\n",
                            "    padding: 8px 16px;\n",
                            "    cursor: pointer;\n",
                            "  }\n",
                            "  button:hover {\n",
                            "    background-color: rgb(66, 153, 224);\n",
                            "  }\n",
                            "  </style>\n",
                            "  <button\n",
                            "    onclick=\"\n",
                            "        const display = this.nextElementSibling.style.display;\n",
                            "        const isCollapsed = display === 'none';\n",
                            "        this.nextElementSibling.style.display = isCollapsed ? null : 'none';\n",
                            "\n",
                            "        const verb = isCollapsed ? 'Collapse' : 'Expand';\n",
                            "        this.innerText = `${verb} MLflow Trace`;\n",
                            "    \"\n",
                            "  >Collapse MLflow Trace</button>\n",
                            "  <iframe\n",
                            "    id=\"trace-renderer\"\n",
                            "    style=\"width: 100%; height: 500px; border: none; resize: vertical;\"\n",
                            "    src=\"http://localhost:5000/static-files/lib/notebook-trace-renderer/index.html?trace_id=1ba7c468679a4e7eaa8b9383fb64c535&amp;experiment_id=754260582185799111&amp;version=3.1.1\"\n",
                            "  />\n",
                            "</div>\n"
                        ],
                        "text/plain": [
                            "Trace(trace_id=1ba7c468679a4e7eaa8b9383fb64c535)"
                        ]
                    },
                    "metadata": {},
                    "output_type": "display_data"
                }
            ],
            "source": [
                "pred = optimized_rag(question=\"cmd+tab does not work on hidden or minimized windows\")\n",
                "print(pred.response)"
            ]
        },
        {
            "cell_type": "code",
            "execution_count": 47,
            "id": "c692e44a",
            "metadata": {},
            "outputs": [
                {
                    "name": "stdout",
                    "output_type": "stream",
                    "text": [
                        "Average Metric: 165.61 / 300 (55.2%): 100%|██████████| 300/300 [01:58<00:00,  2.53it/s]"
                    ]
                },
                {
                    "name": "stderr",
                    "output_type": "stream",
                    "text": [
                        "2025/07/13 14:41:09 INFO dspy.evaluate.evaluate: Average Metric: 165.60628529485274 / 300 (55.2%)\n"
                    ]
                },
                {
                    "name": "stdout",
                    "output_type": "stream",
                    "text": [
                        "\n"
                    ]
                },
                {
                    "data": {
                        "text/html": [
                            "<div>\n",
                            "<style scoped>\n",
                            "    .dataframe tbody tr th:only-of-type {\n",
                            "        vertical-align: middle;\n",
                            "    }\n",
                            "\n",
                            "    .dataframe tbody tr th {\n",
                            "        vertical-align: top;\n",
                            "    }\n",
                            "\n",
                            "    .dataframe thead th {\n",
                            "        text-align: right;\n",
                            "    }\n",
                            "</style>\n",
                            "<table border=\"1\" class=\"dataframe\">\n",
                            "  <thead>\n",
                            "    <tr style=\"text-align: right;\">\n",
                            "      <th></th>\n",
                            "      <th>question</th>\n",
                            "      <th>example_response</th>\n",
                            "      <th>gold_doc_ids</th>\n",
                            "      <th>reasoning</th>\n",
                            "      <th>pred_response</th>\n",
                            "      <th>SemanticF1</th>\n",
                            "    </tr>\n",
                            "  </thead>\n",
                            "  <tbody>\n",
                            "    <tr>\n",
                            "      <th>0</th>\n",
                            "      <td>when to use c over c++, and c++ over c?</td>\n",
                            "      <td>If you are equally familiar with both C++ and C, it's advisable to...</td>\n",
                            "      <td>[733]</td>\n",
                            "      <td>The context provides several perspectives on when to use C versus ...</td>\n",
                            "      <td>Use C over C++ when: - You are working in embedded systems or envi...</td>\n",
                            "      <td>✔️ [0.400]</td>\n",
                            "    </tr>\n",
                            "    <tr>\n",
                            "      <th>1</th>\n",
                            "      <td>should images be stored in a git repository?</td>\n",
                            "      <td>One viewpoint expresses that there is no significant downside, esp...</td>\n",
                            "      <td>[6253, 6254, 6275, 6278, 8215]</td>\n",
                            "      <td>The context provides several perspectives on storing images in a g...</td>\n",
                            "      <td>Images can be stored in a git repository, especially if they are a...</td>\n",
                            "      <td>✔️ [0.727]</td>\n",
                            "    </tr>\n",
                            "  </tbody>\n",
                            "</table>\n",
                            "</div>"
                        ],
                        "text/plain": [
                            "                                       question  \\\n",
                            "0       when to use c over c++, and c++ over c?   \n",
                            "1  should images be stored in a git repository?   \n",
                            "\n",
                            "                                                        example_response  \\\n",
                            "0  If you are equally familiar with both C++ and C, it's advisable to...   \n",
                            "1  One viewpoint expresses that there is no significant downside, esp...   \n",
                            "\n",
                            "                     gold_doc_ids  \\\n",
                            "0                           [733]   \n",
                            "1  [6253, 6254, 6275, 6278, 8215]   \n",
                            "\n",
                            "                                                               reasoning  \\\n",
                            "0  The context provides several perspectives on when to use C versus ...   \n",
                            "1  The context provides several perspectives on storing images in a g...   \n",
                            "\n",
                            "                                                           pred_response  \\\n",
                            "0  Use C over C++ when: - You are working in embedded systems or envi...   \n",
                            "1  Images can be stored in a git repository, especially if they are a...   \n",
                            "\n",
                            "   SemanticF1  \n",
                            "0  ✔️ [0.400]  \n",
                            "1  ✔️ [0.727]  "
                        ]
                    },
                    "metadata": {},
                    "output_type": "display_data"
                },
                {
                    "data": {
                        "text/html": [
                            "\n",
                            "            <div style='\n",
                            "                text-align: center;\n",
                            "                font-size: 16px;\n",
                            "                font-weight: bold;\n",
                            "                color: #555;\n",
                            "                margin: 10px 0;'>\n",
                            "                ... 298 more rows not displayed ...\n",
                            "            </div>\n",
                            "            "
                        ],
                        "text/plain": [
                            "<IPython.core.display.HTML object>"
                        ]
                    },
                    "metadata": {},
                    "output_type": "display_data"
                },
                {
                    "data": {
                        "text/plain": [
                            "55.2"
                        ]
                    },
                    "execution_count": 47,
                    "metadata": {},
                    "output_type": "execute_result"
                },
                {
                    "data": {
                        "text/html": [
                            "\n",
                            "<div>\n",
                            "  <style scoped>\n",
                            "  button {\n",
                            "    border: none;\n",
                            "    border-radius: 4px;\n",
                            "    background-color: rgb(34, 114, 180);\n",
                            "    font-family: -apple-system, \"system-ui\", \"Segoe UI\", Roboto, \"Helvetica Neue\", Arial;\n",
                            "    font-size: 13px;\n",
                            "    color: white;\n",
                            "    margin-top: 8px;\n",
                            "    margin-bottom: 8px;\n",
                            "    padding: 8px 16px;\n",
                            "    cursor: pointer;\n",
                            "  }\n",
                            "  button:hover {\n",
                            "    background-color: rgb(66, 153, 224);\n",
                            "  }\n",
                            "  </style>\n",
                            "  <button\n",
                            "    onclick=\"\n",
                            "        const display = this.nextElementSibling.style.display;\n",
                            "        const isCollapsed = display === 'none';\n",
                            "        this.nextElementSibling.style.display = isCollapsed ? null : 'none';\n",
                            "\n",
                            "        const verb = isCollapsed ? 'Collapse' : 'Expand';\n",
                            "        this.innerText = `${verb} MLflow Trace`;\n",
                            "    \"\n",
                            "  >Collapse MLflow Trace</button>\n",
                            "  <iframe\n",
                            "    id=\"trace-renderer\"\n",
                            "    style=\"width: 100%; height: 500px; border: none; resize: vertical;\"\n",
                            "    src=\"http://localhost:5000/static-files/lib/notebook-trace-renderer/index.html?trace_id=427e9e9225f24de184016e2e781fc43a&amp;experiment_id=754260582185799111&amp;trace_id=6d6d519dd4514f1992d0939b8628bf8b&amp;experiment_id=754260582185799111&amp;trace_id=c0a3da2223e74b9788370a81e3165837&amp;experiment_id=754260582185799111&amp;trace_id=90792df09c82438e99983960259a8d0f&amp;experiment_id=754260582185799111&amp;trace_id=016c746fee8b45988f014ed347dc7079&amp;experiment_id=754260582185799111&amp;trace_id=311142affce240f1b5241870eae7dc19&amp;experiment_id=754260582185799111&amp;trace_id=26244c9dcf59492a972f7cd704a713ef&amp;experiment_id=754260582185799111&amp;trace_id=5e03b848747f469b94095c349ea37d6a&amp;experiment_id=754260582185799111&amp;trace_id=7f7ea29b921849289a6ca21af35c8bdd&amp;experiment_id=754260582185799111&amp;trace_id=7f7e7700ff684916bc4e5ece8f73776f&amp;experiment_id=754260582185799111&amp;version=3.1.1\"\n",
                            "  />\n",
                            "</div>\n"
                        ],
                        "text/plain": [
                            "[Trace(trace_id=427e9e9225f24de184016e2e781fc43a), Trace(trace_id=6d6d519dd4514f1992d0939b8628bf8b), Trace(trace_id=c0a3da2223e74b9788370a81e3165837), Trace(trace_id=90792df09c82438e99983960259a8d0f), Trace(trace_id=016c746fee8b45988f014ed347dc7079), Trace(trace_id=311142affce240f1b5241870eae7dc19), Trace(trace_id=26244c9dcf59492a972f7cd704a713ef), Trace(trace_id=5e03b848747f469b94095c349ea37d6a), Trace(trace_id=7f7ea29b921849289a6ca21af35c8bdd), Trace(trace_id=7f7e7700ff684916bc4e5ece8f73776f)]"
                        ]
                    },
                    "metadata": {},
                    "output_type": "display_data"
                }
            ],
            "source": [
                "evaluate(optimized_rag)"
            ]
        },
        {
            "cell_type": "code",
            "execution_count": 49,
            "id": "0bea4abe",
            "metadata": {},
            "outputs": [
                {
                    "name": "stdout",
                    "output_type": "stream",
                    "text": [
                        "24.464128\n"
                    ]
                }
            ],
            "source": [
                "cost = sum([x['cost'] for x in lm.history if x['cost'] is not None])  # in USD, as calculated by LiteLLM for certain providers\n",
                "print(cost)"
            ]
        },
        {
            "cell_type": "code",
            "execution_count": 50,
            "id": "5efc56aa",
            "metadata": {},
            "outputs": [
                {
                    "data": {
                        "text/plain": [
                            "Prediction(\n",
                            "    reasoning='The context provides several insights into how macOS handles application switching with cmd+tab, especially regarding minimized or hidden windows. Source [3] explains that when you use cmd+tab to switch to an application, if that application\\'s windows are minimized, they do not automatically become visible or focused. You must switch to another app and let it take focus first before you can bring up a minimized window. Additionally, both the Command and Option keys must be pressed on the same side of the keyboard for certain behaviors. Source [2] suggests adjusting a setting in System Preferences > Mission Control by unchecking \"When switching to an application, switch to a Space with open windows for the application,\" which may affect how cmd+tab interacts with minimized windows. Source [1] mentions that cmd+tab cycles between the most recently used applications, but does not bring up the heads-up display if done quickly, and third-party apps like Witch can offer more control, such as ignoring minimized windows. Overall, the default macOS behavior is that cmd+tab does not restore minimized windows; it only switches application focus.',\n",
                            "    response='By default, cmd+tab on macOS switches between applications but does not restore or focus minimized or hidden windows. If you switch to an app whose windows are minimized, the app becomes active, but its windows remain minimized. To change this behavior, you can try:\\n- Going to System Preferences > Mission Control and unchecking \"When switching to an application, switch to a Space with open windows for the application.\"\\n- Using third-party utilities like Witch for more advanced window management.\\nAlternatively, you can manually restore minimized windows by clicking their icons in the Dock.'\n",
                            ")"
                        ]
                    },
                    "execution_count": 50,
                    "metadata": {},
                    "output_type": "execute_result"
                },
                {
                    "data": {
                        "text/html": [
                            "\n",
                            "<div>\n",
                            "  <style scoped>\n",
                            "  button {\n",
                            "    border: none;\n",
                            "    border-radius: 4px;\n",
                            "    background-color: rgb(34, 114, 180);\n",
                            "    font-family: -apple-system, \"system-ui\", \"Segoe UI\", Roboto, \"Helvetica Neue\", Arial;\n",
                            "    font-size: 13px;\n",
                            "    color: white;\n",
                            "    margin-top: 8px;\n",
                            "    margin-bottom: 8px;\n",
                            "    padding: 8px 16px;\n",
                            "    cursor: pointer;\n",
                            "  }\n",
                            "  button:hover {\n",
                            "    background-color: rgb(66, 153, 224);\n",
                            "  }\n",
                            "  </style>\n",
                            "  <button\n",
                            "    onclick=\"\n",
                            "        const display = this.nextElementSibling.style.display;\n",
                            "        const isCollapsed = display === 'none';\n",
                            "        this.nextElementSibling.style.display = isCollapsed ? null : 'none';\n",
                            "\n",
                            "        const verb = isCollapsed ? 'Collapse' : 'Expand';\n",
                            "        this.innerText = `${verb} MLflow Trace`;\n",
                            "    \"\n",
                            "  >Collapse MLflow Trace</button>\n",
                            "  <iframe\n",
                            "    id=\"trace-renderer\"\n",
                            "    style=\"width: 100%; height: 500px; border: none; resize: vertical;\"\n",
                            "    src=\"http://localhost:5000/static-files/lib/notebook-trace-renderer/index.html?trace_id=2ab89ec5f3bf4402ab2e5addb4cd747c&amp;experiment_id=754260582185799111&amp;version=3.1.1\"\n",
                            "  />\n",
                            "</div>\n"
                        ],
                        "text/plain": [
                            "Trace(trace_id=2ab89ec5f3bf4402ab2e5addb4cd747c)"
                        ]
                    },
                    "metadata": {},
                    "output_type": "display_data"
                }
            ],
            "source": [
                "optimized_rag.save(\"optimized_rag.json\")\n",
                "\n",
                "loaded_rag = RAG()\n",
                "loaded_rag.load(\"optimized_rag.json\")\n",
                "\n",
                "loaded_rag(question=\"cmd+tab does not work on hidden or minimized windows\")"
            ]
        }
    ],
    "metadata": {
        "kernelspec": {
            "display_name": "dspy-azure-eval-example",
            "language": "python",
            "name": "python3"
        },
        "language_info": {
            "codemirror_mode": {
                "name": "ipython",
                "version": 3
            },
            "file_extension": ".py",
            "mimetype": "text/x-python",
            "name": "python",
            "nbconvert_exporter": "python",
            "pygments_lexer": "ipython3",
            "version": "3.12.7"
        }
    },
    "nbformat": 4,
    "nbformat_minor": 5
}
